{
  "nbformat": 4,
  "nbformat_minor": 0,
  "metadata": {
    "kernelspec": {
      "display_name": "Python 3",
      "language": "python",
      "name": "python3"
    },
    "language_info": {
      "codemirror_mode": {
        "name": "ipython",
        "version": 3
      },
      "file_extension": ".py",
      "mimetype": "text/x-python",
      "name": "python",
      "nbconvert_exporter": "python",
      "pygments_lexer": "ipython3",
      "version": "3.6.9"
    },
    "colab": {
      "name": "Rumor Analysis - text only(word2vec).ipynb",
      "provenance": [],
      "collapsed_sections": []
    },
    "accelerator": "GPU"
  },
  "cells": [
    {
      "cell_type": "code",
      "metadata": {
        "id": "kqEWynh49_Qn",
        "colab_type": "code",
        "colab": {}
      },
      "source": [
        "from zipfile import ZipFile"
      ],
      "execution_count": null,
      "outputs": []
    },
    {
      "cell_type": "code",
      "metadata": {
        "id": "FWvahYykDHgz",
        "colab_type": "code",
        "colab": {
          "base_uri": "https://localhost:8080/",
          "height": 53
        },
        "outputId": "e4a26e08-47ed-468c-8fa8-2cf1007d3b1a"
      },
      "source": [
        "file_name1 = '/content/rumoureval-2019-test-data.zip'\n",
        "\n",
        "with ZipFile(file_name1) as zip1:\n",
        "  zip1.extractall()\n",
        "  print('Done')\n",
        "\n",
        "file_name2 = '/content/rumoureval-2019-training-data.zip'\n",
        "\n",
        "with ZipFile(file_name2) as zip2:\n",
        "  zip2.extractall()\n",
        "  print('Done')"
      ],
      "execution_count": null,
      "outputs": [
        {
          "output_type": "stream",
          "text": [
            "Done\n",
            "Done\n"
          ],
          "name": "stdout"
        }
      ]
    },
    {
      "cell_type": "code",
      "metadata": {
        "id": "ui-T6jH5Kkco",
        "colab_type": "code",
        "colab": {}
      },
      "source": [
        "import json\n",
        "import math\n",
        "from os import listdir\n",
        "import sys\n",
        "import re\n",
        "import gensim\n",
        "import requests\n",
        "from collections import Counter\n",
        "\n",
        "import numpy as np\n",
        "from sklearn.metrics import accuracy_score, precision_score, recall_score, f1_score\n",
        "\n",
        "\n",
        "from tensorflow.keras import models\n",
        "from tensorflow.keras import layers\n",
        "from tensorflow.keras.models import Sequential   \n",
        "from tensorflow.keras import optimizers\n",
        "from tensorflow.keras.preprocessing.sequence import pad_sequences\n",
        "from tensorflow.keras.preprocessing.text import Tokenizer\n",
        "from tensorflow.keras.callbacks import EarlyStopping\n",
        "from tensorflow.keras import initializers"
      ],
      "execution_count": null,
      "outputs": []
    },
    {
      "cell_type": "code",
      "metadata": {
        "id": "rE0gTWv0nyOb",
        "colab_type": "code",
        "colab": {
          "base_uri": "https://localhost:8080/",
          "height": 127
        },
        "outputId": "2a089dd9-a99e-4178-fecb-232f323271b1"
      },
      "source": [
        "from google.colab import drive\n",
        "drive.mount('/content/gdrive')"
      ],
      "execution_count": null,
      "outputs": [
        {
          "output_type": "stream",
          "text": [
            "Go to this URL in a browser: https://accounts.google.com/o/oauth2/auth?client_id=947318989803-6bn6qk8qdgf4n4g3pfee6491hc0brc4i.apps.googleusercontent.com&redirect_uri=urn%3aietf%3awg%3aoauth%3a2.0%3aoob&scope=email%20https%3a%2f%2fwww.googleapis.com%2fauth%2fdocs.test%20https%3a%2f%2fwww.googleapis.com%2fauth%2fdrive%20https%3a%2f%2fwww.googleapis.com%2fauth%2fdrive.photos.readonly%20https%3a%2f%2fwww.googleapis.com%2fauth%2fpeopleapi.readonly&response_type=code\n",
            "\n",
            "Enter your authorization code:\n",
            "··········\n",
            "Mounted at /content/gdrive\n"
          ],
          "name": "stdout"
        }
      ]
    },
    {
      "cell_type": "code",
      "metadata": {
        "id": "HqHZxtsFKkcu",
        "colab_type": "code",
        "colab": {
          "base_uri": "https://localhost:8080/",
          "height": 73
        },
        "outputId": "81bf9ef5-c6f4-464b-aecc-dc30e21ab726"
      },
      "source": [
        "# load word embedding trained from Tweetdata and Generaldata\n",
        "emb = gensim.models.KeyedVectors.load_word2vec_format('/content/gdrive/My Drive/Colab Notebooks/rumoureval2019 - LSTM/Set8_TweetDataWithoutSpam_GeneralData_Word_Phrase.bin', binary=True)"
      ],
      "execution_count": null,
      "outputs": [
        {
          "output_type": "stream",
          "text": [
            "/usr/local/lib/python3.6/dist-packages/smart_open/smart_open_lib.py:254: UserWarning: This function is deprecated, use smart_open.open instead. See the migration notes for details: https://github.com/RaRe-Technologies/smart_open/blob/master/README.rst#migrating-to-the-new-open-function\n",
            "  'See the migration notes for details: %s' % _MIGRATION_NOTES_URL\n"
          ],
          "name": "stderr"
        }
      ]
    },
    {
      "cell_type": "code",
      "metadata": {
        "id": "0CaFl-3zKkcy",
        "colab_type": "code",
        "colab": {}
      },
      "source": [
        "# make source tweets' ID a list for train, development and test data\n",
        "trainFile = '/content/rumoureval-2019-training-data/train-key.json'\n",
        "f = json.load(open(trainFile, 'r'))\n",
        "trainSourceTweet = list(f['subtaskbenglish'].keys())  ######################\n",
        "trainLabels = f['subtaskbenglish']\n",
        "\n",
        "devFile = '/content/rumoureval-2019-training-data/dev-key.json'\n",
        "f = json.load(open(devFile, 'r'))\n",
        "devSourceTweet = list(f['subtaskbenglish'].keys())   ######################\n",
        "devLabels = f['subtaskbenglish']\n",
        "\n",
        "testFile = '/content/final-eval-key.json'\n",
        "f = json.load(open(testFile, 'r'))\n",
        "testSourceTweet = list(f['subtaskbenglish'].keys())  ######################\n",
        "testLabels = f['subtaskbenglish']"
      ],
      "execution_count": null,
      "outputs": []
    },
    {
      "cell_type": "code",
      "metadata": {
        "id": "kTUGL35CKkc0",
        "colab_type": "code",
        "colab": {}
      },
      "source": [
        "trainDocPath = '/content/rumoureval-2019-training-data/twitter-english'\n",
        "trainDocList = listdir(trainDocPath)  # each element in doclist is a topic ['charliehebdo','ferguson'...]\n",
        "devDocPath = trainDocPath # dev and train dataset are in the same directory\n",
        "devDocList = trainDocList\n",
        "\n",
        "testDocPath = '/content/rumoureval-2019-test-data/twitter-en-test-data'\n",
        "testDocList = listdir(testDocPath)"
      ],
      "execution_count": null,
      "outputs": []
    },
    {
      "cell_type": "code",
      "metadata": {
        "id": "Cd1jcq_wKkc3",
        "colab_type": "code",
        "colab": {
          "base_uri": "https://localhost:8080/",
          "height": 179
        },
        "outputId": "2cdcdc4a-1829-4b1d-c636-fc3e7ea0b1fe"
      },
      "source": [
        "trainDocList"
      ],
      "execution_count": null,
      "outputs": [
        {
          "output_type": "execute_result",
          "data": {
            "text/plain": [
              "['illary',\n",
              " 'sydneysiege',\n",
              " 'prince-toronto',\n",
              " 'ebola-essien',\n",
              " 'putinmissing',\n",
              " 'ferguson',\n",
              " 'ottawashooting',\n",
              " 'charliehebdo',\n",
              " 'germanwings-crash']"
            ]
          },
          "metadata": {
            "tags": []
          },
          "execution_count": 9
        }
      ]
    },
    {
      "cell_type": "code",
      "metadata": {
        "id": "Jt7I1cxoKkc-",
        "colab_type": "code",
        "colab": {}
      },
      "source": [
        "def getStructure(sourceTweets,filePath):\n",
        "#@@ Param:  \n",
        "#Source_tweets: a list of source tweets ID\n",
        "#filePath: source tweets  parent document directory\n",
        "#@@ Return: \n",
        "#structures:an tree stucture , each root is a source tweet ID, values are tweets replying to the parent node\n",
        "    \n",
        "    structures ={}\n",
        "    docs = listdir(filePath)\n",
        "    \n",
        "    for tweetID in sourceTweets:\n",
        "        for i in range(len(docs)):\n",
        "            IDs = listdir(filePath+'/'+docs[i])\n",
        "            if tweetID in IDs:\n",
        "                tmp = json.load(open(filePath+'/'+docs[i]+'/'+tweetID+'/structure.json','r'))\n",
        "                structures[tweetID] = tmp[tweetID]\n",
        "               \n",
        "    return structures"
      ],
      "execution_count": null,
      "outputs": []
    },
    {
      "cell_type": "code",
      "metadata": {
        "id": "8HFQabiFKkdB",
        "colab_type": "code",
        "colab": {}
      },
      "source": [
        "trainStructure = getStructure(trainSourceTweet ,trainDocPath)  # length: 297\n",
        "devStructure = getStructure(devSourceTweet ,devDocPath) # length: 28\n",
        "testStructure = getStructure(testSourceTweet ,testDocPath) # length: 56"
      ],
      "execution_count": null,
      "outputs": []
    },
    {
      "cell_type": "code",
      "metadata": {
        "id": "EDYZ8ti2KkdE",
        "colab_type": "code",
        "colab": {}
      },
      "source": [
        "def extractFeatures(filePath, featureList):\n",
        "#@@ Param:  \n",
        "# filePath:  tweets  parent document directory\n",
        "# featureList: a list of features need extracting from .json, in which element should be consistent with field name in .json \n",
        "#@@ Return: \n",
        "# tweetTEUE: an dictionary, which the key: Values is tweetID : 'text'， including source tweets and reply tweets\n",
        "    \n",
        "    tweetTEUE = {}\n",
        "    docs = listdir(filePath)\n",
        "    \n",
        "    for i in range(len(docs)):\n",
        "        IDs = listdir(filePath+'/'+docs[i])\n",
        "        for tweetID in IDs:\n",
        "            tweetTEUE[tweetID] = {feature:[] for feature in featureList}\n",
        "            sourceTemp = json.load(open(filePath+'/'+docs[i]+'/'+tweetID+'/source-tweet/'+tweetID+'.json','r'))\n",
        "            tweetTEUE[tweetID]['text'] = sourceTemp['text']\n",
        "            for j in range(1,len(featureList)): ################################# modify the n in ''range(n, len(featureList))''\n",
        "                tweetTEUE[tweetID][featureList[j]] = sourceTemp['user'][featureList[j]]\n",
        "            \n",
        "            replyIDs = listdir(filePath+'/'+docs[i]+'/'+tweetID+'/replies')\n",
        "            replyIDs = [jsonFile.replace('.json','') for jsonFile in replyIDs]\n",
        "            for ID in replyIDs:\n",
        "                tweetTEUE[ID] = {feature:[] for feature in featureList}\n",
        "                replyTemp = json.load(open(filePath+'/'+docs[i]+'/'+tweetID+'/replies/'+ID+'.json','r'))\n",
        "                tweetTEUE[ID]['text'] = replyTemp['text']\n",
        "                for k in range(1,len(featureList)): ############################ modify the n in ''range(n, len(featureList))''\n",
        "                    tweetTEUE[ID][featureList[k]] = replyTemp['user'][featureList[k]]\n",
        "\n",
        "    return tweetTEUE"
      ],
      "execution_count": null,
      "outputs": []
    },
    {
      "cell_type": "markdown",
      "metadata": {
        "id": "f7HBrraqKkdG",
        "colab_type": "text"
      },
      "source": [
        "Json file explanation for twitter: https://developer.twitter.com/en/docs/tweets/data-dictionary/overview/user-object"
      ]
    },
    {
      "cell_type": "code",
      "metadata": {
        "id": "diQoBYl8KkdG",
        "colab_type": "code",
        "colab": {}
      },
      "source": [
        "features = ['text', 'name','verified', 'location', 'description', 'followers_count',\n",
        "                                  'friends_count', 'statuses_count', 'created_at']\n",
        "\n",
        "\n",
        "tweetID2Features = extractFeatures(trainDocPath,features)\n",
        "\n",
        "testFeatures = extractFeatures(testDocPath,features)"
      ],
      "execution_count": null,
      "outputs": []
    },
    {
      "cell_type": "code",
      "metadata": {
        "id": "68ylo7cOKkdI",
        "colab_type": "code",
        "colab": {}
      },
      "source": [
        "tweetID2Features"
      ],
      "execution_count": null,
      "outputs": []
    },
    {
      "cell_type": "code",
      "metadata": {
        "id": "gnUsAiJmKkdM",
        "colab_type": "code",
        "colab": {}
      },
      "source": [
        "def getSourceText(structure, featureList): # get texts and respoding ID from source tweets\n",
        "    \n",
        "    sourceText = []\n",
        "    ID = []\n",
        "    for sourceID in structure:\n",
        "        sourceText += [featureList[sourceID]['text']]\n",
        "        ID += [sourceID]\n",
        "        \n",
        "    return sourceText,ID       "
      ],
      "execution_count": null,
      "outputs": []
    },
    {
      "cell_type": "code",
      "metadata": {
        "id": "dibrMNh4KkdO",
        "colab_type": "code",
        "colab": {}
      },
      "source": [
        "trainSourceText, trainID = getSourceText(trainStructure, tweetID2Features) ######################################\n",
        "devSourceText, devID = getSourceText(devStructure, tweetID2Features) #################################\n",
        "testSourceText, testID = getSourceText(testStructure, testFeatures) ######################################"
      ],
      "execution_count": null,
      "outputs": []
    },
    {
      "cell_type": "code",
      "metadata": {
        "id": "y3i6I6lpKkdQ",
        "colab_type": "code",
        "colab": {
          "base_uri": "https://localhost:8080/",
          "height": 35
        },
        "outputId": "f88c9baf-0e7f-4df5-e38f-f9df9b5bcc54"
      },
      "source": [
        "print(len(trainSourceText))"
      ],
      "execution_count": null,
      "outputs": [
        {
          "output_type": "stream",
          "text": [
            "297\n"
          ],
          "name": "stdout"
        }
      ]
    },
    {
      "cell_type": "code",
      "metadata": {
        "id": "CxGZfbETKkdT",
        "colab_type": "code",
        "colab": {}
      },
      "source": [
        "textList = [] ############################ these texts are from train and dev sets (including source texts and its' replies)\n",
        "for t in list(tweetID2Features.keys()):\n",
        "    textList += [tweetID2Features[t]['text']]"
      ],
      "execution_count": null,
      "outputs": []
    },
    {
      "cell_type": "code",
      "metadata": {
        "id": "Lj6VKY2SKkdV",
        "colab_type": "code",
        "colab": {
          "base_uri": "https://localhost:8080/",
          "height": 35
        },
        "outputId": "1312c305-d253-4171-dabe-9dacafd59504"
      },
      "source": [
        "len(textList)"
      ],
      "execution_count": null,
      "outputs": [
        {
          "output_type": "execute_result",
          "data": {
            "text/plain": [
              "5568"
            ]
          },
          "metadata": {
            "tags": []
          },
          "execution_count": 18
        }
      ]
    },
    {
      "cell_type": "code",
      "metadata": {
        "id": "gAxrApSFKkdo",
        "colab_type": "code",
        "colab": {}
      },
      "source": [
        "def extractNgrams(x_raw, ngram_range=(1,3), token_pattern='[@#]*[A-Za-z0-9_-]+', stop_words=[], vocab=set()): # this function calls GATE API \n",
        "    \n",
        "#@@ Param:\n",
        "# x_raw: a string corresponding to the raw text of a document\n",
        "# ngram_range: a tuple of two integers denoting the type of ngrams you want to extract, e.g. (1,2) denotes extracting unigrams and bigrams.\n",
        "# token_pattern: a string to be used within a regular expression to extract all tokens. Note that data is already tokenised so you could opt for a simple white space tokenisation.\n",
        "# stop_words: a list of stop words\n",
        "# vocab: a given vocabulary. It should be used to extract specific features.\n",
        "\n",
        "#@@Returns:\n",
        "# x:a list of all extracted word tokens.\n",
        "    \n",
        "    # requests api\n",
        "    payload = {'text':x_raw}\n",
        "    r = requests.post('https://cloud-api.gate.ac.uk/process-document/twitie-named-entity-recognizer-for-tweets?annotations=:URL,:UserID,:Date',\n",
        "                      json=payload, auth=('gc22ns8ovnuz', '1vdoc3k7m35cc1tkibvt'))\n",
        "    \n",
        "    r = json.loads(r.text)\n",
        "    \n",
        "    # convert years and dates into symbols\n",
        "    if 'Date' in r['entities']:\n",
        "        dateList = [] # store the string\n",
        "        symbolList = [] # symbols of year/date, same length with dateList\n",
        "        for i in range(len(r['entities']['Date'])):\n",
        "            if r['entities']['Date'][i]['ruleFinal'] == 'YearOnlyFinal':\n",
        "                index1,index2 = r['entities']['Date'][i]['indices'] \n",
        "                date = r['text'][index1:index2]\n",
        "                dateList += [date]\n",
        "                symbolList += ['$year']        \n",
        "            if r['entities']['Date'][i]['ruleFinal'] == 'DateOnlyFinal':\n",
        "                index1,index2 = r['entities']['Date'][i]['indices'] \n",
        "                date = r['text'][index1:index2]\n",
        "                dateList += [date]\n",
        "                symbolList += ['$date']\n",
        "        for i in range(len(dateList)):\n",
        "            r['text'] = r['text'].replace(dateList[i],symbolList[i])\n",
        "        \n",
        "                \n",
        "    # remove URL, mentions\n",
        "    if 'URL' in r['entities']:\n",
        "        for i in range(len(r['entities']['URL'])):\n",
        "            remove = r['entities']['URL'][i]['string']\n",
        "            r['text'] = r['text'].replace(remove,'')\n",
        "    \n",
        "    if 'UserID' in r['entities']:\n",
        "        for i in range(len(r['entities']['UserID'])):\n",
        "            remove = '@'+ r['entities']['UserID'][i]['string']\n",
        "            r['text'] = r['text'].replace(remove,'')\n",
        "            \n",
        "    \n",
        "    x_raw = r['text']\n",
        "    unigram = re.compile(token_pattern,re.I).findall(x_raw)#tokenise\n",
        "    \n",
        "    # convert words to lowercase\n",
        "    for i in range(len(unigram)):\n",
        "        unigram[i] = unigram[i].lower()   \n",
        "    \n",
        "    word_list = []\n",
        "    for i in range(len(unigram)):\n",
        "        numList = re.compile('[0-9]+',re.I).findall(unigram[i])\n",
        "        if len(numList) == 0:\n",
        "            word_list += [unigram[i]]\n",
        "        else:\n",
        "            for j in range(len(numList)):\n",
        "              unigram[i] = unigram[i].replace(numList[j],'$number')\n",
        "            word_list += [unigram[i]]\n",
        "       \n",
        "            \n",
        "       \n",
        "    #create ngram lists according to ngram_range\n",
        "    ngram_range_list = list(range(ngram_range[0],ngram_range[1]+1))  \n",
        "    x_temp=[]\n",
        "    for j in ngram_range_list:\n",
        "        if j==1:\n",
        "            for i in range(0,len(word_list)):\n",
        "                x_temp.append(word_list[i])       \n",
        "        if j>1:\n",
        "            for i in range(0,len(word_list)):\n",
        "                if i+j <= len(word_list):\n",
        "                    x_temp.append(tuple(word_list[i:i+j]))\n",
        "                \n",
        "    #output final result x according to vocab\n",
        "    x=[]\n",
        "    if vocab == set():#by default, vocab==set(),in this case, word list don't need to be processed\n",
        "        x=x_temp\n",
        "    else:\n",
        "        vocab = list(vocab)#if given a list of vocabulary, function should return the words needed\n",
        "        for element in x_temp:\n",
        "            if element in vocab:\n",
        "                x.append(element)\n",
        "\n",
        "    \n",
        "    return x"
      ],
      "execution_count": null,
      "outputs": []
    },
    {
      "cell_type": "code",
      "metadata": {
        "id": "rrupapj2Kkdr",
        "colab_type": "code",
        "colab": {}
      },
      "source": [
        "def getVocab(X_raw, ngram_range=(1,3), token_pattern='[@#]*[A-Za-z0-9_-]+', \n",
        "              min_df=0, keep_topN=0, stop_words=[]):\n",
        "    \n",
        "    #create lists for counting document frequency and collection frequency\n",
        "    lists_df=[] \n",
        "    lists_cf=[]\n",
        "    for x_raw in X_raw:\n",
        "        temp_cf = extractNgrams(x_raw, ngram_range,token_pattern)\n",
        "        temp_df = list(set(temp_cf)) #remove repeat element in each document for counting document frequency\n",
        "        lists_cf += temp_cf\n",
        "        lists_df += temp_df\n",
        "    \n",
        "    #count document frequency\n",
        "    df = Counter()\n",
        "    for ngram in lists_df:\n",
        "        df[ngram] += 1\n",
        "    if min_df != 0:\n",
        "        df = {k:v for k,v in df.items() if v>=min_df}\n",
        "        df = sorted(df.items(),key=lambda x:x[1],reverse=True)\n",
        "        df = Counter(dict(df))\n",
        "    \n",
        "    #count collection frequency    \n",
        "    cf = Counter()\n",
        "    for ngram in lists_cf:\n",
        "        cf[ngram] += 1\n",
        "    ngram_counts = cf #ngram_counts is the collection frequency\n",
        "    \n",
        "    #get vocab according to keep_topN\n",
        "    if keep_topN != 0:\n",
        "        tmp = {k:v for k,v in ngram_counts.items()}\n",
        "        tmp = sorted(tmp,key=lambda x:tmp[x],reverse=True)\n",
        "        vocab = tmp[:keep_topN]\n",
        "        vocab = set(vocab)\n",
        "    else:\n",
        "        vocab = set(lists_df)\n",
        "    \n",
        "    return vocab, df, ngram_counts"
      ],
      "execution_count": null,
      "outputs": []
    },
    {
      "cell_type": "markdown",
      "metadata": {
        "id": "pE9oyfGdKkdX",
        "colab_type": "text"
      },
      "source": [
        "# GATE NER API\n",
        "\n",
        "endpoint = 'https://cloud-api.gate.ac.uk/process-document/twitie-named-entity-recognizer-for-tweets?annotations=:URL,:UserID,:Date'\n",
        "\n",
        "keyID = 'gc22ns8ovnuz'\n",
        "\n",
        "password = '1vdoc3k7m35cc1tkibvt'"
      ]
    },
    {
      "cell_type": "code",
      "metadata": {
        "id": "VFYz0H8RKkdX",
        "colab_type": "code",
        "colab": {}
      },
      "source": [
        "vocab_tr, df_tr, ngram_counts_tr = getVocab(trainSourceText,ngram_range=(1,1))\n",
        "vocab_dev, df_dev, ngram_counts_dev = getVocab(devSourceText,ngram_range=(1,1))\n",
        "vocab_te, df_te, ngram_counts_te = getVocab(testSourceText,ngram_range=(1,1))"
      ],
      "execution_count": null,
      "outputs": []
    },
    {
      "cell_type": "code",
      "metadata": {
        "id": "yo-QEm8jKkdZ",
        "colab_type": "code",
        "colab": {}
      },
      "source": [
        "vocab_tmp = vocab_tr.union(vocab_dev,vocab_te)"
      ],
      "execution_count": null,
      "outputs": []
    },
    {
      "cell_type": "code",
      "metadata": {
        "id": "VERdIDaMKkdc",
        "colab_type": "code",
        "colab": {
          "base_uri": "https://localhost:8080/",
          "height": 35
        },
        "outputId": "0922addf-3718-488c-aed3-99c61b003dfb"
      },
      "source": [
        "len(vocab_tmp)"
      ],
      "execution_count": null,
      "outputs": [
        {
          "output_type": "execute_result",
          "data": {
            "text/plain": [
              "1633"
            ]
          },
          "metadata": {
            "tags": []
          },
          "execution_count": 35
        }
      ]
    },
    {
      "cell_type": "code",
      "metadata": {
        "id": "gbgBC8WSKkde",
        "colab_type": "code",
        "colab": {
          "base_uri": "https://localhost:8080/",
          "height": 35
        },
        "outputId": "87681448-cbc2-4f89-ce12-7a740a757660"
      },
      "source": [
        "vocab = set()\n",
        "for word in vocab_tmp:\n",
        "    if word in emb:\n",
        "        vocab.add(word)\n",
        "len(vocab)"
      ],
      "execution_count": null,
      "outputs": [
        {
          "output_type": "execute_result",
          "data": {
            "text/plain": [
              "1573"
            ]
          },
          "metadata": {
            "tags": []
          },
          "execution_count": 36
        }
      ]
    },
    {
      "cell_type": "code",
      "metadata": {
        "id": "EIwArWb9tTDE",
        "colab_type": "code",
        "colab": {}
      },
      "source": [
        "word2id={}\n",
        "count = 1\n",
        "for wrd in vocab:\n",
        "    word2id[wrd] = count\n",
        "    count += 1"
      ],
      "execution_count": null,
      "outputs": []
    },
    {
      "cell_type": "code",
      "metadata": {
        "id": "kElAhySsuRcv",
        "colab_type": "code",
        "colab": {}
      },
      "source": [
        "word2id['<OOV>'] = len(word2id)+1 # out of vocab"
      ],
      "execution_count": null,
      "outputs": []
    },
    {
      "cell_type": "code",
      "metadata": {
        "id": "XSd1_O9YKkdi",
        "colab_type": "code",
        "colab": {}
      },
      "source": [
        "id2word = dict([val, key] for key, val in word2id.items()) ##############################################"
      ],
      "execution_count": null,
      "outputs": []
    },
    {
      "cell_type": "code",
      "metadata": {
        "id": "AMFAhjZ86tq_",
        "colab_type": "code",
        "colab": {}
      },
      "source": [
        "s = str(word2id)\n",
        "f = open('dict.txt','w')\n",
        "f.writelines(s)\n",
        "f.close()"
      ],
      "execution_count": null,
      "outputs": []
    },
    {
      "cell_type": "code",
      "metadata": {
        "id": "295O45Xe83eh",
        "colab_type": "code",
        "colab": {}
      },
      "source": [
        "f = open('dict.txt','r')\n",
        "f = f.read()\n",
        "word2id = eval(f) ###############################"
      ],
      "execution_count": null,
      "outputs": []
    },
    {
      "cell_type": "code",
      "metadata": {
        "id": "KKUp5cvNiOZc",
        "colab_type": "code",
        "colab": {}
      },
      "source": [
        "id2word = dict([val, key] for key, val in word2id.items()) ##############################################"
      ],
      "execution_count": null,
      "outputs": []
    },
    {
      "cell_type": "code",
      "metadata": {
        "id": "z6LhEIbgbtaN",
        "colab_type": "code",
        "colab": {
          "base_uri": "https://localhost:8080/",
          "height": 35
        },
        "outputId": "44921d05-8803-494d-ac8e-c9e2366a78d9"
      },
      "source": [
        "len(word2id)"
      ],
      "execution_count": null,
      "outputs": [
        {
          "output_type": "execute_result",
          "data": {
            "text/plain": [
              "1574"
            ]
          },
          "metadata": {
            "tags": []
          },
          "execution_count": 23
        }
      ]
    },
    {
      "cell_type": "code",
      "metadata": {
        "id": "2y-Z4QLiKkdg",
        "colab_type": "code",
        "colab": {
          "base_uri": "https://localhost:8080/",
          "height": 127
        },
        "outputId": "530f6f3b-6078-47e8-ac2c-2c5abf921b4e"
      },
      "source": [
        "print(len(vocab))\n",
        "print()\n",
        "print(list(vocab_tr)[:100])\n",
        "print()\n",
        "print(df_tr.most_common()[:10])"
      ],
      "execution_count": null,
      "outputs": [
        {
          "output_type": "stream",
          "text": [
            "1573\n",
            "\n",
            "['amid', 'original', 'both', 'so', 'northern', 'high-risk', 'cartoon', 'fled', 'harassment', 'dozen', 'market', 'rcmp', 'maintain', 'andr', 'live', 'id', 'background', 'link', 'martial', 'lobby', 'citizens', 'mayday', 'let', 'looting', 'level', 'shooting', 'seem', 'detain', 'union', 'borne', 'rideau', 'summer', 'killer', 'deck', 'situations', 'dies', 'hand', 'from', 'source', 'her', 'radio', 'sniper', 'attackers', '#abbott', 'al', 'c', 'times', 'when', 'tell', 'downtown', 'ppl', 'guard', 'everyone', 'able', 'killed', 'hughes', 'clothing', 'seeking', 'member', 'w', 'list', '#prayforsydney', 'winkelmann', 'staff', 'kill', 'die', 'house', 'caught', 'inquiries', 'massey', 'earlier', 'over', 'chief', 'hell', 'deliver', 'protests', 'lack', 'aviation', 'accident', 'celebrities', 'age', '#abcnews$number', '$numbernews', 'one', 'r', 'reservist', 'in$number', 'suggesting', '#$numbernews', 'formal', 'a$number', 've', 'harper', 'people', 'watch', 'morning', 'rick', '#mikebrown', 'chocolate', 'delivered']\n",
            "\n",
            "[('in', 141), ('the', 85), ('of', 81), ('to', 78), ('police', 72), ('at', 64), ('$number', 63), ('a', 62), ('on', 48), ('#ferguson', 46)]\n"
          ],
          "name": "stdout"
        }
      ]
    },
    {
      "cell_type": "code",
      "metadata": {
        "id": "dawCrj3iKkdk",
        "colab_type": "code",
        "colab": {
          "base_uri": "https://localhost:8080/",
          "height": 173
        },
        "outputId": "ba784c6d-ed45-4761-9667-491f5063fd8f"
      },
      "source": [
        "payload = {'text': 'France: 10 people dead after shooting at HQ of satirical weekly newspaper #CharlieHebdo, according to witnesses http://t.co/FkYxGmuS58'}\n",
        "\n",
        "r = requests.post('https://cloud-api.gate.ac.uk/process-document/twitie-named-entity-recognizer-for-tweets?annotations=:URL,:UserID,:Date',\n",
        "                      json=payload)\n",
        "    \n",
        "r = json.loads(r.text)\n",
        "r"
      ],
      "execution_count": null,
      "outputs": [
        {
          "output_type": "execute_result",
          "data": {
            "text/plain": [
              "{'entities': {'URL': [{'category': 'URL',\n",
              "    'indices': [112, 134],\n",
              "    'kind': 'URL',\n",
              "    'length': 22,\n",
              "    'replaced': 10,\n",
              "    'rule': 'URL',\n",
              "    'string': 'http://t.co/FkYxGmuS58'}]},\n",
              " 'text': 'France: 10 people dead after shooting at HQ of satirical weekly newspaper #CharlieHebdo, according to witnesses http://t.co/FkYxGmuS58'}"
            ]
          },
          "metadata": {
            "tags": []
          },
          "execution_count": 39
        }
      ]
    },
    {
      "cell_type": "code",
      "metadata": {
        "id": "6V6xL1VZKkdm",
        "colab_type": "code",
        "colab": {
          "base_uri": "https://localhost:8080/",
          "height": 197
        },
        "outputId": "b36abab5-a276-48d8-8793-a3da1b02c3e5"
      },
      "source": [
        "asd = 'She is a 2-3 and 3-year-old at 7pm and 23rd'\n",
        "extractNgrams(asd,ngram_range=(1,1))"
      ],
      "execution_count": null,
      "outputs": [
        {
          "output_type": "execute_result",
          "data": {
            "text/plain": [
              "['she',\n",
              " 'is',\n",
              " 'a',\n",
              " '$number-$number',\n",
              " 'and',\n",
              " '$number-year-old',\n",
              " 'at',\n",
              " '$numberpm',\n",
              " 'and',\n",
              " '$numberrd']"
            ]
          },
          "metadata": {
            "tags": []
          },
          "execution_count": 36
        }
      ]
    },
    {
      "cell_type": "code",
      "metadata": {
        "id": "mUkeNzQHKkdt",
        "colab_type": "code",
        "colab": {}
      },
      "source": [
        "################ using pre-trained word embedding \n",
        "X_tr = [extractNgrams(x, ngram_range=(1, 1)) for x in trainSourceText] ###############################\n",
        "X_dev = [extractNgrams(x,ngram_range=(1,1)) for x in devSourceText ] ################################\n",
        "X_te = [extractNgrams(x,ngram_range=(1,1)) for x in testSourceText ] ################################"
      ],
      "execution_count": null,
      "outputs": []
    },
    {
      "cell_type": "code",
      "metadata": {
        "id": "nk5hdPaZjfIH",
        "colab_type": "code",
        "colab": {
          "base_uri": "https://localhost:8080/",
          "height": 408
        },
        "outputId": "31b60d84-e7dd-4483-d769-0e679a822d86"
      },
      "source": [
        "X_tr[0]"
      ],
      "execution_count": null,
      "outputs": [
        {
          "output_type": "execute_result",
          "data": {
            "text/plain": [
              "['did',\n",
              " 'anyone',\n",
              " 'think',\n",
              " 'of',\n",
              " 'comparing',\n",
              " 'the',\n",
              " 'clothes',\n",
              " 'that',\n",
              " '#mikebrown',\n",
              " 'was',\n",
              " 'wearing',\n",
              " 'when',\n",
              " 'he',\n",
              " 'was',\n",
              " 'laying',\n",
              " 'on',\n",
              " 'the',\n",
              " 'street',\n",
              " 'to',\n",
              " 'the',\n",
              " 'security',\n",
              " 'footage',\n",
              " '#ferguson']"
            ]
          },
          "metadata": {
            "tags": []
          },
          "execution_count": 32
        }
      ]
    },
    {
      "cell_type": "code",
      "metadata": {
        "id": "cklJomAVg36g",
        "colab_type": "code",
        "colab": {}
      },
      "source": [
        "def writeFile(file_name,X_ngrams):\n",
        "\n",
        "  f = open(file_name,'w')\n",
        "  for text in X_ngrams:\n",
        "    for wrd in text:\n",
        "      f.write(wrd)\n",
        "      f.write(' ')\n",
        "    f.write('\\n')\n",
        "  \n",
        "  return 0"
      ],
      "execution_count": null,
      "outputs": []
    },
    {
      "cell_type": "code",
      "metadata": {
        "id": "mimmURZQjNrU",
        "colab_type": "code",
        "colab": {}
      },
      "source": [
        "writeFile('X_tr_string.txt',X_tr)\n",
        "writeFile('X_dev_string.txt',X_dev)\n",
        "writeFile('X_te_string.txt',X_te)\n"
      ],
      "execution_count": null,
      "outputs": []
    },
    {
      "cell_type": "code",
      "metadata": {
        "id": "ZpRAaYaMKx_g",
        "colab_type": "code",
        "colab": {}
      },
      "source": [
        "def readFile(filePath):\n",
        "\n",
        "  with open(filePath,'r') as f:\n",
        "    s = f.readlines()\n",
        "  \n",
        "  for i in range(len(s)):\n",
        "    s[i] = s[i].replace('\\n','')\n",
        "\n",
        "  return s"
      ],
      "execution_count": null,
      "outputs": []
    },
    {
      "cell_type": "code",
      "metadata": {
        "id": "4tpTHrkd1Car",
        "colab_type": "code",
        "colab": {}
      },
      "source": [
        "X_tr_string = readFile('X_tr_string.txt')\n",
        "X_dev_string = readFile('X_dev_string.txt')\n",
        "X_te_string = readFile('X_te_string.txt')"
      ],
      "execution_count": null,
      "outputs": []
    },
    {
      "cell_type": "code",
      "metadata": {
        "id": "q1pRHTvP1ITb",
        "colab_type": "code",
        "colab": {}
      },
      "source": [
        "X_tr_string ############################### text data after data washing"
      ],
      "execution_count": null,
      "outputs": []
    },
    {
      "cell_type": "code",
      "metadata": {
        "id": "V9uyG0pQfgg0",
        "colab_type": "code",
        "colab": {}
      },
      "source": [
        "def tokenizeText(x_raw):\n",
        "\n",
        "  x = x_raw.split(' ')\n",
        "  x.remove('')\n",
        "\n",
        "  return x"
      ],
      "execution_count": null,
      "outputs": []
    },
    {
      "cell_type": "code",
      "metadata": {
        "id": "WPXyPjB2PrnN",
        "colab_type": "code",
        "colab": {}
      },
      "source": [
        "X_tr = [tokenizeText(x) for x in X_tr_string] ###############################\n",
        "X_dev = [tokenizeText(x) for x in X_dev_string] ################################ into token\n",
        "X_te = [tokenizeText(x) for x in X_te_string] ################################"
      ],
      "execution_count": null,
      "outputs": []
    },
    {
      "cell_type": "code",
      "metadata": {
        "id": "CUipLaONBUXF",
        "colab_type": "code",
        "colab": {}
      },
      "source": [
        "def toNumSeq(X_raw,vocab):\n",
        "  \n",
        "  doc = []\n",
        "  \n",
        "  for text in X_raw:\n",
        "    numSeq = []\n",
        "    for wrd in text:\n",
        "      if wrd in vocab:\n",
        "        numSeq += [vocab[wrd]]\n",
        "      else:\n",
        "        numSeq += [vocab['<OOV>']]\n",
        "    doc += [numSeq]\n",
        "  \n",
        "  return doc\n"
      ],
      "execution_count": null,
      "outputs": []
    },
    {
      "cell_type": "code",
      "metadata": {
        "id": "a3dArQmbC-Np",
        "colab_type": "code",
        "colab": {}
      },
      "source": [
        "X_tr_seq = toNumSeq(X_tr,word2id) #############\n",
        "X_dev_seq = toNumSeq(X_dev,word2id)############## num of sequence\n",
        "X_te_seq = toNumSeq(X_te,word2id)###############"
      ],
      "execution_count": null,
      "outputs": []
    },
    {
      "cell_type": "code",
      "metadata": {
        "id": "JGErWnkkRX0I",
        "colab_type": "code",
        "colab": {
          "base_uri": "https://localhost:8080/",
          "height": 71
        },
        "outputId": "ac348847-3a7e-4d66-eaf2-63480115a6c5"
      },
      "source": [
        "print(X_tr[100])\n",
        "print(word2id['prime'])\n",
        "print(word2id['minister'])"
      ],
      "execution_count": null,
      "outputs": [
        {
          "output_type": "stream",
          "text": [
            "['prime', 'minister', 'tony', 'abbott', 's', 'statement', 'on', 'the', '#sydneysiege', 'updates']\n",
            "438\n",
            "404\n"
          ],
          "name": "stdout"
        }
      ]
    },
    {
      "cell_type": "code",
      "metadata": {
        "id": "Dh3dESGKYyIQ",
        "colab_type": "code",
        "colab": {
          "base_uri": "https://localhost:8080/",
          "height": 35
        },
        "outputId": "217d54e8-f843-47d5-df2d-2214c1c7659f"
      },
      "source": [
        "X_tr_seq[100]"
      ],
      "execution_count": null,
      "outputs": [
        {
          "output_type": "execute_result",
          "data": {
            "text/plain": [
              "[438, 404, 617, 1425, 1442, 200, 319, 511, 134, 1066]"
            ]
          },
          "metadata": {
            "tags": []
          },
          "execution_count": 32
        }
      ]
    },
    {
      "cell_type": "code",
      "metadata": {
        "id": "KLDt8aW0SEL_",
        "colab_type": "code",
        "colab": {}
      },
      "source": [
        "X_tr_paded = pad_sequences(X_tr_seq,padding=\"pre\") ################################################\n",
        "X_dev_paded = pad_sequences(X_dev_seq,maxlen=len(X_tr_paded[0]),padding=\"pre\")############################################### zero padding\n",
        "X_te_paded = pad_sequences(X_te_seq,maxlen=len(X_tr_paded[0]),padding=\"pre\")##############################################"
      ],
      "execution_count": null,
      "outputs": []
    },
    {
      "cell_type": "code",
      "metadata": {
        "id": "-Vp4JsynSbqg",
        "colab_type": "code",
        "colab": {
          "base_uri": "https://localhost:8080/",
          "height": 89
        },
        "outputId": "b67467c4-0d7e-4313-8689-bd6458346c37"
      },
      "source": [
        "print(X_tr_paded[0])\n",
        "print(X_dev_paded[0])"
      ],
      "execution_count": null,
      "outputs": [
        {
          "output_type": "stream",
          "text": [
            "[   0    0    0    0    0  648 1415  163 1274  619  511 1509  697  806\n",
            " 1078 1406 1193   91 1078  204  319  511  740 1375  511  600 1521  450]\n",
            "[   0    0    0    0    0    0    0    0    0    0    0    0    0    0\n",
            "    0    0    0    0    0    0  693 1283  774  163 1417 1111  937 1187]\n"
          ],
          "name": "stdout"
        }
      ]
    },
    {
      "cell_type": "code",
      "metadata": {
        "id": "DqqI4_ZXjLWq",
        "colab_type": "code",
        "colab": {}
      },
      "source": [
        "################################################## prepare embedding matrix for embedding layer\n",
        "\n",
        "embedding_matrix = np.zeros((len(word2id)+1,300))\n",
        "for word, i in word2id.items():\n",
        "  if word in emb:\n",
        "    embedding_vector = emb[word]\n",
        "    embedding_matrix[i] = embedding_vector\n",
        "  else:\n",
        "    embedding_matrix[i] = np.zeros(300)\n"
      ],
      "execution_count": null,
      "outputs": []
    },
    {
      "cell_type": "code",
      "metadata": {
        "id": "B_2b-tlsKkdz",
        "colab_type": "code",
        "colab": {}
      },
      "source": [
        "#transfer label\n",
        "def str2no(y_string):\n",
        "#@@ Param: a list of rumour veracity labels, each element is a string\n",
        "#@@ Return: a list of label, each element is an int; 0,1,2 represent 'unverified','false','true' respectively\n",
        "    \n",
        "    y = []\n",
        "    for cls in y_string:\n",
        "        if cls=='unverified':\n",
        "            y += [0]\n",
        "        elif cls=='false':\n",
        "            y += [1]\n",
        "        elif cls=='true':\n",
        "            y += [2]\n",
        "    return y"
      ],
      "execution_count": null,
      "outputs": []
    },
    {
      "cell_type": "code",
      "metadata": {
        "id": "L1Gq9ay6Kkd4",
        "colab_type": "code",
        "colab": {}
      },
      "source": [
        "Y_tr = [trainLabels[ID] for ID in trainID]\n",
        "Y_dev = [devLabels[ID] for ID in devID] "
      ],
      "execution_count": null,
      "outputs": []
    },
    {
      "cell_type": "code",
      "metadata": {
        "id": "5yLJQf2cKkd6",
        "colab_type": "code",
        "colab": {}
      },
      "source": [
        "Y_tr = str2no(Y_tr) ########################################\n",
        "Y_dev = str2no(Y_dev) ######################################  Y_input"
      ],
      "execution_count": null,
      "outputs": []
    },
    {
      "cell_type": "code",
      "metadata": {
        "id": "fbnnOTI5xkEE",
        "colab_type": "code",
        "colab": {
          "base_uri": "https://localhost:8080/",
          "height": 143
        },
        "outputId": "e2f22d63-318c-404e-92ea-eca66b7a9c99"
      },
      "source": [
        "print(X_tr_paded)"
      ],
      "execution_count": null,
      "outputs": [
        {
          "output_type": "stream",
          "text": [
            "[[   0    0    0 ...  600 1521  450]\n",
            " [   0    0    0 ...  522  119  450]\n",
            " [   0    0    0 ... 1256 1333  951]\n",
            " ...\n",
            " [   0    0    0 ... 1574  227 1017]\n",
            " [   0    0    0 ...   80  511 1241]\n",
            " [   0    0    0 ... 1073  252  503]]\n"
          ],
          "name": "stdout"
        }
      ]
    },
    {
      "cell_type": "code",
      "metadata": {
        "id": "zO8Bpe9_dHoq",
        "colab_type": "code",
        "colab": {}
      },
      "source": [
        "def num2onehot(Y):\n",
        "  \n",
        "  onehot = []\n",
        "  for num in Y:\n",
        "    if num==0:\n",
        "      onehot += [[1,0,0]]\n",
        "    if num==1:\n",
        "      onehot += [[0,1,0]]\n",
        "    if num==2:\n",
        "      onehot += [[0,0,1]] \n",
        "  \n",
        "  return onehot"
      ],
      "execution_count": null,
      "outputs": []
    },
    {
      "cell_type": "code",
      "metadata": {
        "id": "ZVcpl96DdtYH",
        "colab_type": "code",
        "colab": {}
      },
      "source": [
        "Y_tr = num2onehot(Y_tr)\n",
        "Y_dev = num2onehot(Y_dev)\n"
      ],
      "execution_count": null,
      "outputs": []
    },
    {
      "cell_type": "code",
      "metadata": {
        "id": "X97U7WhL-I28",
        "colab_type": "code",
        "colab": {}
      },
      "source": [
        "Y_tr = np.array(Y_tr)  ###################################\n",
        "Y_dev = np.array(Y_dev) ####################################"
      ],
      "execution_count": null,
      "outputs": []
    },
    {
      "cell_type": "code",
      "metadata": {
        "id": "I9TljEn96z2K",
        "colab_type": "code",
        "colab": {}
      },
      "source": [
        "X_tr_paded = np.array(X_tr_paded)\n",
        "X_dev_paded = np.array(X_dev_paded)"
      ],
      "execution_count": null,
      "outputs": []
    },
    {
      "cell_type": "code",
      "metadata": {
        "id": "BgPBMSjDmeFk",
        "colab_type": "code",
        "colab": {
          "base_uri": "https://localhost:8080/",
          "height": 359
        },
        "outputId": "b18b4c8c-76dd-49db-ffe5-5448ae5770ad"
      },
      "source": [
        "def build_model(): ########### simple LSTM\n",
        "    \n",
        "    model = Sequential([\n",
        "    layers.Embedding(len(embedding_matrix), 300,  \n",
        "            mask_zero=True, \n",
        "            embeddings_initializer=initializers.Constant(embedding_matrix),\n",
        "            input_length=len(X_tr_paded[0]), \n",
        "            trainable=False),\n",
        "    layers.Dropout(0.2),\n",
        "    layers.LSTM(300,return_sequences=False),\n",
        "    layers.Dropout(0.2),\n",
        "    layers.Dense(3,activation='softmax')\n",
        "    ])\n",
        "\n",
        "    model.compile(optimizer=optimizers.Adam(lr=0.01),loss='categorical_crossentropy',metrics=['acc'])\n",
        "    print(model.summary())\n",
        "\n",
        "    return model\n",
        "\n",
        "model = build_model()"
      ],
      "execution_count": null,
      "outputs": [
        {
          "output_type": "stream",
          "text": [
            "Model: \"sequential\"\n",
            "_________________________________________________________________\n",
            "Layer (type)                 Output Shape              Param #   \n",
            "=================================================================\n",
            "embedding (Embedding)        (None, 28, 300)           472500    \n",
            "_________________________________________________________________\n",
            "dropout (Dropout)            (None, 28, 300)           0         \n",
            "_________________________________________________________________\n",
            "lstm (LSTM)                  (None, 300)               721200    \n",
            "_________________________________________________________________\n",
            "dropout_1 (Dropout)          (None, 300)               0         \n",
            "_________________________________________________________________\n",
            "dense (Dense)                (None, 3)                 903       \n",
            "=================================================================\n",
            "Total params: 1,194,603\n",
            "Trainable params: 722,103\n",
            "Non-trainable params: 472,500\n",
            "_________________________________________________________________\n",
            "None\n"
          ],
          "name": "stdout"
        }
      ]
    },
    {
      "cell_type": "code",
      "metadata": {
        "id": "PJcZveUnKkd_",
        "colab_type": "code",
        "colab": {
          "base_uri": "https://localhost:8080/",
          "height": 197
        },
        "outputId": "e4037d32-8a5c-44cf-d5e6-81e909743a57"
      },
      "source": [
        "history = model.fit(x=X_tr_paded, y=Y_tr, batch_size=297, epochs=50, validation_data=(X_dev_paded,Y_dev),\n",
        "                    callbacks=[EarlyStopping(monitor='val_loss', patience=0, min_delta=0.00001)])"
      ],
      "execution_count": null,
      "outputs": [
        {
          "output_type": "stream",
          "text": [
            "Epoch 1/50\n",
            "1/1 [==============================] - 1s 1s/step - loss: 1.0986 - acc: 0.3401 - val_loss: 4.0372 - val_acc: 0.2857\n",
            "Epoch 2/50\n",
            "1/1 [==============================] - 0s 57ms/step - loss: 2.5017 - acc: 0.4781 - val_loss: 1.4519 - val_acc: 0.2857\n",
            "Epoch 3/50\n",
            "1/1 [==============================] - 0s 54ms/step - loss: 1.4098 - acc: 0.3603 - val_loss: 1.2045 - val_acc: 0.5357\n",
            "Epoch 4/50\n",
            "1/1 [==============================] - 0s 54ms/step - loss: 1.5210 - acc: 0.3872 - val_loss: 1.1613 - val_acc: 0.3929\n",
            "Epoch 5/50\n",
            "1/1 [==============================] - 0s 58ms/step - loss: 1.0007 - acc: 0.5286 - val_loss: 1.2875 - val_acc: 0.3929\n"
          ],
          "name": "stdout"
        }
      ]
    },
    {
      "cell_type": "code",
      "metadata": {
        "id": "y1w8V37I7ppH",
        "colab_type": "code",
        "colab": {}
      },
      "source": [
        "import matplotlib.pyplot as plt\n",
        "\n",
        "\n",
        "def plot_graphs(history, string):\n",
        "  plt.plot(history.history[string])\n",
        "  plt.plot(history.history['val_'+string])\n",
        "  plt.xlabel(\"Epochs\")\n",
        "  plt.ylabel(string)\n",
        "  plt.legend([string, 'val_'+string])\n",
        "  plt.show()\n",
        "\n"
      ],
      "execution_count": null,
      "outputs": []
    },
    {
      "cell_type": "code",
      "metadata": {
        "id": "-t3kmkTw5qRC",
        "colab_type": "code",
        "colab": {
          "base_uri": "https://localhost:8080/",
          "height": 541
        },
        "outputId": "800d5c1c-37ff-40b9-f8b7-05a6d9b21a42"
      },
      "source": [
        "plot_graphs(history, 'loss')\n",
        "plot_graphs(history, 'acc')\n"
      ],
      "execution_count": null,
      "outputs": [
        {
          "output_type": "display_data",
          "data": {
            "image/png": "[encoded data removed]",
            "text/plain": [
              "<Figure size 432x288 with 1 Axes>"
            ]
          },
          "metadata": {
            "tags": [],
            "needs_background": "light"
          }
        },
        {
          "output_type": "display_data",
          "data": {
            "image/png": "[encoded data removed]",
            "text/plain": [
              "<Figure size 432x288 with 1 Axes>"
            ]
          },
          "metadata": {
            "tags": [],
            "needs_background": "light"
          }
        }
      ]
    },
    {
      "cell_type": "code",
      "metadata": {
        "id": "8WsxCh9E1B84",
        "colab_type": "code",
        "colab": {
          "base_uri": "https://localhost:8080/",
          "height": 145
        },
        "outputId": "7b982bf5-1b19-4a0f-f741-d7ebe085d8d9"
      },
      "source": [
        "sig_clf_probs = model.predict_proba(X_te_paded) \n",
        "\n",
        "y_hat = model.predict_classes(X_te_paded) ######################### predicted label as 3 classes"
      ],
      "execution_count": null,
      "outputs": [
        {
          "output_type": "stream",
          "text": [
            "WARNING:tensorflow:From <ipython-input-51-7afe2b1419e9>:1: Sequential.predict_proba (from tensorflow.python.keras.engine.sequential) is deprecated and will be removed after 2021-01-01.\n",
            "Instructions for updating:\n",
            "Please use `model.predict()` instead.\n",
            "WARNING:tensorflow:From <ipython-input-51-7afe2b1419e9>:3: Sequential.predict_classes (from tensorflow.python.keras.engine.sequential) is deprecated and will be removed after 2021-01-01.\n",
            "Instructions for updating:\n",
            "Please use instead:* `np.argmax(model.predict(x), axis=-1)`,   if your model does multi-class classification   (e.g. if it uses a `softmax` last-layer activation).* `(model.predict(x) > 0.5).astype(\"int32\")`,   if your model does binary classification   (e.g. if it uses a `sigmoid` last-layer activation).\n"
          ],
          "name": "stdout"
        }
      ]
    },
    {
      "cell_type": "code",
      "metadata": {
        "id": "EuJsEnPwqtr7",
        "colab_type": "code",
        "colab": {
          "base_uri": "https://localhost:8080/",
          "height": 71
        },
        "outputId": "58e884bd-e9b5-421b-e49b-4d81d0a281a5"
      },
      "source": [
        "y_hat"
      ],
      "execution_count": null,
      "outputs": [
        {
          "output_type": "execute_result",
          "data": {
            "text/plain": [
              "array([0, 0, 0, 0, 2, 0, 0, 0, 0, 0, 2, 0, 0, 2, 0, 0, 2, 2, 0, 0, 0, 0,\n",
              "       0, 0, 2, 0, 0, 2, 0, 2, 0, 0, 2, 2, 0, 0, 0, 0, 0, 2, 0, 2, 0, 0,\n",
              "       2, 0, 2, 0, 0, 0, 2, 2, 0, 0, 0, 0])"
            ]
          },
          "metadata": {
            "tags": []
          },
          "execution_count": 52
        }
      ]
    },
    {
      "cell_type": "code",
      "metadata": {
        "id": "qD_MB5awmAMR",
        "colab_type": "code",
        "colab": {}
      },
      "source": [
        "clf_confidence = np.zeros(y_hat.shape) ##################### confidence value for each piece of prediction\n",
        "\n",
        "for i in range(len(y_hat)):\n",
        "  if y_hat[i]!=0:\n",
        "    clf_confidence[i] = sig_clf_probs[i][y_hat[i]]\n",
        "  else:\n",
        "    if sig_clf_probs[i][1]>=sig_clf_probs[i][2]:\n",
        "      clf_confidence[i] = sig_clf_probs[i][1]\n",
        "      y_hat[i] = 1\n",
        "    else:\n",
        "      clf_confidence[i] = sig_clf_probs[i][2]\n",
        "      y_hat[i] = 2\n",
        "            \n"
      ],
      "execution_count": null,
      "outputs": []
    },
    {
      "cell_type": "code",
      "metadata": {
        "id": "nOaznWofkp7D",
        "colab_type": "code",
        "colab": {
          "base_uri": "https://localhost:8080/",
          "height": 71
        },
        "outputId": "cd1870d6-f114-4d00-fe8a-797e9fa50021"
      },
      "source": [
        "y_hat"
      ],
      "execution_count": null,
      "outputs": [
        {
          "output_type": "execute_result",
          "data": {
            "text/plain": [
              "array([2, 2, 2, 2, 2, 2, 2, 2, 2, 2, 2, 2, 2, 2, 2, 2, 2, 2, 2, 2, 2, 2,\n",
              "       2, 2, 2, 2, 2, 2, 2, 2, 2, 2, 2, 2, 2, 2, 2, 2, 2, 2, 2, 2, 2, 2,\n",
              "       2, 2, 2, 2, 2, 2, 2, 2, 2, 2, 2, 2])"
            ]
          },
          "metadata": {
            "tags": []
          },
          "execution_count": 54
        }
      ]
    },
    {
      "cell_type": "code",
      "metadata": {
        "id": "hWmmxF8gqrje",
        "colab_type": "code",
        "colab": {}
      },
      "source": [
        "def scorer(y_truth, y_hat, confidence): # rumourEval 2019 version of scorer\n",
        "#@ Param:  y_truth: a list of true labels\n",
        "#          y_hat: a list of predicted y values\n",
        "#          confidence: a list of confidence values related to y_hat\n",
        "# Return: accuracy score, RMSE and Macro averaged F1 score\n",
        "    \n",
        "    correct = 0\n",
        "    total = len(y_hat)\n",
        "    errors = []\n",
        "    y_pred = []\n",
        "    \n",
        "    for i in range(total):\n",
        "        if confidence[i]>0.5:\n",
        "                y_pred += [y_hat[i]]\n",
        "        else:\n",
        "                y_pred += [0]   \n",
        "        \n",
        "        if y_pred[i] == y_truth[i] and y_truth[i]!=0:\n",
        "            correct += 1\n",
        "            errors += [(1-confidence[i])**2]\n",
        "\n",
        "        elif y_truth[i] == 0:\n",
        "            errors += [ (confidence[i])**2 ]\n",
        "\n",
        "        else:\n",
        "            errors += [1.0]\n",
        "    \n",
        "    score = correct / total\n",
        "    rmse = math.sqrt( sum(errors) / len(errors) )\n",
        "    macroF = f1_score(y_truth, y_pred, average='macro')\n",
        "\n",
        "    return score,rmse,macroF"
      ],
      "execution_count": null,
      "outputs": []
    },
    {
      "cell_type": "code",
      "metadata": {
        "id": "X_14cG_dlP6V",
        "colab_type": "code",
        "colab": {}
      },
      "source": [
        "Y_te = [testLabels[ID] for ID in testID] ####################################\n",
        "Y_te = str2no(Y_te) #########################################"
      ],
      "execution_count": null,
      "outputs": []
    },
    {
      "cell_type": "code",
      "metadata": {
        "id": "eBkPY5tBVokP",
        "colab_type": "code",
        "colab": {
          "base_uri": "https://localhost:8080/",
          "height": 71
        },
        "outputId": "6f2096f3-e0cc-415c-e857-e93ec863b547"
      },
      "source": [
        "score,rmse,macroF = scorer(Y_te,y_hat,clf_confidence) # F-score is ill-defined and being set to 0.0 in labels with no predicted samples\n",
        "print('accuracy:', score)\n",
        "print('RMSE:', rmse)\n",
        "print('Macro averaged F1 socre:', macroF)"
      ],
      "execution_count": null,
      "outputs": [
        {
          "output_type": "stream",
          "text": [
            "accuracy: 0.0\n",
            "RMSE: 0.9757452611390581\n",
            "Macro averaged F1 socre: 0.02380952380952381\n"
          ],
          "name": "stdout"
        }
      ]
    },
    {
      "cell_type": "code",
      "metadata": {
        "id": "rykbv_jNXyEv",
        "colab_type": "code",
        "colab": {
          "base_uri": "https://localhost:8080/",
          "height": 359
        },
        "outputId": "463a29c7-f948-4d23-c4ca-04e53a3515d3"
      },
      "source": [
        "def build_model(): ################# bidirectional LSTM\n",
        "    \n",
        "    model = Sequential([\n",
        "    layers.Embedding(len(embedding_matrix), 300,  \n",
        "            mask_zero=True, \n",
        "            embeddings_initializer=initializers.Constant(embedding_matrix),\n",
        "            input_length=len(X_tr_paded[0]), \n",
        "            trainable=False),\n",
        "    layers.Dropout(0.1),\n",
        "    layers.Bidirectional(layers.LSTM(300,return_sequences=False)),\n",
        "    layers.Dropout(0.1),\n",
        "    layers.Dense(3,activation='softmax')\n",
        "    ])\n",
        "\n",
        "    model.compile(optimizer=optimizers.Adam(lr=0.01),loss='categorical_crossentropy',metrics=['acc'])\n",
        "    print(model.summary())\n",
        "\n",
        "    return model\n",
        "\n",
        "model = build_model()"
      ],
      "execution_count": null,
      "outputs": [
        {
          "output_type": "stream",
          "text": [
            "Model: \"sequential_11\"\n",
            "_________________________________________________________________\n",
            "Layer (type)                 Output Shape              Param #   \n",
            "=================================================================\n",
            "embedding_11 (Embedding)     (None, 28, 300)           472500    \n",
            "_________________________________________________________________\n",
            "dropout_22 (Dropout)         (None, 28, 300)           0         \n",
            "_________________________________________________________________\n",
            "bidirectional_12 (Bidirectio (None, 600)               1442400   \n",
            "_________________________________________________________________\n",
            "dropout_23 (Dropout)         (None, 600)               0         \n",
            "_________________________________________________________________\n",
            "dense_11 (Dense)             (None, 3)                 1803      \n",
            "=================================================================\n",
            "Total params: 1,916,703\n",
            "Trainable params: 1,444,203\n",
            "Non-trainable params: 472,500\n",
            "_________________________________________________________________\n",
            "None\n"
          ],
          "name": "stdout"
        }
      ]
    },
    {
      "cell_type": "code",
      "metadata": {
        "id": "yBYm0WFnncEq",
        "colab_type": "code",
        "colab": {
          "base_uri": "https://localhost:8080/",
          "height": 917
        },
        "outputId": "5b25574d-c6f4-4798-8df0-25c1e3a8b74f"
      },
      "source": [
        "history = model.fit(x=X_tr_paded, y=Y_tr, batch_size=297, epochs=25, validation_data=(X_dev_paded,Y_dev))\n",
        "                    #callbacks=[EarlyStopping(monitor='val_loss', patience=2, min_delta=0.000001)])"
      ],
      "execution_count": null,
      "outputs": [
        {
          "output_type": "stream",
          "text": [
            "Epoch 1/25\n",
            "1/1 [==============================] - 2s 2s/step - loss: 1.0975 - acc: 0.3535 - val_loss: 7.4964 - val_acc: 0.2857\n",
            "Epoch 2/25\n",
            "1/1 [==============================] - 0s 51ms/step - loss: 5.1541 - acc: 0.4613 - val_loss: 1.7019 - val_acc: 0.2500\n",
            "Epoch 3/25\n",
            "1/1 [==============================] - 0s 42ms/step - loss: 1.5425 - acc: 0.3569 - val_loss: 1.7995 - val_acc: 0.4286\n",
            "Epoch 4/25\n",
            "1/1 [==============================] - 0s 35ms/step - loss: 2.2399 - acc: 0.2189 - val_loss: 1.4213 - val_acc: 0.3571\n",
            "Epoch 5/25\n",
            "1/1 [==============================] - 0s 37ms/step - loss: 1.0517 - acc: 0.5354 - val_loss: 1.4728 - val_acc: 0.3929\n",
            "Epoch 6/25\n",
            "1/1 [==============================] - 0s 33ms/step - loss: 0.9560 - acc: 0.6128 - val_loss: 1.3941 - val_acc: 0.3214\n",
            "Epoch 7/25\n",
            "1/1 [==============================] - 0s 37ms/step - loss: 0.9832 - acc: 0.5017 - val_loss: 1.1228 - val_acc: 0.3929\n",
            "Epoch 8/25\n",
            "1/1 [==============================] - 0s 40ms/step - loss: 0.8665 - acc: 0.5690 - val_loss: 0.9701 - val_acc: 0.4286\n",
            "Epoch 9/25\n",
            "1/1 [==============================] - 0s 34ms/step - loss: 0.8242 - acc: 0.6195 - val_loss: 0.9396 - val_acc: 0.4643\n",
            "Epoch 10/25\n",
            "1/1 [==============================] - 0s 33ms/step - loss: 0.8446 - acc: 0.6061 - val_loss: 0.9464 - val_acc: 0.4643\n",
            "Epoch 11/25\n",
            "1/1 [==============================] - 0s 31ms/step - loss: 0.8442 - acc: 0.6128 - val_loss: 0.9546 - val_acc: 0.4643\n",
            "Epoch 12/25\n",
            "1/1 [==============================] - 0s 40ms/step - loss: 0.8153 - acc: 0.6094 - val_loss: 0.9602 - val_acc: 0.4286\n",
            "Epoch 13/25\n",
            "1/1 [==============================] - 0s 40ms/step - loss: 0.7772 - acc: 0.6330 - val_loss: 0.9638 - val_acc: 0.4286\n",
            "Epoch 14/25\n",
            "1/1 [==============================] - 0s 40ms/step - loss: 0.7435 - acc: 0.6667 - val_loss: 0.9616 - val_acc: 0.4286\n",
            "Epoch 15/25\n",
            "1/1 [==============================] - 0s 38ms/step - loss: 0.7163 - acc: 0.6970 - val_loss: 0.9525 - val_acc: 0.4643\n",
            "Epoch 16/25\n",
            "1/1 [==============================] - 0s 31ms/step - loss: 0.7004 - acc: 0.7273 - val_loss: 0.9428 - val_acc: 0.5000\n",
            "Epoch 17/25\n",
            "1/1 [==============================] - 0s 35ms/step - loss: 0.6825 - acc: 0.7542 - val_loss: 0.9333 - val_acc: 0.5000\n",
            "Epoch 18/25\n",
            "1/1 [==============================] - 0s 32ms/step - loss: 0.6538 - acc: 0.7778 - val_loss: 0.9233 - val_acc: 0.5000\n",
            "Epoch 19/25\n",
            "1/1 [==============================] - 0s 37ms/step - loss: 0.6120 - acc: 0.7811 - val_loss: 0.9099 - val_acc: 0.5357\n",
            "Epoch 20/25\n",
            "1/1 [==============================] - 0s 33ms/step - loss: 0.5754 - acc: 0.8148 - val_loss: 0.8790 - val_acc: 0.5357\n",
            "Epoch 21/25\n",
            "1/1 [==============================] - 0s 32ms/step - loss: 0.5403 - acc: 0.8148 - val_loss: 0.8356 - val_acc: 0.6071\n",
            "Epoch 22/25\n",
            "1/1 [==============================] - 0s 32ms/step - loss: 0.5069 - acc: 0.8350 - val_loss: 0.8005 - val_acc: 0.6429\n",
            "Epoch 23/25\n",
            "1/1 [==============================] - 0s 34ms/step - loss: 0.4695 - acc: 0.8620 - val_loss: 0.8016 - val_acc: 0.6429\n",
            "Epoch 24/25\n",
            "1/1 [==============================] - 0s 32ms/step - loss: 0.4249 - acc: 0.8687 - val_loss: 0.8524 - val_acc: 0.7143\n",
            "Epoch 25/25\n",
            "1/1 [==============================] - 0s 36ms/step - loss: 0.3680 - acc: 0.8923 - val_loss: 0.8957 - val_acc: 0.7143\n"
          ],
          "name": "stdout"
        }
      ]
    },
    {
      "cell_type": "code",
      "metadata": {
        "id": "12lJoh2J3Q49",
        "colab_type": "code",
        "colab": {
          "base_uri": "https://localhost:8080/",
          "height": 35
        },
        "outputId": "1da55f50-1fe4-4df4-e263-a344ffb8273f"
      },
      "source": [
        "print(history)"
      ],
      "execution_count": null,
      "outputs": [
        {
          "output_type": "stream",
          "text": [
            "<tensorflow.python.keras.callbacks.History object at 0x7f9c4bee0828>\n"
          ],
          "name": "stdout"
        }
      ]
    },
    {
      "cell_type": "code",
      "metadata": {
        "id": "u376yhAI3t27",
        "colab_type": "code",
        "colab": {}
      },
      "source": [
        "history.on_epoch_end"
      ],
      "execution_count": null,
      "outputs": []
    },
    {
      "cell_type": "code",
      "metadata": {
        "id": "WPLRsSYdng7x",
        "colab_type": "code",
        "colab": {
          "base_uri": "https://localhost:8080/",
          "height": 541
        },
        "outputId": "98f35eca-a471-4266-90e7-067d37e3f792"
      },
      "source": [
        "plot_graphs(history, 'loss')\n",
        "plot_graphs(history, 'acc')\n"
      ],
      "execution_count": null,
      "outputs": [
        {
          "output_type": "display_data",
          "data": {
            "image/png": "[encoded data removed]",
            "text/plain": [
              "<Figure size 432x288 with 1 Axes>"
            ]
          },
          "metadata": {
            "tags": [],
            "needs_background": "light"
          }
        },
        {
          "output_type": "display_data",
          "data": {
            "image/png": "[encoded data removed]",
            "text/plain": [
              "<Figure size 432x288 with 1 Axes>"
            ]
          },
          "metadata": {
            "tags": [],
            "needs_background": "light"
          }
        }
      ]
    },
    {
      "cell_type": "code",
      "metadata": {
        "id": "97GdRuJenla8",
        "colab_type": "code",
        "colab": {}
      },
      "source": [
        "sig_clf_probs = model.predict(X_te_paded) \n",
        "\n",
        "y_hat = model.predict_classes(X_te_paded) ######################### predicted label as 3 classes\n"
      ],
      "execution_count": null,
      "outputs": []
    },
    {
      "cell_type": "code",
      "metadata": {
        "id": "CAR3k0OE9zdP",
        "colab_type": "code",
        "colab": {
          "base_uri": "https://localhost:8080/",
          "height": 71
        },
        "outputId": "b46f79d9-35a6-4241-94db-bfeb7f18bce7"
      },
      "source": [
        "y_hat ################# this y_hat was generated from model"
      ],
      "execution_count": null,
      "outputs": [
        {
          "output_type": "execute_result",
          "data": {
            "text/plain": [
              "array([0, 2, 0, 2, 2, 2, 0, 2, 2, 2, 1, 1, 2, 0, 0, 0, 1, 1, 0, 1, 0, 2,\n",
              "       2, 1, 1, 0, 2, 0, 2, 2, 2, 2, 2, 2, 1, 0, 2, 2, 2, 2, 2, 2, 0, 0,\n",
              "       0, 2, 1, 2, 0, 2, 2, 2, 0, 2, 2, 1])"
            ]
          },
          "metadata": {
            "tags": []
          },
          "execution_count": 129
        }
      ]
    },
    {
      "cell_type": "code",
      "metadata": {
        "id": "nLCYopk9nrG6",
        "colab_type": "code",
        "colab": {}
      },
      "source": [
        "clf_confidence = np.zeros(y_hat.shape) ##################### confidence value for each piece of prediction\n",
        "\n",
        "for i in range(len(y_hat)):\n",
        "  if y_hat[i]!=0:\n",
        "    clf_confidence[i] = sig_clf_probs[i][y_hat[i]]\n",
        "  else:\n",
        "    if sig_clf_probs[i][1]>=sig_clf_probs[i][2]:\n",
        "      clf_confidence[i] = sig_clf_probs[i][1]\n",
        "      y_hat[i] = 1\n",
        "    else:\n",
        "      clf_confidence[i] = sig_clf_probs[i][2]\n",
        "      y_hat[i] = 2"
      ],
      "execution_count": null,
      "outputs": []
    },
    {
      "cell_type": "code",
      "metadata": {
        "id": "620QjWhy67a7",
        "colab_type": "code",
        "colab": {
          "base_uri": "https://localhost:8080/",
          "height": 55
        },
        "outputId": "37ac7d96-b168-4efb-bd9d-00c3f35f63e5"
      },
      "source": [
        "print(Y_te)"
      ],
      "execution_count": null,
      "outputs": [
        {
          "output_type": "stream",
          "text": [
            "[2, 2, 2, 2, 2, 2, 1, 1, 1, 2, 1, 1, 1, 0, 1, 1, 1, 1, 1, 1, 2, 2, 1, 2, 1, 1, 2, 1, 1, 2, 2, 1, 2, 2, 1, 2, 1, 1, 1, 0, 0, 1, 1, 1, 0, 1, 2, 1, 1, 1, 1, 2, 2, 2, 2, 2]\n"
          ],
          "name": "stdout"
        }
      ]
    },
    {
      "cell_type": "code",
      "metadata": {
        "id": "Uw2ty8B84z-D",
        "colab_type": "code",
        "colab": {
          "base_uri": "https://localhost:8080/",
          "height": 71
        },
        "outputId": "6cf580be-5b6d-4e64-cb4c-7b7d6dc1d681"
      },
      "source": [
        "y_hat ####################### this y_hat was modified according to rules"
      ],
      "execution_count": null,
      "outputs": [
        {
          "output_type": "execute_result",
          "data": {
            "text/plain": [
              "array([2, 2, 2, 2, 2, 2, 2, 2, 2, 2, 1, 1, 2, 1, 2, 2, 1, 1, 1, 1, 2, 2,\n",
              "       2, 1, 1, 2, 2, 2, 2, 2, 2, 2, 2, 2, 1, 2, 2, 2, 2, 2, 2, 2, 1, 1,\n",
              "       1, 2, 1, 2, 2, 2, 2, 2, 2, 2, 2, 1])"
            ]
          },
          "metadata": {
            "tags": []
          },
          "execution_count": 132
        }
      ]
    },
    {
      "cell_type": "code",
      "metadata": {
        "id": "qCVozoASnq-A",
        "colab_type": "code",
        "colab": {
          "base_uri": "https://localhost:8080/",
          "height": 71
        },
        "outputId": "bbf01c31-f16b-43c6-e982-23cc83611b1b"
      },
      "source": [
        "score,rmse,macroF = scorer(Y_te,y_hat,clf_confidence) # F-score is ill-defined and being set to 0.0 in labels with no predicted samples\n",
        "print('accuracy:', score)\n",
        "print('RMSE:', rmse)\n",
        "print('Macro averaged F1 socre:', macroF)"
      ],
      "execution_count": null,
      "outputs": [
        {
          "output_type": "stream",
          "text": [
            "accuracy: 0.2857142857142857\n",
            "RMSE: 0.8289270864114356\n",
            "Macro averaged F1 socre: 0.3439660590823381\n"
          ],
          "name": "stdout"
        }
      ]
    },
    {
      "cell_type": "code",
      "metadata": {
        "id": "q_j-u_8F61ba",
        "colab_type": "code",
        "colab": {}
      },
      "source": [
        "import tensorflow.keras.callbacks as cb\n",
        "class LossHistory(cb.Callback):\n",
        "    def on_train_begin(self, logs={}):\n",
        "        self.losses = {'batch':[], 'epoch':[]}\n",
        "        self.accuracy = {'batch':[], 'epoch':[]}\n",
        "        self.val_loss = {'batch':[], 'epoch':[]}\n",
        "        self.val_acc = {'batch':[], 'epoch':[]}\n",
        "\n",
        "    def on_batch_end(self, batch, logs={}):\n",
        "        self.losses['batch'].append(logs.get('loss'))\n",
        "        self.accuracy['batch'].append(logs.get('acc'))\n",
        "        self.val_loss['batch'].append(logs.get('val_loss'))\n",
        "        self.val_acc['batch'].append(logs.get('val_acc'))\n",
        "\n",
        "    def on_epoch_end(self, batch, logs={}):\n",
        "        self.losses['epoch'].append(logs.get('loss'))\n",
        "        self.accuracy['epoch'].append(logs.get('acc'))\n",
        "        self.val_loss['epoch'].append(logs.get('val_loss'))\n",
        "        self.val_acc['epoch'].append(logs.get('val_acc'))\n",
        "\n",
        "    def loss_plot(self, loss_type):\n",
        "        iters = range(len(self.losses[loss_type]))\n",
        "        plt.figure()\n",
        "        # acc\n",
        "        plt.plot(iters, self.accuracy[loss_type], 'r', label='train acc')\n",
        "        # loss\n",
        "        plt.plot(iters, self.losses[loss_type], 'g', label='train loss')\n",
        "        if loss_type == 'epoch':\n",
        "            # val_acc\n",
        "            plt.plot(iters, self.val_acc[loss_type], 'b', label='val acc')\n",
        "            # val_loss\n",
        "            plt.plot(iters, self.val_loss[loss_type], 'k', label='val loss')\n",
        "        plt.grid(True)\n",
        "        plt.xlabel(loss_type)\n",
        "        plt.ylabel('acc-loss')\n",
        "        plt.legend(loc=\"upper right\")\n",
        "        plt.show()"
      ],
      "execution_count": null,
      "outputs": []
    },
    {
      "cell_type": "code",
      "metadata": {
        "colab_type": "code",
        "id": "STCmyJWy7jYP",
        "colab": {
          "base_uri": "https://localhost:8080/",
          "height": 359
        },
        "outputId": "ef0d38c0-308d-4b74-a089-d6b1d5f8ee00"
      },
      "source": [
        "def build_model(): ################# bidirectional LSTM\n",
        "    \n",
        "    model = Sequential([\n",
        "    layers.Embedding(len(embedding_matrix), 300,  \n",
        "            mask_zero=True, \n",
        "            embeddings_initializer=initializers.Constant(embedding_matrix),\n",
        "            input_length=len(X_tr_paded[0]), \n",
        "            trainable=False),\n",
        "    layers.Dropout(0.1),\n",
        "    layers.Bidirectional(layers.LSTM(300,return_sequences=False)),\n",
        "    layers.Dropout(0.1),\n",
        "    layers.Dense(3,activation='softmax')\n",
        "    ])\n",
        "\n",
        "    model.compile(optimizer=optimizers.Adam(lr=0.01),loss='categorical_crossentropy',metrics=['acc'])\n",
        "    print(model.summary())\n",
        "\n",
        "    return model\n",
        "\n",
        "model = build_model()"
      ],
      "execution_count": null,
      "outputs": [
        {
          "output_type": "stream",
          "text": [
            "Model: \"sequential_14\"\n",
            "_________________________________________________________________\n",
            "Layer (type)                 Output Shape              Param #   \n",
            "=================================================================\n",
            "embedding_14 (Embedding)     (None, 28, 300)           472500    \n",
            "_________________________________________________________________\n",
            "dropout_28 (Dropout)         (None, 28, 300)           0         \n",
            "_________________________________________________________________\n",
            "bidirectional_15 (Bidirectio (None, 600)               1442400   \n",
            "_________________________________________________________________\n",
            "dropout_29 (Dropout)         (None, 600)               0         \n",
            "_________________________________________________________________\n",
            "dense_14 (Dense)             (None, 3)                 1803      \n",
            "=================================================================\n",
            "Total params: 1,916,703\n",
            "Trainable params: 1,444,203\n",
            "Non-trainable params: 472,500\n",
            "_________________________________________________________________\n",
            "None\n"
          ],
          "name": "stdout"
        }
      ]
    },
    {
      "cell_type": "code",
      "metadata": {
        "id": "HNy2EkkS62hp",
        "colab_type": "code",
        "colab": {
          "base_uri": "https://localhost:8080/",
          "height": 917
        },
        "outputId": "9e22f78c-c95b-494d-8daa-4c2d8f2eb447"
      },
      "source": [
        "myLossHistory = LossHistory()\n",
        "history = model.fit(x=X_tr_paded, y=Y_tr, batch_size=297, epochs=25, validation_data=(X_dev_paded,Y_dev)\n",
        "                    ,callbacks=[myLossHistory])"
      ],
      "execution_count": null,
      "outputs": [
        {
          "output_type": "stream",
          "text": [
            "Epoch 1/25\n",
            "1/1 [==============================] - 2s 2s/step - loss: 1.0840 - acc: 0.4242 - val_loss: 6.1953 - val_acc: 0.2857\n",
            "Epoch 2/25\n",
            "1/1 [==============================] - 0s 37ms/step - loss: 3.8754 - acc: 0.4613 - val_loss: 2.5567 - val_acc: 0.2857\n",
            "Epoch 3/25\n",
            "1/1 [==============================] - 0s 31ms/step - loss: 2.6250 - acc: 0.3333 - val_loss: 1.4955 - val_acc: 0.4643\n",
            "Epoch 4/25\n",
            "1/1 [==============================] - 0s 32ms/step - loss: 1.8395 - acc: 0.2862 - val_loss: 1.4402 - val_acc: 0.3929\n",
            "Epoch 5/25\n",
            "1/1 [==============================] - 0s 32ms/step - loss: 1.1290 - acc: 0.5488 - val_loss: 1.4842 - val_acc: 0.3571\n",
            "Epoch 6/25\n",
            "1/1 [==============================] - 0s 38ms/step - loss: 0.9785 - acc: 0.6027 - val_loss: 1.4204 - val_acc: 0.3214\n",
            "Epoch 7/25\n",
            "1/1 [==============================] - 0s 36ms/step - loss: 1.0108 - acc: 0.4646 - val_loss: 1.1377 - val_acc: 0.3929\n",
            "Epoch 8/25\n",
            "1/1 [==============================] - 0s 50ms/step - loss: 0.8541 - acc: 0.6229 - val_loss: 1.0136 - val_acc: 0.3571\n",
            "Epoch 9/25\n",
            "1/1 [==============================] - 0s 37ms/step - loss: 0.8290 - acc: 0.5993 - val_loss: 0.9932 - val_acc: 0.3571\n",
            "Epoch 10/25\n",
            "1/1 [==============================] - 0s 38ms/step - loss: 0.8620 - acc: 0.5859 - val_loss: 0.9880 - val_acc: 0.4286\n",
            "Epoch 11/25\n",
            "1/1 [==============================] - 0s 37ms/step - loss: 0.8573 - acc: 0.5993 - val_loss: 0.9802 - val_acc: 0.3929\n",
            "Epoch 12/25\n",
            "1/1 [==============================] - 0s 36ms/step - loss: 0.8190 - acc: 0.6094 - val_loss: 0.9791 - val_acc: 0.3929\n",
            "Epoch 13/25\n",
            "1/1 [==============================] - 0s 39ms/step - loss: 0.7843 - acc: 0.6296 - val_loss: 0.9885 - val_acc: 0.3929\n",
            "Epoch 14/25\n",
            "1/1 [==============================] - 0s 37ms/step - loss: 0.7571 - acc: 0.6768 - val_loss: 1.0032 - val_acc: 0.3571\n",
            "Epoch 15/25\n",
            "1/1 [==============================] - 0s 42ms/step - loss: 0.7461 - acc: 0.7205 - val_loss: 1.0123 - val_acc: 0.3571\n",
            "Epoch 16/25\n",
            "1/1 [==============================] - 0s 36ms/step - loss: 0.7366 - acc: 0.7071 - val_loss: 1.0049 - val_acc: 0.3571\n",
            "Epoch 17/25\n",
            "1/1 [==============================] - 0s 38ms/step - loss: 0.7154 - acc: 0.7104 - val_loss: 0.9838 - val_acc: 0.3929\n",
            "Epoch 18/25\n",
            "1/1 [==============================] - 0s 38ms/step - loss: 0.6837 - acc: 0.7340 - val_loss: 0.9588 - val_acc: 0.4643\n",
            "Epoch 19/25\n",
            "1/1 [==============================] - 0s 40ms/step - loss: 0.6501 - acc: 0.7576 - val_loss: 0.9373 - val_acc: 0.5357\n",
            "Epoch 20/25\n",
            "1/1 [==============================] - 0s 38ms/step - loss: 0.6168 - acc: 0.7744 - val_loss: 0.9243 - val_acc: 0.6071\n",
            "Epoch 21/25\n",
            "1/1 [==============================] - 0s 37ms/step - loss: 0.5830 - acc: 0.7677 - val_loss: 0.9147 - val_acc: 0.6071\n",
            "Epoch 22/25\n",
            "1/1 [==============================] - 0s 39ms/step - loss: 0.5557 - acc: 0.7542 - val_loss: 0.9146 - val_acc: 0.5714\n",
            "Epoch 23/25\n",
            "1/1 [==============================] - 0s 35ms/step - loss: 0.5194 - acc: 0.7744 - val_loss: 0.9609 - val_acc: 0.5714\n",
            "Epoch 24/25\n",
            "1/1 [==============================] - 0s 33ms/step - loss: 0.4764 - acc: 0.8114 - val_loss: 0.9818 - val_acc: 0.5357\n",
            "Epoch 25/25\n",
            "1/1 [==============================] - 0s 31ms/step - loss: 0.4186 - acc: 0.8485 - val_loss: 0.9042 - val_acc: 0.5714\n"
          ],
          "name": "stdout"
        }
      ]
    },
    {
      "cell_type": "code",
      "metadata": {
        "id": "B5mWKY7a8Dx7",
        "colab_type": "code",
        "colab": {}
      },
      "source": [
        "bilstm_loss = myLossHistory.val_loss['epoch'] ##########################"
      ],
      "execution_count": null,
      "outputs": []
    },
    {
      "cell_type": "code",
      "metadata": {
        "id": "HKIuqQ6V8OPW",
        "colab_type": "code",
        "colab": {
          "base_uri": "https://localhost:8080/",
          "height": 541
        },
        "outputId": "b73a3be7-4af5-486b-d896-dacdbb82d418"
      },
      "source": [
        "plot_graphs(history, 'loss')\n",
        "plot_graphs(history, 'acc')\n"
      ],
      "execution_count": null,
      "outputs": [
        {
          "output_type": "display_data",
          "data": {
            "image/png": "[encoded data removed]",
            "text/plain": [
              "<Figure size 432x288 with 1 Axes>"
            ]
          },
          "metadata": {
            "tags": [],
            "needs_background": "light"
          }
        },
        {
          "output_type": "display_data",
          "data": {
            "image/png": "[encoded data removed]",
            "text/plain": [
              "<Figure size 432x288 with 1 Axes>"
            ]
          },
          "metadata": {
            "tags": [],
            "needs_background": "light"
          }
        }
      ]
    },
    {
      "cell_type": "code",
      "metadata": {
        "id": "SDujvPMZ88fV",
        "colab_type": "code",
        "colab": {
          "base_uri": "https://localhost:8080/",
          "height": 395
        },
        "outputId": "0003e331-b115-449a-dd57-6339e9e0a552"
      },
      "source": [
        "def build_model(): ################# 2 layers bidirectional LSTM\n",
        "    \n",
        "    model = Sequential([\n",
        "    layers.Embedding(len(embedding_matrix), 300,  \n",
        "            mask_zero=True, \n",
        "            embeddings_initializer=initializers.Constant(embedding_matrix),\n",
        "            input_length=len(X_tr_paded[0]), \n",
        "            trainable=False),\n",
        "    layers.Dropout(0.1),\n",
        "    layers.Bidirectional(layers.LSTM(300,return_sequences=True)),\n",
        "    layers.Bidirectional(layers.LSTM(300,return_sequences=False)),\n",
        "    layers.Dropout(0.1),\n",
        "    layers.Dense(3,activation='softmax')\n",
        "    ])\n",
        "\n",
        "    model.compile(optimizer=optimizers.Adam(lr=0.01),loss='categorical_crossentropy',metrics=['acc'])\n",
        "    print(model.summary())\n",
        "\n",
        "    return model\n",
        "\n",
        "model = build_model()"
      ],
      "execution_count": null,
      "outputs": [
        {
          "output_type": "stream",
          "text": [
            "Model: \"sequential_24\"\n",
            "_________________________________________________________________\n",
            "Layer (type)                 Output Shape              Param #   \n",
            "=================================================================\n",
            "embedding_24 (Embedding)     (None, 28, 300)           472500    \n",
            "_________________________________________________________________\n",
            "dropout_48 (Dropout)         (None, 28, 300)           0         \n",
            "_________________________________________________________________\n",
            "bidirectional_34 (Bidirectio (None, 28, 600)           1442400   \n",
            "_________________________________________________________________\n",
            "bidirectional_35 (Bidirectio (None, 600)               2162400   \n",
            "_________________________________________________________________\n",
            "dropout_49 (Dropout)         (None, 600)               0         \n",
            "_________________________________________________________________\n",
            "dense_24 (Dense)             (None, 3)                 1803      \n",
            "=================================================================\n",
            "Total params: 4,079,103\n",
            "Trainable params: 3,606,603\n",
            "Non-trainable params: 472,500\n",
            "_________________________________________________________________\n",
            "None\n"
          ],
          "name": "stdout"
        }
      ]
    },
    {
      "cell_type": "code",
      "metadata": {
        "id": "_F-Zopl7ih9Z",
        "colab_type": "code",
        "colab": {
          "base_uri": "https://localhost:8080/",
          "height": 1000
        },
        "outputId": "8a1848ea-4f24-4db0-b260-2220da57ae58"
      },
      "source": [
        "myLossHistory = LossHistory()\n",
        "history = model.fit(x=X_tr_paded, y=Y_tr, batch_size=297, epochs=50, validation_data=(X_dev_paded,Y_dev)\n",
        "                    ,callbacks=[myLossHistory])"
      ],
      "execution_count": null,
      "outputs": [
        {
          "output_type": "stream",
          "text": [
            "Epoch 1/50\n",
            "1/1 [==============================] - 4s 4s/step - loss: 1.0889 - acc: 0.4444 - val_loss: 7.9082 - val_acc: 0.2857\n",
            "Epoch 2/50\n",
            "1/1 [==============================] - 0s 48ms/step - loss: 4.6448 - acc: 0.4613 - val_loss: 5.2464 - val_acc: 0.2857\n",
            "Epoch 3/50\n",
            "1/1 [==============================] - 0s 46ms/step - loss: 6.0314 - acc: 0.3333 - val_loss: 5.5414 - val_acc: 0.4286\n",
            "Epoch 4/50\n",
            "1/1 [==============================] - 0s 50ms/step - loss: 7.4638 - acc: 0.2088 - val_loss: 3.8365 - val_acc: 0.2857\n",
            "Epoch 5/50\n",
            "1/1 [==============================] - 0s 49ms/step - loss: 3.1813 - acc: 0.4613 - val_loss: 2.5395 - val_acc: 0.3929\n",
            "Epoch 6/50\n",
            "1/1 [==============================] - 0s 47ms/step - loss: 3.6072 - acc: 0.3232 - val_loss: 2.4518 - val_acc: 0.2857\n",
            "Epoch 7/50\n",
            "1/1 [==============================] - 0s 50ms/step - loss: 1.9106 - acc: 0.3569 - val_loss: 1.3574 - val_acc: 0.3214\n",
            "Epoch 8/50\n",
            "1/1 [==============================] - 0s 49ms/step - loss: 1.1879 - acc: 0.3838 - val_loss: 1.0689 - val_acc: 0.3214\n",
            "Epoch 9/50\n",
            "1/1 [==============================] - 0s 53ms/step - loss: 1.0804 - acc: 0.4815 - val_loss: 1.1294 - val_acc: 0.3929\n",
            "Epoch 10/50\n",
            "1/1 [==============================] - 0s 50ms/step - loss: 1.0394 - acc: 0.4916 - val_loss: 1.2237 - val_acc: 0.3571\n",
            "Epoch 11/50\n",
            "1/1 [==============================] - 0s 49ms/step - loss: 1.0130 - acc: 0.4815 - val_loss: 1.2028 - val_acc: 0.3929\n",
            "Epoch 12/50\n",
            "1/1 [==============================] - 0s 49ms/step - loss: 1.0189 - acc: 0.5286 - val_loss: 1.1908 - val_acc: 0.4286\n",
            "Epoch 13/50\n",
            "1/1 [==============================] - 0s 51ms/step - loss: 0.9971 - acc: 0.5320 - val_loss: 1.1276 - val_acc: 0.3929\n",
            "Epoch 14/50\n",
            "1/1 [==============================] - 0s 49ms/step - loss: 0.9685 - acc: 0.5421 - val_loss: 1.0390 - val_acc: 0.4286\n",
            "Epoch 15/50\n",
            "1/1 [==============================] - 0s 49ms/step - loss: 0.9674 - acc: 0.5354 - val_loss: 1.0025 - val_acc: 0.4643\n",
            "Epoch 16/50\n",
            "1/1 [==============================] - 0s 49ms/step - loss: 0.9520 - acc: 0.5522 - val_loss: 1.0008 - val_acc: 0.4286\n",
            "Epoch 17/50\n",
            "1/1 [==============================] - 0s 48ms/step - loss: 0.9180 - acc: 0.5791 - val_loss: 1.0635 - val_acc: 0.3929\n",
            "Epoch 18/50\n",
            "1/1 [==============================] - 0s 48ms/step - loss: 0.9061 - acc: 0.5589 - val_loss: 1.0960 - val_acc: 0.3929\n",
            "Epoch 19/50\n",
            "1/1 [==============================] - 0s 51ms/step - loss: 0.9030 - acc: 0.5556 - val_loss: 1.0485 - val_acc: 0.4286\n",
            "Epoch 20/50\n",
            "1/1 [==============================] - 0s 46ms/step - loss: 0.8941 - acc: 0.5690 - val_loss: 1.0474 - val_acc: 0.3571\n",
            "Epoch 21/50\n",
            "1/1 [==============================] - 0s 52ms/step - loss: 0.8822 - acc: 0.5724 - val_loss: 0.9944 - val_acc: 0.4286\n",
            "Epoch 22/50\n",
            "1/1 [==============================] - 0s 56ms/step - loss: 0.8533 - acc: 0.5960 - val_loss: 1.0018 - val_acc: 0.4286\n",
            "Epoch 23/50\n",
            "1/1 [==============================] - 0s 55ms/step - loss: 0.8306 - acc: 0.5960 - val_loss: 1.0743 - val_acc: 0.3571\n",
            "Epoch 24/50\n",
            "1/1 [==============================] - 0s 54ms/step - loss: 0.8239 - acc: 0.6330 - val_loss: 1.0393 - val_acc: 0.3929\n",
            "Epoch 25/50\n",
            "1/1 [==============================] - 0s 55ms/step - loss: 0.8365 - acc: 0.6094 - val_loss: 1.1007 - val_acc: 0.4286\n",
            "Epoch 26/50\n",
            "1/1 [==============================] - 0s 47ms/step - loss: 0.8205 - acc: 0.5926 - val_loss: 1.0160 - val_acc: 0.4286\n",
            "Epoch 27/50\n",
            "1/1 [==============================] - 0s 46ms/step - loss: 0.8283 - acc: 0.5993 - val_loss: 1.0043 - val_acc: 0.4643\n",
            "Epoch 28/50\n",
            "1/1 [==============================] - 0s 52ms/step - loss: 0.7596 - acc: 0.6700 - val_loss: 1.1193 - val_acc: 0.3929\n",
            "Epoch 29/50\n",
            "1/1 [==============================] - 0s 56ms/step - loss: 0.7986 - acc: 0.6027 - val_loss: 1.0421 - val_acc: 0.4286\n",
            "Epoch 30/50\n",
            "1/1 [==============================] - 0s 47ms/step - loss: 0.7588 - acc: 0.6532 - val_loss: 0.9864 - val_acc: 0.5000\n",
            "Epoch 31/50\n",
            "1/1 [==============================] - 0s 48ms/step - loss: 0.6920 - acc: 0.7037 - val_loss: 1.1913 - val_acc: 0.4643\n",
            "Epoch 32/50\n",
            "1/1 [==============================] - 0s 51ms/step - loss: 0.7446 - acc: 0.6532 - val_loss: 1.0443 - val_acc: 0.4643\n",
            "Epoch 33/50\n",
            "1/1 [==============================] - 0s 51ms/step - loss: 0.8180 - acc: 0.6397 - val_loss: 1.0104 - val_acc: 0.4286\n",
            "Epoch 34/50\n",
            "1/1 [==============================] - 0s 47ms/step - loss: 0.6859 - acc: 0.7071 - val_loss: 1.2627 - val_acc: 0.3929\n",
            "Epoch 35/50\n",
            "1/1 [==============================] - 0s 46ms/step - loss: 0.7295 - acc: 0.6700 - val_loss: 1.1720 - val_acc: 0.3571\n",
            "Epoch 36/50\n",
            "1/1 [==============================] - 0s 51ms/step - loss: 0.6586 - acc: 0.7172 - val_loss: 1.0410 - val_acc: 0.3929\n",
            "Epoch 37/50\n",
            "1/1 [==============================] - 0s 50ms/step - loss: 0.6277 - acc: 0.7138 - val_loss: 1.0348 - val_acc: 0.4643\n",
            "Epoch 38/50\n",
            "1/1 [==============================] - 0s 56ms/step - loss: 0.6345 - acc: 0.6970 - val_loss: 1.0922 - val_acc: 0.4286\n",
            "Epoch 39/50\n",
            "1/1 [==============================] - 0s 66ms/step - loss: 0.5600 - acc: 0.7643 - val_loss: 1.2307 - val_acc: 0.4286\n",
            "Epoch 40/50\n",
            "1/1 [==============================] - 0s 47ms/step - loss: 0.5695 - acc: 0.7475 - val_loss: 1.0864 - val_acc: 0.4643\n",
            "Epoch 41/50\n",
            "1/1 [==============================] - 0s 48ms/step - loss: 0.5862 - acc: 0.7239 - val_loss: 1.2504 - val_acc: 0.4643\n",
            "Epoch 42/50\n",
            "1/1 [==============================] - 0s 49ms/step - loss: 0.4579 - acc: 0.8316 - val_loss: 1.1879 - val_acc: 0.5000\n",
            "Epoch 43/50\n",
            "1/1 [==============================] - 0s 46ms/step - loss: 0.5631 - acc: 0.7374 - val_loss: 1.2544 - val_acc: 0.4643\n",
            "Epoch 44/50\n",
            "1/1 [==============================] - 0s 48ms/step - loss: 0.4541 - acc: 0.8215 - val_loss: 1.3716 - val_acc: 0.4286\n",
            "Epoch 45/50\n",
            "1/1 [==============================] - 0s 54ms/step - loss: 0.4433 - acc: 0.8283 - val_loss: 1.3057 - val_acc: 0.4286\n",
            "Epoch 46/50\n",
            "1/1 [==============================] - 0s 48ms/step - loss: 0.4138 - acc: 0.8013 - val_loss: 1.4147 - val_acc: 0.5000\n",
            "Epoch 47/50\n",
            "1/1 [==============================] - 0s 55ms/step - loss: 0.3906 - acc: 0.8384 - val_loss: 1.3577 - val_acc: 0.5000\n",
            "Epoch 48/50\n",
            "1/1 [==============================] - 0s 57ms/step - loss: 0.3817 - acc: 0.8485 - val_loss: 1.2382 - val_acc: 0.4286\n",
            "Epoch 49/50\n",
            "1/1 [==============================] - 0s 62ms/step - loss: 0.4010 - acc: 0.8384 - val_loss: 1.8286 - val_acc: 0.3929\n",
            "Epoch 50/50\n",
            "1/1 [==============================] - 0s 54ms/step - loss: 0.4809 - acc: 0.7744 - val_loss: 1.1750 - val_acc: 0.4286\n"
          ],
          "name": "stdout"
        }
      ]
    },
    {
      "cell_type": "code",
      "metadata": {
        "id": "LeYrsTc5ih6s",
        "colab_type": "code",
        "colab": {}
      },
      "source": [
        "bibilstm_loss = myLossHistory.val_loss['epoch'] ##########################"
      ],
      "execution_count": null,
      "outputs": []
    },
    {
      "cell_type": "code",
      "metadata": {
        "id": "q6QMyDZgiwxc",
        "colab_type": "code",
        "colab": {
          "base_uri": "https://localhost:8080/",
          "height": 541
        },
        "outputId": "3bec3ba0-9b06-40af-a4f5-fe0a91b8ab0d"
      },
      "source": [
        "plot_graphs(history, 'loss')\n",
        "plot_graphs(history, 'acc')\n"
      ],
      "execution_count": null,
      "outputs": [
        {
          "output_type": "display_data",
          "data": {
            "image/png": "[encoded data removed]",
            "text/plain": [
              "<Figure size 432x288 with 1 Axes>"
            ]
          },
          "metadata": {
            "tags": [],
            "needs_background": "light"
          }
        },
        {
          "output_type": "display_data",
          "data": {
            "image/png": "[encoded data removed]",
            "text/plain": [
              "<Figure size 432x288 with 1 Axes>"
            ]
          },
          "metadata": {
            "tags": [],
            "needs_background": "light"
          }
        }
      ]
    },
    {
      "cell_type": "code",
      "metadata": {
        "id": "4ordUr4yjq5i",
        "colab_type": "code",
        "colab": {
          "base_uri": "https://localhost:8080/",
          "height": 71
        },
        "outputId": "e83927f4-6361-4fb7-883a-4e6e6e60a197"
      },
      "source": [
        "sig_clf_probs = model.predict(X_te_paded) ################# 2 layers bidirectional LSTM\n",
        "\n",
        "y_hat = model.predict_classes(X_te_paded) ######################### predicted label as 3 classes\n",
        "\n",
        "clf_confidence = np.zeros(y_hat.shape) ##################### confidence value for each piece of prediction\n",
        "\n",
        "for i in range(len(y_hat)):\n",
        "  if y_hat[i]!=0:\n",
        "    clf_confidence[i] = sig_clf_probs[i][y_hat[i]]\n",
        "  else:\n",
        "    if sig_clf_probs[i][1]>=sig_clf_probs[i][2]:\n",
        "      clf_confidence[i] = sig_clf_probs[i][1]\n",
        "      y_hat[i] = 1\n",
        "    else:\n",
        "      clf_confidence[i] = sig_clf_probs[i][2]\n",
        "      y_hat[i] = 2\n",
        "\n",
        "score,rmse,macroF = scorer(Y_te,y_hat,clf_confidence) # F-score is ill-defined and being set to 0.0 in labels with no predicted samples\n",
        "print('accuracy:', score)\n",
        "print('RMSE:', rmse)\n",
        "print('Macro averaged F1 socre:', macroF)"
      ],
      "execution_count": null,
      "outputs": [
        {
          "output_type": "stream",
          "text": [
            "accuracy: 0.3392857142857143\n",
            "RMSE: 0.8129211755518386\n",
            "Macro averaged F1 socre: 0.25199362041467305\n"
          ],
          "name": "stdout"
        }
      ]
    },
    {
      "cell_type": "code",
      "metadata": {
        "id": "HYdMDvNT6Z68",
        "colab_type": "code",
        "colab": {
          "base_uri": "https://localhost:8080/",
          "height": 359
        },
        "outputId": "c4bb03ec-6a67-4c2c-d432-9f30dfb96327"
      },
      "source": [
        "def build_model(): ################# text CNN\n",
        "    \n",
        "    model = Sequential([\n",
        "    layers.Embedding(len(embedding_matrix), 300,  \n",
        "            mask_zero=True, \n",
        "            embeddings_initializer=initializers.Constant(embedding_matrix),\n",
        "            input_length=len(X_tr_paded[0]), \n",
        "            trainable=False),\n",
        "    layers.Conv1D(filters=200,\n",
        "          kernel_size=3,\n",
        "          padding='valid',\n",
        "         activation='relu',\n",
        "             strides=1),\n",
        "    layers.GlobalMaxPooling1D(),\n",
        "    layers.Dropout(0.1),\n",
        "    layers.Dense(3,activation='softmax')\n",
        "    ])\n",
        "\n",
        "    model.compile(optimizer=optimizers.Adam(lr=0.01),loss='categorical_crossentropy',metrics=['acc'])\n",
        "    print(model.summary())\n",
        "\n",
        "    return model\n",
        "\n",
        "model = build_model()"
      ],
      "execution_count": null,
      "outputs": [
        {
          "output_type": "stream",
          "text": [
            "Model: \"sequential_19\"\n",
            "_________________________________________________________________\n",
            "Layer (type)                 Output Shape              Param #   \n",
            "=================================================================\n",
            "embedding_19 (Embedding)     (None, 28, 300)           472500    \n",
            "_________________________________________________________________\n",
            "conv1d_18 (Conv1D)           (None, 26, 200)           180200    \n",
            "_________________________________________________________________\n",
            "global_max_pooling1d_18 (Glo (None, 200)               0         \n",
            "_________________________________________________________________\n",
            "dropout_19 (Dropout)         (None, 200)               0         \n",
            "_________________________________________________________________\n",
            "dense_19 (Dense)             (None, 3)                 603       \n",
            "=================================================================\n",
            "Total params: 653,303\n",
            "Trainable params: 180,803\n",
            "Non-trainable params: 472,500\n",
            "_________________________________________________________________\n",
            "None\n"
          ],
          "name": "stdout"
        }
      ]
    },
    {
      "cell_type": "code",
      "metadata": {
        "id": "FntRAOPV8ohQ",
        "colab_type": "code",
        "colab": {
          "base_uri": "https://localhost:8080/",
          "height": 377
        },
        "outputId": "64926bd2-6277-4c5c-a1ed-8c3e419da1ab"
      },
      "source": [
        "myLossHistory = LossHistory()\n",
        "history = model.fit(x=X_tr_paded, y=Y_tr, batch_size=297, epochs=10, validation_data=(X_dev_paded,Y_dev)\n",
        "                    ,callbacks=[myLossHistory])"
      ],
      "execution_count": null,
      "outputs": [
        {
          "output_type": "stream",
          "text": [
            "Epoch 1/10\n",
            "1/1 [==============================] - 0s 49ms/step - loss: 0.2562 - acc: 0.9226 - val_loss: 1.2232 - val_acc: 0.5000\n",
            "Epoch 2/10\n",
            "1/1 [==============================] - 0s 15ms/step - loss: 0.2446 - acc: 0.9293 - val_loss: 1.1506 - val_acc: 0.5000\n",
            "Epoch 3/10\n",
            "1/1 [==============================] - 0s 15ms/step - loss: 0.2043 - acc: 0.9529 - val_loss: 1.0264 - val_acc: 0.4643\n",
            "Epoch 4/10\n",
            "1/1 [==============================] - 0s 15ms/step - loss: 0.1455 - acc: 0.9731 - val_loss: 1.0088 - val_acc: 0.5000\n",
            "Epoch 5/10\n",
            "1/1 [==============================] - 0s 17ms/step - loss: 0.1490 - acc: 0.9731 - val_loss: 1.0304 - val_acc: 0.5357\n",
            "Epoch 6/10\n",
            "1/1 [==============================] - 0s 15ms/step - loss: 0.1378 - acc: 0.9764 - val_loss: 1.0356 - val_acc: 0.5000\n",
            "Epoch 7/10\n",
            "1/1 [==============================] - 0s 15ms/step - loss: 0.1016 - acc: 0.9933 - val_loss: 1.0962 - val_acc: 0.5000\n",
            "Epoch 8/10\n",
            "1/1 [==============================] - 0s 15ms/step - loss: 0.0778 - acc: 0.9933 - val_loss: 1.2159 - val_acc: 0.5714\n",
            "Epoch 9/10\n",
            "1/1 [==============================] - 0s 16ms/step - loss: 0.0737 - acc: 0.9966 - val_loss: 1.3219 - val_acc: 0.5000\n",
            "Epoch 10/10\n",
            "1/1 [==============================] - 0s 16ms/step - loss: 0.0686 - acc: 0.9933 - val_loss: 1.3500 - val_acc: 0.5000\n"
          ],
          "name": "stdout"
        }
      ]
    },
    {
      "cell_type": "code",
      "metadata": {
        "id": "zJzP_6Mn8pF6",
        "colab_type": "code",
        "colab": {
          "base_uri": "https://localhost:8080/",
          "height": 597
        },
        "outputId": "a9cd29be-e6da-4d4b-863d-cc2cce8e727d"
      },
      "source": [
        "plot_graphs(history, 'loss')  ################# text CNN\n",
        "plot_graphs(history, 'acc')\n",
        "\n",
        "textCNN_loss = myLossHistory.val_loss['epoch'] ##########################\n",
        "\n",
        "sig_clf_probs = model.predict(X_te_paded) \n",
        "\n",
        "y_hat = model.predict_classes(X_te_paded) ######################### predicted label as 3 classes\n",
        "\n",
        "clf_confidence = np.zeros(y_hat.shape) ##################### confidence value for each piece of prediction\n",
        "\n",
        "for i in range(len(y_hat)):\n",
        "  if y_hat[i]!=0:\n",
        "    clf_confidence[i] = sig_clf_probs[i][y_hat[i]]\n",
        "  else:\n",
        "    if sig_clf_probs[i][1]>=sig_clf_probs[i][2]:\n",
        "      clf_confidence[i] = sig_clf_probs[i][1]\n",
        "      y_hat[i] = 1\n",
        "    else:\n",
        "      clf_confidence[i] = sig_clf_probs[i][2]\n",
        "      y_hat[i] = 2\n",
        "\n",
        "score,rmse,macroF = scorer(Y_te,y_hat,clf_confidence) # F-score is ill-defined and being set to 0.0 in labels with no predicted samples\n",
        "print('accuracy:', score)\n",
        "print('RMSE:', rmse)\n",
        "print('Macro averaged F1 socre:', macroF)"
      ],
      "execution_count": null,
      "outputs": [
        {
          "output_type": "display_data",
          "data": {
            "image/png": "[encoded data removed]",
            "text/plain": [
              "<Figure size 432x288 with 1 Axes>"
            ]
          },
          "metadata": {
            "tags": [],
            "needs_background": "light"
          }
        },
        {
          "output_type": "display_data",
          "data": {
            "image/png": "[encoded data removed]",
            "text/plain": [
              "<Figure size 432x288 with 1 Axes>"
            ]
          },
          "metadata": {
            "tags": [],
            "needs_background": "light"
          }
        },
        {
          "output_type": "stream",
          "text": [
            "accuracy: 0.23214285714285715\n",
            "RMSE: 0.866418572210853\n",
            "Macro averaged F1 socre: 0.22238066943949297\n"
          ],
          "name": "stdout"
        }
      ]
    },
    {
      "cell_type": "code",
      "metadata": {
        "id": "sJfPV6tNmBg5",
        "colab_type": "code",
        "colab": {}
      },
      "source": [
        "from keras.layers import Layer\n",
        "import keras.backend as K\n",
        "\n",
        "def build(self,input_shape):\n",
        "  self.W=self.add_weight(name=\"att_weight\",shape=(input_shape[-1],1),initializer=\"normal\")\n",
        "  self.b=self.add_weight(name=\"att_bias\",shape=(input_shape[1],1),initializer=\"zeros\")        \n",
        "  super(attention, self).build(input_shape)\n",
        "\n",
        "def call(self,x):\n",
        "  et=K.squeeze(K.tanh(K.dot(x,self.W)+self.b),axis=-1)\n",
        "  at=K.softmax(et)\n",
        "  at=K.expand_dims(at,axis=-1)\n",
        "  output=x*at\n",
        "  return K.sum(output,axis=1)\n",
        "\n",
        "class attention(Layer):\n",
        "  def __init__(self,**kwargs):\n",
        "    super(attention,self).__init__(**kwargs)\n",
        "\n",
        "  def build(self,input_shape):\n",
        "    self.W=self.add_weight(name=\"att_weight\",shape=(input_shape[-1],1),initializer=\"normal\")\n",
        "    self.b=self.add_weight(name=\"att_bias\",shape=(input_shape[1],1),initializer=\"zeros\")        \n",
        "    super(attention, self).build(input_shape)\n",
        "\n",
        "  def call(self,x):\n",
        "    et=K.squeeze(K.tanh(K.dot(x,self.W)+self.b),axis=-1)\n",
        "    at=K.softmax(et)\n",
        "    at=K.expand_dims(at,axis=-1)\n",
        "    output=x*at\n",
        "    return K.sum(output,axis=1)\n",
        "\n",
        "  def compute_output_shape(self,input_shape):\n",
        "    return (input_shape[0],input_shape[-1])\n",
        "\n",
        "  def get_config(self):\n",
        "    return super(attention,self).get_config()"
      ],
      "execution_count": null,
      "outputs": []
    },
    {
      "cell_type": "code",
      "metadata": {
        "id": "TS6PBKSwGPM_",
        "colab_type": "code",
        "colab": {
          "base_uri": "https://localhost:8080/",
          "height": 379
        },
        "outputId": "ee190727-46ff-4bd6-adf4-6b9fedfe7332"
      },
      "source": [
        "from keras import Model\n",
        "\n",
        "inputs=layers.Input(shape=(28,))\n",
        "x=layers.Embedding(len(embedding_matrix), 300,  \n",
        "            mask_zero=True, \n",
        "            embeddings_initializer=initializers.Constant(embedding_matrix),\n",
        "            input_length=len(X_tr_paded[0]), \n",
        "            trainable=False)(inputs)\n",
        "att_in=layers.LSTM(128,return_sequences=True,dropout=0.1,recurrent_dropout=0.2)(x)\n",
        "att_out=attention()(att_in)\n",
        "outputs=layers.Dense(3,activation='softmax')(att_out)\n",
        "model=Model(inputs,outputs)\n",
        "model.summary()"
      ],
      "execution_count": null,
      "outputs": [
        {
          "output_type": "stream",
          "text": [
            "WARNING:tensorflow:Layer lstm_21 will not use cuDNN kernel since it doesn't meet the cuDNN kernel criteria. It will use generic GPU kernel as fallback when running on GPU\n",
            "Model: \"functional_12\"\n",
            "_________________________________________________________________\n",
            "Layer (type)                 Output Shape              Param #   \n",
            "=================================================================\n",
            "input_33 (InputLayer)        [(None, 28)]              0         \n",
            "_________________________________________________________________\n",
            "embedding_23 (Embedding)     (None, 28, 300)           472500    \n",
            "_________________________________________________________________\n",
            "lstm_21 (LSTM)               (None, 28, 128)           219648    \n",
            "_________________________________________________________________\n",
            "attention_13 (attention)     (None, 128)               156       \n",
            "_________________________________________________________________\n",
            "dense_21 (Dense)             (None, 3)                 387       \n",
            "=================================================================\n",
            "Total params: 692,691\n",
            "Trainable params: 220,191\n",
            "Non-trainable params: 472,500\n",
            "_________________________________________________________________\n"
          ],
          "name": "stdout"
        }
      ]
    },
    {
      "cell_type": "code",
      "metadata": {
        "id": "xpVKBARSjOk-",
        "colab_type": "code",
        "colab": {}
      },
      "source": [
        "model.compile(optimizer=optimizers.Adam(lr=0.001),loss='categorical_crossentropy',metrics=['acc'])\n"
      ],
      "execution_count": null,
      "outputs": []
    },
    {
      "cell_type": "code",
      "metadata": {
        "id": "mspkueDTiqtL",
        "colab_type": "code",
        "colab": {
          "base_uri": "https://localhost:8080/",
          "height": 1000
        },
        "outputId": "d95f551d-6325-4ba3-da47-c92ba7e6f007"
      },
      "source": [
        "\n",
        "myLossHistory = LossHistory()\n",
        "history = model.fit(x=X_tr_paded, y=Y_tr, batch_size=297, epochs=200, validation_data=(X_dev_paded,Y_dev),callbacks=[myLossHistory])"
      ],
      "execution_count": null,
      "outputs": [
        {
          "output_type": "stream",
          "text": [
            "Epoch 1/200\n",
            "1/1 [==============================] - 0s 52ms/step - loss: 0.7506 - acc: 0.6566 - val_loss: 1.0522 - val_acc: 0.4286\n",
            "Epoch 2/200\n",
            "1/1 [==============================] - 0s 29ms/step - loss: 0.7349 - acc: 0.6869 - val_loss: 1.0699 - val_acc: 0.4643\n",
            "Epoch 3/200\n",
            "1/1 [==============================] - 0s 30ms/step - loss: 0.7088 - acc: 0.7003 - val_loss: 1.0569 - val_acc: 0.4286\n",
            "Epoch 4/200\n",
            "1/1 [==============================] - 0s 31ms/step - loss: 0.6979 - acc: 0.7104 - val_loss: 1.1057 - val_acc: 0.4286\n",
            "Epoch 5/200\n",
            "1/1 [==============================] - 0s 28ms/step - loss: 0.6894 - acc: 0.7003 - val_loss: 1.1860 - val_acc: 0.4643\n",
            "Epoch 6/200\n",
            "1/1 [==============================] - 0s 31ms/step - loss: 0.6562 - acc: 0.7273 - val_loss: 1.2327 - val_acc: 0.4643\n",
            "Epoch 7/200\n",
            "1/1 [==============================] - 0s 27ms/step - loss: 0.6503 - acc: 0.7374 - val_loss: 1.1570 - val_acc: 0.3571\n",
            "Epoch 8/200\n",
            "1/1 [==============================] - 0s 28ms/step - loss: 0.6519 - acc: 0.7306 - val_loss: 1.1535 - val_acc: 0.4286\n",
            "Epoch 9/200\n",
            "1/1 [==============================] - 0s 30ms/step - loss: 0.6300 - acc: 0.7643 - val_loss: 1.1798 - val_acc: 0.4643\n",
            "Epoch 10/200\n",
            "1/1 [==============================] - 0s 27ms/step - loss: 0.6156 - acc: 0.7845 - val_loss: 1.2028 - val_acc: 0.4643\n",
            "Epoch 11/200\n",
            "1/1 [==============================] - 0s 25ms/step - loss: 0.6004 - acc: 0.7811 - val_loss: 1.3072 - val_acc: 0.3929\n",
            "Epoch 12/200\n",
            "1/1 [==============================] - 0s 29ms/step - loss: 0.5739 - acc: 0.7980 - val_loss: 1.5204 - val_acc: 0.4286\n",
            "Epoch 13/200\n",
            "1/1 [==============================] - 0s 24ms/step - loss: 0.5782 - acc: 0.7980 - val_loss: 1.6102 - val_acc: 0.4286\n",
            "Epoch 14/200\n",
            "1/1 [==============================] - 0s 25ms/step - loss: 0.5751 - acc: 0.7778 - val_loss: 1.6847 - val_acc: 0.5000\n",
            "Epoch 15/200\n",
            "1/1 [==============================] - 0s 28ms/step - loss: 0.5605 - acc: 0.7912 - val_loss: 1.6262 - val_acc: 0.4286\n",
            "Epoch 16/200\n",
            "1/1 [==============================] - 0s 25ms/step - loss: 0.5160 - acc: 0.8182 - val_loss: 1.6133 - val_acc: 0.3929\n",
            "Epoch 17/200\n",
            "1/1 [==============================] - 0s 25ms/step - loss: 0.5016 - acc: 0.8182 - val_loss: 1.7313 - val_acc: 0.3929\n",
            "Epoch 18/200\n",
            "1/1 [==============================] - 0s 26ms/step - loss: 0.4882 - acc: 0.8283 - val_loss: 1.8637 - val_acc: 0.4286\n",
            "Epoch 19/200\n",
            "1/1 [==============================] - 0s 25ms/step - loss: 0.4674 - acc: 0.8350 - val_loss: 2.0243 - val_acc: 0.4286\n",
            "Epoch 20/200\n",
            "1/1 [==============================] - 0s 25ms/step - loss: 0.4793 - acc: 0.8350 - val_loss: 2.0856 - val_acc: 0.4286\n",
            "Epoch 21/200\n",
            "1/1 [==============================] - 0s 26ms/step - loss: 0.4615 - acc: 0.8316 - val_loss: 2.1529 - val_acc: 0.3571\n",
            "Epoch 22/200\n",
            "1/1 [==============================] - 0s 26ms/step - loss: 0.4256 - acc: 0.8485 - val_loss: 2.0569 - val_acc: 0.3929\n",
            "Epoch 23/200\n",
            "1/1 [==============================] - 0s 25ms/step - loss: 0.4421 - acc: 0.8384 - val_loss: 2.0723 - val_acc: 0.4286\n",
            "Epoch 24/200\n",
            "1/1 [==============================] - 0s 27ms/step - loss: 0.4047 - acc: 0.8687 - val_loss: 2.2016 - val_acc: 0.3929\n",
            "Epoch 25/200\n",
            "1/1 [==============================] - 0s 26ms/step - loss: 0.4036 - acc: 0.8653 - val_loss: 2.5306 - val_acc: 0.3571\n",
            "Epoch 26/200\n",
            "1/1 [==============================] - 0s 27ms/step - loss: 0.4999 - acc: 0.8182 - val_loss: 2.3205 - val_acc: 0.4286\n",
            "Epoch 27/200\n",
            "1/1 [==============================] - 0s 25ms/step - loss: 0.3824 - acc: 0.8519 - val_loss: 2.1982 - val_acc: 0.4286\n",
            "Epoch 28/200\n",
            "1/1 [==============================] - 0s 26ms/step - loss: 0.4582 - acc: 0.8451 - val_loss: 2.2112 - val_acc: 0.3929\n",
            "Epoch 29/200\n",
            "1/1 [==============================] - 0s 26ms/step - loss: 0.3814 - acc: 0.8721 - val_loss: 2.3717 - val_acc: 0.2857\n",
            "Epoch 30/200\n",
            "1/1 [==============================] - 0s 28ms/step - loss: 0.3912 - acc: 0.8721 - val_loss: 2.4547 - val_acc: 0.3214\n",
            "Epoch 31/200\n",
            "1/1 [==============================] - 0s 27ms/step - loss: 0.3960 - acc: 0.8653 - val_loss: 2.4000 - val_acc: 0.3214\n",
            "Epoch 32/200\n",
            "1/1 [==============================] - 0s 28ms/step - loss: 0.3533 - acc: 0.8923 - val_loss: 2.3496 - val_acc: 0.3571\n",
            "Epoch 33/200\n",
            "1/1 [==============================] - 0s 25ms/step - loss: 0.4116 - acc: 0.8552 - val_loss: 2.3502 - val_acc: 0.3571\n",
            "Epoch 34/200\n",
            "1/1 [==============================] - 0s 27ms/step - loss: 0.3429 - acc: 0.8788 - val_loss: 2.4084 - val_acc: 0.2857\n",
            "Epoch 35/200\n",
            "1/1 [==============================] - 0s 25ms/step - loss: 0.3370 - acc: 0.8788 - val_loss: 2.4186 - val_acc: 0.2857\n",
            "Epoch 36/200\n",
            "1/1 [==============================] - 0s 26ms/step - loss: 0.3421 - acc: 0.8754 - val_loss: 2.3753 - val_acc: 0.3929\n",
            "Epoch 37/200\n",
            "1/1 [==============================] - 0s 33ms/step - loss: 0.3434 - acc: 0.8721 - val_loss: 2.4041 - val_acc: 0.3571\n",
            "Epoch 38/200\n",
            "1/1 [==============================] - 0s 25ms/step - loss: 0.3291 - acc: 0.8855 - val_loss: 2.4205 - val_acc: 0.3571\n",
            "Epoch 39/200\n",
            "1/1 [==============================] - 0s 26ms/step - loss: 0.3363 - acc: 0.8788 - val_loss: 2.4115 - val_acc: 0.3929\n",
            "Epoch 40/200\n",
            "1/1 [==============================] - 0s 25ms/step - loss: 0.2975 - acc: 0.8990 - val_loss: 2.4557 - val_acc: 0.3929\n",
            "Epoch 41/200\n",
            "1/1 [==============================] - 0s 32ms/step - loss: 0.3188 - acc: 0.8754 - val_loss: 2.4922 - val_acc: 0.3571\n",
            "Epoch 42/200\n",
            "1/1 [==============================] - 0s 27ms/step - loss: 0.3533 - acc: 0.8687 - val_loss: 2.4792 - val_acc: 0.3571\n",
            "Epoch 43/200\n",
            "1/1 [==============================] - 0s 27ms/step - loss: 0.2988 - acc: 0.8956 - val_loss: 2.4876 - val_acc: 0.3571\n",
            "Epoch 44/200\n",
            "1/1 [==============================] - 0s 25ms/step - loss: 0.3081 - acc: 0.8822 - val_loss: 2.5009 - val_acc: 0.3929\n",
            "Epoch 45/200\n",
            "1/1 [==============================] - 0s 25ms/step - loss: 0.3132 - acc: 0.8956 - val_loss: 2.5510 - val_acc: 0.3929\n",
            "Epoch 46/200\n",
            "1/1 [==============================] - 0s 26ms/step - loss: 0.2731 - acc: 0.9158 - val_loss: 2.5945 - val_acc: 0.3929\n",
            "Epoch 47/200\n",
            "1/1 [==============================] - 0s 24ms/step - loss: 0.2611 - acc: 0.9158 - val_loss: 2.6314 - val_acc: 0.3929\n",
            "Epoch 48/200\n",
            "1/1 [==============================] - 0s 28ms/step - loss: 0.2707 - acc: 0.9192 - val_loss: 2.6372 - val_acc: 0.3571\n",
            "Epoch 49/200\n",
            "1/1 [==============================] - 0s 27ms/step - loss: 0.2750 - acc: 0.9192 - val_loss: 2.6489 - val_acc: 0.3571\n",
            "Epoch 50/200\n",
            "1/1 [==============================] - 0s 27ms/step - loss: 0.2478 - acc: 0.9259 - val_loss: 2.6835 - val_acc: 0.3571\n",
            "Epoch 51/200\n",
            "1/1 [==============================] - 0s 25ms/step - loss: 0.2617 - acc: 0.9024 - val_loss: 2.6933 - val_acc: 0.3571\n",
            "Epoch 52/200\n",
            "1/1 [==============================] - 0s 28ms/step - loss: 0.2576 - acc: 0.9125 - val_loss: 2.7006 - val_acc: 0.3571\n",
            "Epoch 53/200\n",
            "1/1 [==============================] - 0s 29ms/step - loss: 0.2345 - acc: 0.9226 - val_loss: 2.7110 - val_acc: 0.3571\n",
            "Epoch 54/200\n",
            "1/1 [==============================] - 0s 29ms/step - loss: 0.2446 - acc: 0.9226 - val_loss: 2.7382 - val_acc: 0.3571\n",
            "Epoch 55/200\n",
            "1/1 [==============================] - 0s 27ms/step - loss: 0.2273 - acc: 0.9327 - val_loss: 2.7555 - val_acc: 0.3571\n",
            "Epoch 56/200\n",
            "1/1 [==============================] - 0s 29ms/step - loss: 0.2241 - acc: 0.9259 - val_loss: 2.7251 - val_acc: 0.3571\n",
            "Epoch 57/200\n",
            "1/1 [==============================] - 0s 26ms/step - loss: 0.2398 - acc: 0.9293 - val_loss: 2.6900 - val_acc: 0.3929\n",
            "Epoch 58/200\n",
            "1/1 [==============================] - 0s 34ms/step - loss: 0.2241 - acc: 0.9394 - val_loss: 2.7003 - val_acc: 0.3929\n",
            "Epoch 59/200\n",
            "1/1 [==============================] - 0s 26ms/step - loss: 0.2242 - acc: 0.9428 - val_loss: 2.7524 - val_acc: 0.3571\n",
            "Epoch 60/200\n",
            "1/1 [==============================] - 0s 29ms/step - loss: 0.2348 - acc: 0.9259 - val_loss: 2.9488 - val_acc: 0.3214\n",
            "Epoch 61/200\n",
            "1/1 [==============================] - 0s 33ms/step - loss: 0.2331 - acc: 0.9125 - val_loss: 2.9611 - val_acc: 0.3571\n",
            "Epoch 62/200\n",
            "1/1 [==============================] - 0s 27ms/step - loss: 0.2395 - acc: 0.9360 - val_loss: 2.8149 - val_acc: 0.3571\n",
            "Epoch 63/200\n",
            "1/1 [==============================] - 0s 26ms/step - loss: 0.2085 - acc: 0.9259 - val_loss: 2.7176 - val_acc: 0.3929\n",
            "Epoch 64/200\n",
            "1/1 [==============================] - 0s 29ms/step - loss: 0.2033 - acc: 0.9360 - val_loss: 2.7461 - val_acc: 0.3571\n",
            "Epoch 65/200\n",
            "1/1 [==============================] - 0s 29ms/step - loss: 0.2283 - acc: 0.9192 - val_loss: 2.7795 - val_acc: 0.3214\n",
            "Epoch 66/200\n",
            "1/1 [==============================] - 0s 26ms/step - loss: 0.1759 - acc: 0.9495 - val_loss: 2.9048 - val_acc: 0.3214\n",
            "Epoch 67/200\n",
            "1/1 [==============================] - 0s 25ms/step - loss: 0.1871 - acc: 0.9428 - val_loss: 3.0006 - val_acc: 0.3214\n",
            "Epoch 68/200\n",
            "1/1 [==============================] - 0s 26ms/step - loss: 0.1808 - acc: 0.9428 - val_loss: 2.9247 - val_acc: 0.3929\n",
            "Epoch 69/200\n",
            "1/1 [==============================] - 0s 32ms/step - loss: 0.1543 - acc: 0.9461 - val_loss: 2.8135 - val_acc: 0.3929\n",
            "Epoch 70/200\n",
            "1/1 [==============================] - 0s 26ms/step - loss: 0.1836 - acc: 0.9529 - val_loss: 2.6894 - val_acc: 0.3929\n",
            "Epoch 71/200\n",
            "1/1 [==============================] - 0s 24ms/step - loss: 0.1805 - acc: 0.9360 - val_loss: 2.7538 - val_acc: 0.3571\n",
            "Epoch 72/200\n",
            "1/1 [==============================] - 0s 28ms/step - loss: 0.2194 - acc: 0.9192 - val_loss: 2.9277 - val_acc: 0.3929\n",
            "Epoch 73/200\n",
            "1/1 [==============================] - 0s 25ms/step - loss: 0.1555 - acc: 0.9562 - val_loss: 3.0768 - val_acc: 0.3929\n",
            "Epoch 74/200\n",
            "1/1 [==============================] - 0s 28ms/step - loss: 0.1681 - acc: 0.9461 - val_loss: 3.1131 - val_acc: 0.3929\n",
            "Epoch 75/200\n",
            "1/1 [==============================] - 0s 25ms/step - loss: 0.1532 - acc: 0.9529 - val_loss: 3.1427 - val_acc: 0.3929\n",
            "Epoch 76/200\n",
            "1/1 [==============================] - 0s 25ms/step - loss: 0.1591 - acc: 0.9562 - val_loss: 3.1192 - val_acc: 0.2857\n",
            "Epoch 77/200\n",
            "1/1 [==============================] - 0s 25ms/step - loss: 0.1584 - acc: 0.9562 - val_loss: 3.3213 - val_acc: 0.2857\n",
            "Epoch 78/200\n",
            "1/1 [==============================] - 0s 25ms/step - loss: 0.2214 - acc: 0.9158 - val_loss: 3.1021 - val_acc: 0.3214\n",
            "Epoch 79/200\n",
            "1/1 [==============================] - 0s 25ms/step - loss: 0.1560 - acc: 0.9529 - val_loss: 3.2397 - val_acc: 0.3214\n",
            "Epoch 80/200\n",
            "1/1 [==============================] - 0s 28ms/step - loss: 0.2174 - acc: 0.9192 - val_loss: 3.2913 - val_acc: 0.3571\n",
            "Epoch 81/200\n",
            "1/1 [==============================] - 0s 25ms/step - loss: 0.1459 - acc: 0.9529 - val_loss: 3.3641 - val_acc: 0.3214\n",
            "Epoch 82/200\n",
            "1/1 [==============================] - 0s 25ms/step - loss: 0.2006 - acc: 0.9259 - val_loss: 3.2736 - val_acc: 0.3214\n",
            "Epoch 83/200\n",
            "1/1 [==============================] - 0s 24ms/step - loss: 0.1640 - acc: 0.9461 - val_loss: 2.9400 - val_acc: 0.3571\n",
            "Epoch 84/200\n",
            "1/1 [==============================] - 0s 27ms/step - loss: 0.1191 - acc: 0.9697 - val_loss: 2.8010 - val_acc: 0.4643\n",
            "Epoch 85/200\n",
            "1/1 [==============================] - 0s 25ms/step - loss: 0.1931 - acc: 0.9360 - val_loss: 2.7410 - val_acc: 0.3929\n",
            "Epoch 86/200\n",
            "1/1 [==============================] - 0s 31ms/step - loss: 0.1473 - acc: 0.9529 - val_loss: 2.9832 - val_acc: 0.4286\n",
            "Epoch 87/200\n",
            "1/1 [==============================] - 0s 25ms/step - loss: 0.1499 - acc: 0.9495 - val_loss: 3.2241 - val_acc: 0.3571\n",
            "Epoch 88/200\n",
            "1/1 [==============================] - 0s 27ms/step - loss: 0.1141 - acc: 0.9697 - val_loss: 3.3278 - val_acc: 0.3571\n",
            "Epoch 89/200\n",
            "1/1 [==============================] - 0s 24ms/step - loss: 0.1544 - acc: 0.9529 - val_loss: 3.1723 - val_acc: 0.3929\n",
            "Epoch 90/200\n",
            "1/1 [==============================] - 0s 32ms/step - loss: 0.1178 - acc: 0.9697 - val_loss: 2.9702 - val_acc: 0.5000\n",
            "Epoch 91/200\n",
            "1/1 [==============================] - 0s 27ms/step - loss: 0.1374 - acc: 0.9529 - val_loss: 3.0192 - val_acc: 0.4643\n",
            "Epoch 92/200\n",
            "1/1 [==============================] - 0s 25ms/step - loss: 0.1540 - acc: 0.9495 - val_loss: 3.0658 - val_acc: 0.4286\n",
            "Epoch 93/200\n",
            "1/1 [==============================] - 0s 25ms/step - loss: 0.1182 - acc: 0.9596 - val_loss: 2.9968 - val_acc: 0.5357\n",
            "Epoch 94/200\n",
            "1/1 [==============================] - 0s 26ms/step - loss: 0.1203 - acc: 0.9596 - val_loss: 3.0588 - val_acc: 0.4286\n",
            "Epoch 95/200\n",
            "1/1 [==============================] - 0s 27ms/step - loss: 0.1220 - acc: 0.9596 - val_loss: 3.3069 - val_acc: 0.3571\n",
            "Epoch 96/200\n",
            "1/1 [==============================] - 0s 28ms/step - loss: 0.1312 - acc: 0.9562 - val_loss: 3.4013 - val_acc: 0.3571\n",
            "Epoch 97/200\n",
            "1/1 [==============================] - 0s 25ms/step - loss: 0.1451 - acc: 0.9495 - val_loss: 3.2869 - val_acc: 0.4286\n",
            "Epoch 98/200\n",
            "1/1 [==============================] - 0s 26ms/step - loss: 0.1523 - acc: 0.9428 - val_loss: 2.9905 - val_acc: 0.4643\n",
            "Epoch 99/200\n",
            "1/1 [==============================] - 0s 25ms/step - loss: 0.1471 - acc: 0.9529 - val_loss: 2.9849 - val_acc: 0.3571\n",
            "Epoch 100/200\n",
            "1/1 [==============================] - 0s 30ms/step - loss: 0.1491 - acc: 0.9562 - val_loss: 2.8747 - val_acc: 0.4286\n",
            "Epoch 101/200\n",
            "1/1 [==============================] - 0s 29ms/step - loss: 0.1301 - acc: 0.9461 - val_loss: 3.0708 - val_acc: 0.3929\n",
            "Epoch 102/200\n",
            "1/1 [==============================] - 0s 33ms/step - loss: 0.1310 - acc: 0.9495 - val_loss: 3.3637 - val_acc: 0.3571\n",
            "Epoch 103/200\n",
            "1/1 [==============================] - 0s 28ms/step - loss: 0.1109 - acc: 0.9663 - val_loss: 3.6042 - val_acc: 0.3214\n",
            "Epoch 104/200\n",
            "1/1 [==============================] - 0s 33ms/step - loss: 0.1493 - acc: 0.9428 - val_loss: 3.5895 - val_acc: 0.3214\n",
            "Epoch 105/200\n",
            "1/1 [==============================] - 0s 27ms/step - loss: 0.0976 - acc: 0.9731 - val_loss: 3.4596 - val_acc: 0.3929\n",
            "Epoch 106/200\n",
            "1/1 [==============================] - 0s 27ms/step - loss: 0.1024 - acc: 0.9697 - val_loss: 3.2635 - val_acc: 0.3929\n",
            "Epoch 107/200\n",
            "1/1 [==============================] - 0s 27ms/step - loss: 0.1021 - acc: 0.9596 - val_loss: 3.1374 - val_acc: 0.3929\n",
            "Epoch 108/200\n",
            "1/1 [==============================] - 0s 29ms/step - loss: 0.0942 - acc: 0.9764 - val_loss: 3.1439 - val_acc: 0.4286\n",
            "Epoch 109/200\n",
            "1/1 [==============================] - 0s 26ms/step - loss: 0.1034 - acc: 0.9596 - val_loss: 3.2081 - val_acc: 0.3929\n",
            "Epoch 110/200\n",
            "1/1 [==============================] - 0s 29ms/step - loss: 0.0952 - acc: 0.9697 - val_loss: 3.2935 - val_acc: 0.3929\n",
            "Epoch 111/200\n",
            "1/1 [==============================] - 0s 31ms/step - loss: 0.0878 - acc: 0.9731 - val_loss: 3.4104 - val_acc: 0.4286\n",
            "Epoch 112/200\n",
            "1/1 [==============================] - 0s 28ms/step - loss: 0.0872 - acc: 0.9731 - val_loss: 3.5143 - val_acc: 0.3571\n",
            "Epoch 113/200\n",
            "1/1 [==============================] - 0s 29ms/step - loss: 0.0784 - acc: 0.9731 - val_loss: 3.5748 - val_acc: 0.3571\n",
            "Epoch 114/200\n",
            "1/1 [==============================] - 0s 28ms/step - loss: 0.0966 - acc: 0.9697 - val_loss: 3.4988 - val_acc: 0.3929\n",
            "Epoch 115/200\n",
            "1/1 [==============================] - 0s 26ms/step - loss: 0.0958 - acc: 0.9663 - val_loss: 3.5080 - val_acc: 0.3929\n",
            "Epoch 116/200\n",
            "1/1 [==============================] - 0s 26ms/step - loss: 0.0740 - acc: 0.9731 - val_loss: 3.5467 - val_acc: 0.3214\n",
            "Epoch 117/200\n",
            "1/1 [==============================] - 0s 29ms/step - loss: 0.0998 - acc: 0.9529 - val_loss: 3.6039 - val_acc: 0.2857\n",
            "Epoch 118/200\n",
            "1/1 [==============================] - 0s 27ms/step - loss: 0.0876 - acc: 0.9697 - val_loss: 3.6476 - val_acc: 0.2857\n",
            "Epoch 119/200\n",
            "1/1 [==============================] - 0s 25ms/step - loss: 0.0785 - acc: 0.9663 - val_loss: 3.7136 - val_acc: 0.2857\n",
            "Epoch 120/200\n",
            "1/1 [==============================] - 0s 30ms/step - loss: 0.0812 - acc: 0.9731 - val_loss: 3.7531 - val_acc: 0.2857\n",
            "Epoch 121/200\n",
            "1/1 [==============================] - 0s 25ms/step - loss: 0.1042 - acc: 0.9562 - val_loss: 3.8110 - val_acc: 0.2500\n",
            "Epoch 122/200\n",
            "1/1 [==============================] - 0s 24ms/step - loss: 0.0746 - acc: 0.9731 - val_loss: 3.8479 - val_acc: 0.2857\n",
            "Epoch 123/200\n",
            "1/1 [==============================] - 0s 28ms/step - loss: 0.0782 - acc: 0.9764 - val_loss: 3.8074 - val_acc: 0.2500\n",
            "Epoch 124/200\n",
            "1/1 [==============================] - 0s 30ms/step - loss: 0.0779 - acc: 0.9764 - val_loss: 3.6981 - val_acc: 0.3214\n",
            "Epoch 125/200\n",
            "1/1 [==============================] - 0s 26ms/step - loss: 0.0799 - acc: 0.9663 - val_loss: 3.6426 - val_acc: 0.3214\n",
            "Epoch 126/200\n",
            "1/1 [==============================] - 0s 32ms/step - loss: 0.0748 - acc: 0.9731 - val_loss: 3.5882 - val_acc: 0.3571\n",
            "Epoch 127/200\n",
            "1/1 [==============================] - 0s 26ms/step - loss: 0.0800 - acc: 0.9697 - val_loss: 3.5758 - val_acc: 0.3571\n",
            "Epoch 128/200\n",
            "1/1 [==============================] - 0s 27ms/step - loss: 0.0697 - acc: 0.9798 - val_loss: 3.5729 - val_acc: 0.3571\n",
            "Epoch 129/200\n",
            "1/1 [==============================] - 0s 27ms/step - loss: 0.0919 - acc: 0.9697 - val_loss: 3.6671 - val_acc: 0.3571\n",
            "Epoch 130/200\n",
            "1/1 [==============================] - 0s 27ms/step - loss: 0.0677 - acc: 0.9899 - val_loss: 3.7522 - val_acc: 0.3214\n",
            "Epoch 131/200\n",
            "1/1 [==============================] - 0s 25ms/step - loss: 0.0694 - acc: 0.9764 - val_loss: 3.8188 - val_acc: 0.3214\n",
            "Epoch 132/200\n",
            "1/1 [==============================] - 0s 25ms/step - loss: 0.0740 - acc: 0.9731 - val_loss: 3.8543 - val_acc: 0.3214\n",
            "Epoch 133/200\n",
            "1/1 [==============================] - 0s 27ms/step - loss: 0.0727 - acc: 0.9697 - val_loss: 3.8365 - val_acc: 0.3571\n",
            "Epoch 134/200\n",
            "1/1 [==============================] - 0s 25ms/step - loss: 0.0695 - acc: 0.9764 - val_loss: 3.8225 - val_acc: 0.3571\n",
            "Epoch 135/200\n",
            "1/1 [==============================] - 0s 26ms/step - loss: 0.0671 - acc: 0.9731 - val_loss: 3.8146 - val_acc: 0.3571\n",
            "Epoch 136/200\n",
            "1/1 [==============================] - 0s 27ms/step - loss: 0.0663 - acc: 0.9731 - val_loss: 3.7844 - val_acc: 0.3571\n",
            "Epoch 137/200\n",
            "1/1 [==============================] - 0s 26ms/step - loss: 0.0659 - acc: 0.9798 - val_loss: 3.8153 - val_acc: 0.3571\n",
            "Epoch 138/200\n",
            "1/1 [==============================] - 0s 32ms/step - loss: 0.0606 - acc: 0.9798 - val_loss: 3.8176 - val_acc: 0.3571\n",
            "Epoch 139/200\n",
            "1/1 [==============================] - 0s 28ms/step - loss: 0.0730 - acc: 0.9697 - val_loss: 3.7968 - val_acc: 0.3571\n",
            "Epoch 140/200\n",
            "1/1 [==============================] - 0s 28ms/step - loss: 0.0603 - acc: 0.9832 - val_loss: 3.7799 - val_acc: 0.3571\n",
            "Epoch 141/200\n",
            "1/1 [==============================] - 0s 25ms/step - loss: 0.0588 - acc: 0.9764 - val_loss: 3.7795 - val_acc: 0.3929\n",
            "Epoch 142/200\n",
            "1/1 [==============================] - 0s 28ms/step - loss: 0.0653 - acc: 0.9764 - val_loss: 3.7911 - val_acc: 0.3929\n",
            "Epoch 143/200\n",
            "1/1 [==============================] - 0s 27ms/step - loss: 0.0535 - acc: 0.9731 - val_loss: 3.8006 - val_acc: 0.3929\n",
            "Epoch 144/200\n",
            "1/1 [==============================] - 0s 25ms/step - loss: 0.0769 - acc: 0.9764 - val_loss: 3.7820 - val_acc: 0.3571\n",
            "Epoch 145/200\n",
            "1/1 [==============================] - 0s 27ms/step - loss: 0.0671 - acc: 0.9798 - val_loss: 3.7007 - val_acc: 0.3214\n",
            "Epoch 146/200\n",
            "1/1 [==============================] - 0s 28ms/step - loss: 0.0526 - acc: 0.9832 - val_loss: 3.6731 - val_acc: 0.3214\n",
            "Epoch 147/200\n",
            "1/1 [==============================] - 0s 28ms/step - loss: 0.0639 - acc: 0.9798 - val_loss: 3.6424 - val_acc: 0.3214\n",
            "Epoch 148/200\n",
            "1/1 [==============================] - 0s 29ms/step - loss: 0.0617 - acc: 0.9798 - val_loss: 3.8154 - val_acc: 0.4286\n",
            "Epoch 149/200\n",
            "1/1 [==============================] - 0s 30ms/step - loss: 0.0539 - acc: 0.9832 - val_loss: 4.0011 - val_acc: 0.4286\n",
            "Epoch 150/200\n",
            "1/1 [==============================] - 0s 34ms/step - loss: 0.0568 - acc: 0.9731 - val_loss: 4.0643 - val_acc: 0.4286\n",
            "Epoch 151/200\n",
            "1/1 [==============================] - 0s 27ms/step - loss: 0.0710 - acc: 0.9697 - val_loss: 3.9946 - val_acc: 0.3929\n",
            "Epoch 152/200\n",
            "1/1 [==============================] - 0s 28ms/step - loss: 0.0605 - acc: 0.9832 - val_loss: 3.8159 - val_acc: 0.3571\n",
            "Epoch 153/200\n",
            "1/1 [==============================] - 0s 26ms/step - loss: 0.0658 - acc: 0.9798 - val_loss: 3.9134 - val_acc: 0.3571\n",
            "Epoch 154/200\n",
            "1/1 [==============================] - 0s 25ms/step - loss: 0.0790 - acc: 0.9663 - val_loss: 3.7746 - val_acc: 0.3929\n",
            "Epoch 155/200\n",
            "1/1 [==============================] - 0s 28ms/step - loss: 0.0625 - acc: 0.9798 - val_loss: 3.7135 - val_acc: 0.3929\n",
            "Epoch 156/200\n",
            "1/1 [==============================] - 0s 28ms/step - loss: 0.0869 - acc: 0.9663 - val_loss: 3.7234 - val_acc: 0.3929\n",
            "Epoch 157/200\n",
            "1/1 [==============================] - 0s 29ms/step - loss: 0.0716 - acc: 0.9764 - val_loss: 3.8536 - val_acc: 0.4286\n",
            "Epoch 158/200\n",
            "1/1 [==============================] - 0s 27ms/step - loss: 0.0907 - acc: 0.9697 - val_loss: 3.8773 - val_acc: 0.4286\n",
            "Epoch 159/200\n",
            "1/1 [==============================] - 0s 31ms/step - loss: 0.0678 - acc: 0.9832 - val_loss: 3.8704 - val_acc: 0.4286\n",
            "Epoch 160/200\n",
            "1/1 [==============================] - 0s 28ms/step - loss: 0.0720 - acc: 0.9764 - val_loss: 3.9836 - val_acc: 0.3571\n",
            "Epoch 161/200\n",
            "1/1 [==============================] - 0s 30ms/step - loss: 0.0512 - acc: 0.9899 - val_loss: 4.0273 - val_acc: 0.3571\n",
            "Epoch 162/200\n",
            "1/1 [==============================] - 0s 26ms/step - loss: 0.0657 - acc: 0.9798 - val_loss: 4.0152 - val_acc: 0.3571\n",
            "Epoch 163/200\n",
            "1/1 [==============================] - 0s 25ms/step - loss: 0.0797 - acc: 0.9764 - val_loss: 4.1032 - val_acc: 0.3571\n",
            "Epoch 164/200\n",
            "1/1 [==============================] - 0s 26ms/step - loss: 0.0518 - acc: 0.9865 - val_loss: 4.1760 - val_acc: 0.3214\n",
            "Epoch 165/200\n",
            "1/1 [==============================] - 0s 25ms/step - loss: 0.0506 - acc: 0.9899 - val_loss: 4.2202 - val_acc: 0.3571\n",
            "Epoch 166/200\n",
            "1/1 [==============================] - 0s 24ms/step - loss: 0.0545 - acc: 0.9899 - val_loss: 4.2679 - val_acc: 0.3929\n",
            "Epoch 167/200\n",
            "1/1 [==============================] - 0s 28ms/step - loss: 0.0664 - acc: 0.9798 - val_loss: 4.3189 - val_acc: 0.3571\n",
            "Epoch 168/200\n",
            "1/1 [==============================] - 0s 24ms/step - loss: 0.0558 - acc: 0.9832 - val_loss: 4.3706 - val_acc: 0.3571\n",
            "Epoch 169/200\n",
            "1/1 [==============================] - 0s 25ms/step - loss: 0.0492 - acc: 0.9832 - val_loss: 4.4008 - val_acc: 0.3571\n",
            "Epoch 170/200\n",
            "1/1 [==============================] - 0s 24ms/step - loss: 0.0526 - acc: 0.9798 - val_loss: 4.3982 - val_acc: 0.3571\n",
            "Epoch 171/200\n",
            "1/1 [==============================] - 0s 30ms/step - loss: 0.0478 - acc: 0.9832 - val_loss: 4.3666 - val_acc: 0.3571\n",
            "Epoch 172/200\n",
            "1/1 [==============================] - 0s 25ms/step - loss: 0.0451 - acc: 0.9798 - val_loss: 4.3265 - val_acc: 0.3571\n",
            "Epoch 173/200\n",
            "1/1 [==============================] - 0s 30ms/step - loss: 0.0715 - acc: 0.9798 - val_loss: 4.3033 - val_acc: 0.3571\n",
            "Epoch 174/200\n",
            "1/1 [==============================] - 0s 26ms/step - loss: 0.0561 - acc: 0.9798 - val_loss: 4.3238 - val_acc: 0.3571\n",
            "Epoch 175/200\n",
            "1/1 [==============================] - 0s 26ms/step - loss: 0.0461 - acc: 0.9832 - val_loss: 4.3218 - val_acc: 0.3929\n",
            "Epoch 176/200\n",
            "1/1 [==============================] - 0s 26ms/step - loss: 0.0508 - acc: 0.9832 - val_loss: 4.3024 - val_acc: 0.3929\n",
            "Epoch 177/200\n",
            "1/1 [==============================] - 0s 27ms/step - loss: 0.0528 - acc: 0.9832 - val_loss: 4.2488 - val_acc: 0.3929\n",
            "Epoch 178/200\n",
            "1/1 [==============================] - 0s 26ms/step - loss: 0.0523 - acc: 0.9832 - val_loss: 4.1656 - val_acc: 0.3929\n",
            "Epoch 179/200\n",
            "1/1 [==============================] - 0s 25ms/step - loss: 0.0545 - acc: 0.9865 - val_loss: 4.1315 - val_acc: 0.3929\n",
            "Epoch 180/200\n",
            "1/1 [==============================] - 0s 26ms/step - loss: 0.0666 - acc: 0.9731 - val_loss: 4.0594 - val_acc: 0.3929\n",
            "Epoch 181/200\n",
            "1/1 [==============================] - 0s 28ms/step - loss: 0.0473 - acc: 0.9899 - val_loss: 4.0278 - val_acc: 0.3571\n",
            "Epoch 182/200\n",
            "1/1 [==============================] - 0s 25ms/step - loss: 0.0472 - acc: 0.9832 - val_loss: 4.0370 - val_acc: 0.3214\n",
            "Epoch 183/200\n",
            "1/1 [==============================] - 0s 35ms/step - loss: 0.0512 - acc: 0.9865 - val_loss: 4.1272 - val_acc: 0.3214\n",
            "Epoch 184/200\n",
            "1/1 [==============================] - 0s 24ms/step - loss: 0.0501 - acc: 0.9865 - val_loss: 4.2020 - val_acc: 0.3214\n",
            "Epoch 185/200\n",
            "1/1 [==============================] - 0s 27ms/step - loss: 0.0576 - acc: 0.9832 - val_loss: 4.1904 - val_acc: 0.3571\n",
            "Epoch 186/200\n",
            "1/1 [==============================] - 0s 37ms/step - loss: 0.0516 - acc: 0.9865 - val_loss: 4.1742 - val_acc: 0.3571\n",
            "Epoch 187/200\n",
            "1/1 [==============================] - 0s 26ms/step - loss: 0.0507 - acc: 0.9832 - val_loss: 4.0776 - val_acc: 0.3929\n",
            "Epoch 188/200\n",
            "1/1 [==============================] - 0s 25ms/step - loss: 0.0518 - acc: 0.9865 - val_loss: 4.0197 - val_acc: 0.3929\n",
            "Epoch 189/200\n",
            "1/1 [==============================] - 0s 25ms/step - loss: 0.0323 - acc: 0.9899 - val_loss: 3.9913 - val_acc: 0.3571\n",
            "Epoch 190/200\n",
            "1/1 [==============================] - 0s 24ms/step - loss: 0.0429 - acc: 0.9865 - val_loss: 4.0121 - val_acc: 0.3929\n",
            "Epoch 191/200\n",
            "1/1 [==============================] - 0s 28ms/step - loss: 0.0361 - acc: 0.9933 - val_loss: 4.0337 - val_acc: 0.3929\n",
            "Epoch 192/200\n",
            "1/1 [==============================] - 0s 25ms/step - loss: 0.0323 - acc: 0.9933 - val_loss: 4.0564 - val_acc: 0.4286\n",
            "Epoch 193/200\n",
            "1/1 [==============================] - 0s 25ms/step - loss: 0.0403 - acc: 0.9899 - val_loss: 4.0862 - val_acc: 0.3929\n",
            "Epoch 194/200\n",
            "1/1 [==============================] - 0s 25ms/step - loss: 0.0341 - acc: 0.9899 - val_loss: 4.1156 - val_acc: 0.3571\n",
            "Epoch 195/200\n",
            "1/1 [==============================] - 0s 26ms/step - loss: 0.0351 - acc: 0.9933 - val_loss: 4.1572 - val_acc: 0.3571\n",
            "Epoch 196/200\n",
            "1/1 [==============================] - 0s 26ms/step - loss: 0.0588 - acc: 0.9832 - val_loss: 4.2005 - val_acc: 0.3571\n",
            "Epoch 197/200\n",
            "1/1 [==============================] - 0s 28ms/step - loss: 0.0349 - acc: 0.9899 - val_loss: 4.2367 - val_acc: 0.3571\n",
            "Epoch 198/200\n",
            "1/1 [==============================] - 0s 25ms/step - loss: 0.0418 - acc: 0.9832 - val_loss: 4.2187 - val_acc: 0.3929\n",
            "Epoch 199/200\n",
            "1/1 [==============================] - 0s 26ms/step - loss: 0.0398 - acc: 0.9865 - val_loss: 4.1614 - val_acc: 0.3929\n",
            "Epoch 200/200\n",
            "1/1 [==============================] - 0s 26ms/step - loss: 0.0300 - acc: 0.9933 - val_loss: 4.1231 - val_acc: 0.3929\n"
          ],
          "name": "stdout"
        }
      ]
    },
    {
      "cell_type": "code",
      "metadata": {
        "id": "wHjbChD5i55O",
        "colab_type": "code",
        "colab": {
          "base_uri": "https://localhost:8080/",
          "height": 595
        },
        "outputId": "684da738-42a0-4e6e-b548-ca872d9850f6"
      },
      "source": [
        "plot_graphs(history, 'loss')  ################# text CNN\n",
        "plot_graphs(history, 'acc')\n",
        "\n",
        "attLSTM_loss = myLossHistory.val_loss['epoch'] ##########################\n",
        "\n",
        "sig_clf_probs = model.predict(X_te_paded) \n",
        "\n",
        "y_hat = np.array([np.argmax(i) for i in sig_clf_probs]) ######################### predicted label as 3 classes\n",
        "\n",
        "clf_confidence = np.zeros(y_hat.shape) ##################### confidence value for each piece of prediction\n",
        "\n",
        "for i in range(len(y_hat)):\n",
        "  if y_hat[i]!=0:\n",
        "    clf_confidence[i] = sig_clf_probs[i][y_hat[i]]\n",
        "  else:\n",
        "    if sig_clf_probs[i][1]>=sig_clf_probs[i][2]:\n",
        "      clf_confidence[i] = sig_clf_probs[i][1]\n",
        "      y_hat[i] = 1\n",
        "    else:\n",
        "      clf_confidence[i] = sig_clf_probs[i][2]\n",
        "      y_hat[i] = 2\n",
        "\n",
        "score,rmse,macroF = scorer(Y_te,y_hat,clf_confidence) # F-score is ill-defined and being set to 0.0 in labels with no predicted samples\n",
        "print('accuracy:', score)\n",
        "print('RMSE:', rmse)\n",
        "print('Macro averaged F1 socre:', macroF)"
      ],
      "execution_count": null,
      "outputs": [
        {
          "output_type": "display_data",
          "data": {
            "image/png": "[encoded data removed]",
            "text/plain": [
              "<Figure size 432x288 with 1 Axes>"
            ]
          },
          "metadata": {
            "tags": [],
            "needs_background": "light"
          }
        },
        {
          "output_type": "display_data",
          "data": {
            "image/png": "[encoded data removed]",
            "text/plain": [
              "<Figure size 432x288 with 1 Axes>"
            ]
          },
          "metadata": {
            "tags": [],
            "needs_background": "light"
          }
        },
        {
          "output_type": "stream",
          "text": [
            "accuracy: 0.26785714285714285\n",
            "RMSE: 0.8380038033258631\n",
            "Macro averaged F1 socre: 0.2820061075875029\n"
          ],
          "name": "stdout"
        }
      ]
    },
    {
      "cell_type": "code",
      "metadata": {
        "id": "B9qmx5Z-pjv6",
        "colab_type": "code",
        "colab": {
          "base_uri": "https://localhost:8080/",
          "height": 467
        },
        "outputId": "cab04bcd-f8a4-46e2-eeda-49975316a15a"
      },
      "source": [
        "def build_model(): ################# 2 layers bidirectional LSTM + attention\n",
        "    \n",
        "    model = Sequential()\n",
        "    model.add(layers.Embedding(len(embedding_matrix), 300,  \n",
        "            mask_zero=True, \n",
        "            embeddings_initializer=initializers.Constant(embedding_matrix),\n",
        "            input_length=len(X_tr_paded[0]), \n",
        "            trainable=False))\n",
        "    model.add(layers.Dropout(0.1))\n",
        "    model.add(layers.Bidirectional(layers.LSTM(300,return_sequences=True)))\n",
        "    model.add(layers.Bidirectional(layers.LSTM(300,return_sequences=True)))\n",
        "    model.add(attention())\n",
        "    model.add(layers.Dropout(0.1))\n",
        "    model.add(layers.Dense(64))\n",
        "    model.add(layers.Dense(3,activation='softmax'))\n",
        "    \n",
        "\n",
        "    model.compile(optimizer=optimizers.Adam(lr=0.01),loss='categorical_crossentropy',metrics=['acc'])\n",
        "    print(model.summary())\n",
        "\n",
        "    return model\n",
        "\n",
        "model = build_model()"
      ],
      "execution_count": null,
      "outputs": [
        {
          "output_type": "stream",
          "text": [
            "Model: \"sequential_15\"\n",
            "_________________________________________________________________\n",
            "Layer (type)                 Output Shape              Param #   \n",
            "=================================================================\n",
            "embedding_35 (Embedding)     (None, 28, 300)           472500    \n",
            "_________________________________________________________________\n",
            "dropout_11 (Dropout)         (None, 28, 300)           0         \n",
            "_________________________________________________________________\n",
            "bidirectional_14 (Bidirectio (None, 28, 600)           1442400   \n",
            "_________________________________________________________________\n",
            "bidirectional_15 (Bidirectio (None, 28, 600)           2162400   \n",
            "_________________________________________________________________\n",
            "attention_24 (attention)     (None, 600)               628       \n",
            "_________________________________________________________________\n",
            "dropout_12 (Dropout)         (None, 600)               0         \n",
            "_________________________________________________________________\n",
            "dense_30 (Dense)             (None, 64)                38464     \n",
            "_________________________________________________________________\n",
            "dense_31 (Dense)             (None, 3)                 195       \n",
            "=================================================================\n",
            "Total params: 4,116,587\n",
            "Trainable params: 3,644,087\n",
            "Non-trainable params: 472,500\n",
            "_________________________________________________________________\n",
            "None\n"
          ],
          "name": "stdout"
        }
      ]
    },
    {
      "cell_type": "code",
      "metadata": {
        "id": "3qsq8ku1p4H6",
        "colab_type": "code",
        "colab": {
          "base_uri": "https://localhost:8080/",
          "height": 1000
        },
        "outputId": "84bad6a0-e7df-4109-cd9d-d07c3ec045f3"
      },
      "source": [
        "myLossHistory = LossHistory()\n",
        "history = model.fit(x=X_tr_paded, y=Y_tr, batch_size=297, epochs=200, validation_data=(X_dev_paded,Y_dev),callbacks=[myLossHistory])"
      ],
      "execution_count": null,
      "outputs": [
        {
          "output_type": "stream",
          "text": [
            "Epoch 1/200\n",
            "1/1 [==============================] - 4s 4s/step - loss: 1.0968 - acc: 0.3434 - val_loss: 5.1859 - val_acc: 0.2857\n",
            "Epoch 2/200\n",
            "1/1 [==============================] - 0s 48ms/step - loss: 3.2333 - acc: 0.4613 - val_loss: 1.1162 - val_acc: 0.5714\n",
            "Epoch 3/200\n",
            "1/1 [==============================] - 0s 47ms/step - loss: 1.2925 - acc: 0.3502 - val_loss: 9.5572 - val_acc: 0.2857\n",
            "Epoch 4/200\n",
            "1/1 [==============================] - 0s 46ms/step - loss: 6.2750 - acc: 0.4613 - val_loss: 8.5029 - val_acc: 0.2857\n",
            "Epoch 5/200\n",
            "1/1 [==============================] - 0s 49ms/step - loss: 7.5311 - acc: 0.3300 - val_loss: 1.5427 - val_acc: 0.4643\n",
            "Epoch 6/200\n",
            "1/1 [==============================] - 0s 48ms/step - loss: 2.4165 - acc: 0.2391 - val_loss: 1.8638 - val_acc: 0.4643\n",
            "Epoch 7/200\n",
            "1/1 [==============================] - 0s 47ms/step - loss: 2.2326 - acc: 0.2525 - val_loss: 1.0596 - val_acc: 0.3929\n",
            "Epoch 8/200\n",
            "1/1 [==============================] - 0s 47ms/step - loss: 1.1685 - acc: 0.3333 - val_loss: 1.5544 - val_acc: 0.3214\n",
            "Epoch 9/200\n",
            "1/1 [==============================] - 0s 45ms/step - loss: 1.3633 - acc: 0.4747 - val_loss: 1.5454 - val_acc: 0.3929\n",
            "Epoch 10/200\n",
            "1/1 [==============================] - 0s 48ms/step - loss: 1.1338 - acc: 0.5488 - val_loss: 1.6393 - val_acc: 0.3929\n",
            "Epoch 11/200\n",
            "1/1 [==============================] - 0s 50ms/step - loss: 1.2566 - acc: 0.3434 - val_loss: 1.7376 - val_acc: 0.2857\n",
            "Epoch 12/200\n",
            "1/1 [==============================] - 0s 50ms/step - loss: 1.2978 - acc: 0.3333 - val_loss: 1.4864 - val_acc: 0.3929\n",
            "Epoch 13/200\n",
            "1/1 [==============================] - 0s 49ms/step - loss: 1.0993 - acc: 0.4276 - val_loss: 1.3757 - val_acc: 0.3571\n",
            "Epoch 14/200\n",
            "1/1 [==============================] - 0s 51ms/step - loss: 1.0641 - acc: 0.5320 - val_loss: 1.3156 - val_acc: 0.3214\n",
            "Epoch 15/200\n",
            "1/1 [==============================] - 0s 50ms/step - loss: 1.0973 - acc: 0.4848 - val_loss: 1.2060 - val_acc: 0.3571\n",
            "Epoch 16/200\n",
            "1/1 [==============================] - 0s 49ms/step - loss: 1.0485 - acc: 0.5185 - val_loss: 1.0979 - val_acc: 0.4286\n",
            "Epoch 17/200\n",
            "1/1 [==============================] - 0s 50ms/step - loss: 0.9898 - acc: 0.5758 - val_loss: 1.0812 - val_acc: 0.3571\n",
            "Epoch 18/200\n",
            "1/1 [==============================] - 0s 50ms/step - loss: 1.0130 - acc: 0.5253 - val_loss: 1.0529 - val_acc: 0.2500\n",
            "Epoch 19/200\n",
            "1/1 [==============================] - 0s 48ms/step - loss: 1.0637 - acc: 0.4411 - val_loss: 1.0520 - val_acc: 0.2857\n",
            "Epoch 20/200\n",
            "1/1 [==============================] - 0s 51ms/step - loss: 1.0487 - acc: 0.4646 - val_loss: 1.0406 - val_acc: 0.4643\n",
            "Epoch 21/200\n",
            "1/1 [==============================] - 0s 52ms/step - loss: 1.0137 - acc: 0.5488 - val_loss: 1.0438 - val_acc: 0.4286\n",
            "Epoch 22/200\n",
            "1/1 [==============================] - 0s 51ms/step - loss: 0.9986 - acc: 0.5825 - val_loss: 1.0640 - val_acc: 0.3929\n",
            "Epoch 23/200\n",
            "1/1 [==============================] - 0s 53ms/step - loss: 0.9947 - acc: 0.5522 - val_loss: 1.0805 - val_acc: 0.3929\n",
            "Epoch 24/200\n",
            "1/1 [==============================] - 0s 49ms/step - loss: 0.9921 - acc: 0.5387 - val_loss: 1.0984 - val_acc: 0.3929\n",
            "Epoch 25/200\n",
            "1/1 [==============================] - 0s 48ms/step - loss: 0.9614 - acc: 0.5623 - val_loss: 1.0914 - val_acc: 0.4286\n",
            "Epoch 26/200\n",
            "1/1 [==============================] - 0s 49ms/step - loss: 0.9381 - acc: 0.5926 - val_loss: 1.1400 - val_acc: 0.4286\n",
            "Epoch 27/200\n",
            "1/1 [==============================] - 0s 52ms/step - loss: 0.9389 - acc: 0.5892 - val_loss: 1.1238 - val_acc: 0.4286\n",
            "Epoch 28/200\n",
            "1/1 [==============================] - 0s 48ms/step - loss: 0.9547 - acc: 0.5993 - val_loss: 1.1153 - val_acc: 0.4643\n",
            "Epoch 29/200\n",
            "1/1 [==============================] - 0s 46ms/step - loss: 0.9408 - acc: 0.6094 - val_loss: 1.0917 - val_acc: 0.4286\n",
            "Epoch 30/200\n",
            "1/1 [==============================] - 0s 47ms/step - loss: 0.9192 - acc: 0.5926 - val_loss: 1.0934 - val_acc: 0.4286\n",
            "Epoch 31/200\n",
            "1/1 [==============================] - 0s 52ms/step - loss: 0.9283 - acc: 0.5960 - val_loss: 1.0906 - val_acc: 0.4286\n",
            "Epoch 32/200\n",
            "1/1 [==============================] - 0s 46ms/step - loss: 0.9105 - acc: 0.5926 - val_loss: 1.0658 - val_acc: 0.4286\n",
            "Epoch 33/200\n",
            "1/1 [==============================] - 0s 48ms/step - loss: 0.8840 - acc: 0.5993 - val_loss: 1.0633 - val_acc: 0.3929\n",
            "Epoch 34/200\n",
            "1/1 [==============================] - 0s 49ms/step - loss: 0.8701 - acc: 0.6364 - val_loss: 1.0507 - val_acc: 0.3929\n",
            "Epoch 35/200\n",
            "1/1 [==============================] - 0s 54ms/step - loss: 0.8470 - acc: 0.6397 - val_loss: 1.0338 - val_acc: 0.4286\n",
            "Epoch 36/200\n",
            "1/1 [==============================] - 0s 48ms/step - loss: 0.8323 - acc: 0.6296 - val_loss: 1.0710 - val_acc: 0.3929\n",
            "Epoch 37/200\n",
            "1/1 [==============================] - 0s 49ms/step - loss: 0.8132 - acc: 0.6599 - val_loss: 1.0184 - val_acc: 0.3929\n",
            "Epoch 38/200\n",
            "1/1 [==============================] - 0s 47ms/step - loss: 0.7886 - acc: 0.6633 - val_loss: 1.0424 - val_acc: 0.3929\n",
            "Epoch 39/200\n",
            "1/1 [==============================] - 0s 45ms/step - loss: 0.7577 - acc: 0.6599 - val_loss: 1.0613 - val_acc: 0.3929\n",
            "Epoch 40/200\n",
            "1/1 [==============================] - 0s 47ms/step - loss: 0.7225 - acc: 0.7003 - val_loss: 1.0040 - val_acc: 0.3929\n",
            "Epoch 41/200\n",
            "1/1 [==============================] - 0s 53ms/step - loss: 0.7251 - acc: 0.6768 - val_loss: 1.4852 - val_acc: 0.4286\n",
            "Epoch 42/200\n",
            "1/1 [==============================] - 0s 48ms/step - loss: 0.9330 - acc: 0.6195 - val_loss: 1.2246 - val_acc: 0.4286\n",
            "Epoch 43/200\n",
            "1/1 [==============================] - 0s 48ms/step - loss: 1.0995 - acc: 0.5993 - val_loss: 1.0562 - val_acc: 0.4286\n",
            "Epoch 44/200\n",
            "1/1 [==============================] - 0s 51ms/step - loss: 0.9208 - acc: 0.6162 - val_loss: 0.9396 - val_acc: 0.3929\n",
            "Epoch 45/200\n",
            "1/1 [==============================] - 0s 49ms/step - loss: 0.7452 - acc: 0.7104 - val_loss: 1.1575 - val_acc: 0.3929\n",
            "Epoch 46/200\n",
            "1/1 [==============================] - 0s 48ms/step - loss: 0.9441 - acc: 0.5421 - val_loss: 0.9735 - val_acc: 0.3571\n",
            "Epoch 47/200\n",
            "1/1 [==============================] - 0s 54ms/step - loss: 0.7714 - acc: 0.6936 - val_loss: 0.9012 - val_acc: 0.4286\n",
            "Epoch 48/200\n",
            "1/1 [==============================] - 0s 48ms/step - loss: 0.7529 - acc: 0.6633 - val_loss: 0.9951 - val_acc: 0.4286\n",
            "Epoch 49/200\n",
            "1/1 [==============================] - 0s 46ms/step - loss: 0.8158 - acc: 0.6296 - val_loss: 0.9600 - val_acc: 0.4286\n",
            "Epoch 50/200\n",
            "1/1 [==============================] - 0s 48ms/step - loss: 0.7442 - acc: 0.6633 - val_loss: 0.9305 - val_acc: 0.4643\n",
            "Epoch 51/200\n",
            "1/1 [==============================] - 0s 50ms/step - loss: 0.6889 - acc: 0.7138 - val_loss: 1.0641 - val_acc: 0.3929\n",
            "Epoch 52/200\n",
            "1/1 [==============================] - 0s 45ms/step - loss: 0.7420 - acc: 0.6835 - val_loss: 1.0923 - val_acc: 0.3929\n",
            "Epoch 53/200\n",
            "1/1 [==============================] - 0s 48ms/step - loss: 0.7198 - acc: 0.7003 - val_loss: 0.9933 - val_acc: 0.4643\n",
            "Epoch 54/200\n",
            "1/1 [==============================] - 0s 46ms/step - loss: 0.6572 - acc: 0.7273 - val_loss: 0.9946 - val_acc: 0.4643\n",
            "Epoch 55/200\n",
            "1/1 [==============================] - 0s 49ms/step - loss: 0.6514 - acc: 0.7239 - val_loss: 1.1171 - val_acc: 0.4286\n",
            "Epoch 56/200\n",
            "1/1 [==============================] - 0s 48ms/step - loss: 0.7797 - acc: 0.6566 - val_loss: 1.0404 - val_acc: 0.4286\n",
            "Epoch 57/200\n",
            "1/1 [==============================] - 0s 50ms/step - loss: 0.6864 - acc: 0.6902 - val_loss: 1.1215 - val_acc: 0.3929\n",
            "Epoch 58/200\n",
            "1/1 [==============================] - 0s 50ms/step - loss: 0.6594 - acc: 0.7239 - val_loss: 1.3829 - val_acc: 0.4286\n",
            "Epoch 59/200\n",
            "1/1 [==============================] - 0s 46ms/step - loss: 0.7549 - acc: 0.6498 - val_loss: 0.9898 - val_acc: 0.4286\n",
            "Epoch 60/200\n",
            "1/1 [==============================] - 0s 47ms/step - loss: 0.6330 - acc: 0.7340 - val_loss: 1.0551 - val_acc: 0.4286\n",
            "Epoch 61/200\n",
            "1/1 [==============================] - 0s 45ms/step - loss: 0.7293 - acc: 0.6633 - val_loss: 0.9880 - val_acc: 0.4286\n",
            "Epoch 62/200\n",
            "1/1 [==============================] - 0s 48ms/step - loss: 0.6710 - acc: 0.6970 - val_loss: 1.0128 - val_acc: 0.4286\n",
            "Epoch 63/200\n",
            "1/1 [==============================] - 0s 50ms/step - loss: 0.6114 - acc: 0.7441 - val_loss: 1.2081 - val_acc: 0.3929\n",
            "Epoch 64/200\n",
            "1/1 [==============================] - 0s 48ms/step - loss: 0.6751 - acc: 0.6835 - val_loss: 1.0768 - val_acc: 0.4286\n",
            "Epoch 65/200\n",
            "1/1 [==============================] - 0s 48ms/step - loss: 0.5756 - acc: 0.7508 - val_loss: 1.0279 - val_acc: 0.4286\n",
            "Epoch 66/200\n",
            "1/1 [==============================] - 0s 51ms/step - loss: 0.5527 - acc: 0.7441 - val_loss: 1.1414 - val_acc: 0.3929\n",
            "Epoch 67/200\n",
            "1/1 [==============================] - 0s 46ms/step - loss: 0.5682 - acc: 0.7273 - val_loss: 1.1438 - val_acc: 0.4643\n",
            "Epoch 68/200\n",
            "1/1 [==============================] - 0s 52ms/step - loss: 0.5185 - acc: 0.7475 - val_loss: 1.5891 - val_acc: 0.4286\n",
            "Epoch 69/200\n",
            "1/1 [==============================] - 0s 48ms/step - loss: 0.5614 - acc: 0.7407 - val_loss: 1.2414 - val_acc: 0.4286\n",
            "Epoch 70/200\n",
            "1/1 [==============================] - 0s 49ms/step - loss: 0.4760 - acc: 0.7980 - val_loss: 1.0701 - val_acc: 0.5000\n",
            "Epoch 71/200\n",
            "1/1 [==============================] - 0s 48ms/step - loss: 0.4652 - acc: 0.7879 - val_loss: 1.0362 - val_acc: 0.5714\n",
            "Epoch 72/200\n",
            "1/1 [==============================] - 0s 48ms/step - loss: 0.4647 - acc: 0.7710 - val_loss: 1.0298 - val_acc: 0.4643\n",
            "Epoch 73/200\n",
            "1/1 [==============================] - 0s 48ms/step - loss: 0.4399 - acc: 0.7946 - val_loss: 1.1409 - val_acc: 0.4643\n",
            "Epoch 74/200\n",
            "1/1 [==============================] - 0s 45ms/step - loss: 0.4493 - acc: 0.7980 - val_loss: 1.1089 - val_acc: 0.4286\n",
            "Epoch 75/200\n",
            "1/1 [==============================] - 0s 50ms/step - loss: 0.4020 - acc: 0.8215 - val_loss: 1.1128 - val_acc: 0.5357\n",
            "Epoch 76/200\n",
            "1/1 [==============================] - 0s 52ms/step - loss: 0.3925 - acc: 0.7879 - val_loss: 1.1764 - val_acc: 0.4286\n",
            "Epoch 77/200\n",
            "1/1 [==============================] - 0s 49ms/step - loss: 0.3737 - acc: 0.8013 - val_loss: 1.4008 - val_acc: 0.5357\n",
            "Epoch 78/200\n",
            "1/1 [==============================] - 0s 47ms/step - loss: 0.3703 - acc: 0.8586 - val_loss: 1.3222 - val_acc: 0.5714\n",
            "Epoch 79/200\n",
            "1/1 [==============================] - 0s 47ms/step - loss: 0.3380 - acc: 0.8586 - val_loss: 1.2781 - val_acc: 0.5714\n",
            "Epoch 80/200\n",
            "1/1 [==============================] - 0s 51ms/step - loss: 0.3469 - acc: 0.8148 - val_loss: 1.4312 - val_acc: 0.5357\n",
            "Epoch 81/200\n",
            "1/1 [==============================] - 0s 48ms/step - loss: 0.2893 - acc: 0.8923 - val_loss: 1.4719 - val_acc: 0.5357\n",
            "Epoch 82/200\n",
            "1/1 [==============================] - 0s 50ms/step - loss: 0.2731 - acc: 0.8889 - val_loss: 1.5692 - val_acc: 0.5714\n",
            "Epoch 83/200\n",
            "1/1 [==============================] - 0s 50ms/step - loss: 0.3772 - acc: 0.8215 - val_loss: 2.4991 - val_acc: 0.3929\n",
            "Epoch 84/200\n",
            "1/1 [==============================] - 0s 51ms/step - loss: 0.6917 - acc: 0.6869 - val_loss: 1.7050 - val_acc: 0.5714\n",
            "Epoch 85/200\n",
            "1/1 [==============================] - 0s 49ms/step - loss: 0.5655 - acc: 0.7542 - val_loss: 1.2698 - val_acc: 0.6429\n",
            "Epoch 86/200\n",
            "1/1 [==============================] - 0s 52ms/step - loss: 0.3610 - acc: 0.8485 - val_loss: 0.9381 - val_acc: 0.6071\n",
            "Epoch 87/200\n",
            "1/1 [==============================] - 0s 47ms/step - loss: 0.3773 - acc: 0.8485 - val_loss: 1.0766 - val_acc: 0.5000\n",
            "Epoch 88/200\n",
            "1/1 [==============================] - 0s 49ms/step - loss: 0.3205 - acc: 0.8721 - val_loss: 0.9333 - val_acc: 0.6071\n",
            "Epoch 89/200\n",
            "1/1 [==============================] - 0s 48ms/step - loss: 0.2427 - acc: 0.8990 - val_loss: 1.1652 - val_acc: 0.6429\n",
            "Epoch 90/200\n",
            "1/1 [==============================] - 0s 50ms/step - loss: 0.3501 - acc: 0.8249 - val_loss: 1.3061 - val_acc: 0.5357\n",
            "Epoch 91/200\n",
            "1/1 [==============================] - 0s 52ms/step - loss: 0.2582 - acc: 0.8754 - val_loss: 1.6885 - val_acc: 0.5357\n",
            "Epoch 92/200\n",
            "1/1 [==============================] - 0s 50ms/step - loss: 0.2937 - acc: 0.8721 - val_loss: 1.4619 - val_acc: 0.5357\n",
            "Epoch 93/200\n",
            "1/1 [==============================] - 0s 52ms/step - loss: 0.2318 - acc: 0.9226 - val_loss: 1.0885 - val_acc: 0.6429\n",
            "Epoch 94/200\n",
            "1/1 [==============================] - 0s 49ms/step - loss: 0.2333 - acc: 0.9125 - val_loss: 1.0778 - val_acc: 0.6429\n",
            "Epoch 95/200\n",
            "1/1 [==============================] - 0s 47ms/step - loss: 0.1825 - acc: 0.9327 - val_loss: 0.9798 - val_acc: 0.6786\n",
            "Epoch 96/200\n",
            "1/1 [==============================] - 0s 48ms/step - loss: 0.1826 - acc: 0.9495 - val_loss: 0.9230 - val_acc: 0.6429\n",
            "Epoch 97/200\n",
            "1/1 [==============================] - 0s 49ms/step - loss: 0.1800 - acc: 0.9293 - val_loss: 0.9608 - val_acc: 0.6429\n",
            "Epoch 98/200\n",
            "1/1 [==============================] - 0s 50ms/step - loss: 0.1627 - acc: 0.9495 - val_loss: 1.1312 - val_acc: 0.6786\n",
            "Epoch 99/200\n",
            "1/1 [==============================] - 0s 51ms/step - loss: 0.1329 - acc: 0.9630 - val_loss: 1.3498 - val_acc: 0.6429\n",
            "Epoch 100/200\n",
            "1/1 [==============================] - 0s 50ms/step - loss: 0.1320 - acc: 0.9562 - val_loss: 1.3936 - val_acc: 0.6786\n",
            "Epoch 101/200\n",
            "1/1 [==============================] - 0s 46ms/step - loss: 0.0985 - acc: 0.9731 - val_loss: 1.4304 - val_acc: 0.6071\n",
            "Epoch 102/200\n",
            "1/1 [==============================] - 0s 47ms/step - loss: 0.0908 - acc: 0.9731 - val_loss: 1.6065 - val_acc: 0.5714\n",
            "Epoch 103/200\n",
            "1/1 [==============================] - 0s 46ms/step - loss: 0.0874 - acc: 0.9764 - val_loss: 1.7575 - val_acc: 0.5714\n",
            "Epoch 104/200\n",
            "1/1 [==============================] - 0s 49ms/step - loss: 0.0736 - acc: 0.9731 - val_loss: 1.8897 - val_acc: 0.5714\n",
            "Epoch 105/200\n",
            "1/1 [==============================] - 0s 53ms/step - loss: 0.0560 - acc: 0.9899 - val_loss: 1.9892 - val_acc: 0.5714\n",
            "Epoch 106/200\n",
            "1/1 [==============================] - 0s 56ms/step - loss: 0.0585 - acc: 0.9832 - val_loss: 2.0338 - val_acc: 0.5714\n",
            "Epoch 107/200\n",
            "1/1 [==============================] - 0s 46ms/step - loss: 0.0478 - acc: 0.9899 - val_loss: 1.8959 - val_acc: 0.5714\n",
            "Epoch 108/200\n",
            "1/1 [==============================] - 0s 52ms/step - loss: 0.0523 - acc: 0.9865 - val_loss: 1.8726 - val_acc: 0.6071\n",
            "Epoch 109/200\n",
            "1/1 [==============================] - 0s 50ms/step - loss: 0.0354 - acc: 0.9933 - val_loss: 1.7998 - val_acc: 0.6071\n",
            "Epoch 110/200\n",
            "1/1 [==============================] - 0s 45ms/step - loss: 0.0321 - acc: 0.9966 - val_loss: 1.7073 - val_acc: 0.6429\n",
            "Epoch 111/200\n",
            "1/1 [==============================] - 0s 52ms/step - loss: 0.0364 - acc: 0.9933 - val_loss: 1.6668 - val_acc: 0.6429\n",
            "Epoch 112/200\n",
            "1/1 [==============================] - 0s 59ms/step - loss: 0.0332 - acc: 0.9933 - val_loss: 1.7229 - val_acc: 0.6429\n",
            "Epoch 113/200\n",
            "1/1 [==============================] - 0s 46ms/step - loss: 0.0359 - acc: 0.9933 - val_loss: 1.8573 - val_acc: 0.6071\n",
            "Epoch 114/200\n",
            "1/1 [==============================] - 0s 47ms/step - loss: 0.0479 - acc: 0.9865 - val_loss: 2.1039 - val_acc: 0.5714\n",
            "Epoch 115/200\n",
            "1/1 [==============================] - 0s 49ms/step - loss: 0.0291 - acc: 0.9832 - val_loss: 2.0489 - val_acc: 0.6071\n",
            "Epoch 116/200\n",
            "1/1 [==============================] - 0s 44ms/step - loss: 0.0564 - acc: 0.9865 - val_loss: 1.7328 - val_acc: 0.6429\n",
            "Epoch 117/200\n",
            "1/1 [==============================] - 0s 66ms/step - loss: 0.0554 - acc: 0.9798 - val_loss: 1.9872 - val_acc: 0.6071\n",
            "Epoch 118/200\n",
            "1/1 [==============================] - 0s 50ms/step - loss: 0.0293 - acc: 0.9899 - val_loss: 2.0511 - val_acc: 0.6071\n",
            "Epoch 119/200\n",
            "1/1 [==============================] - 0s 48ms/step - loss: 0.0684 - acc: 0.9764 - val_loss: 2.0026 - val_acc: 0.6786\n",
            "Epoch 120/200\n",
            "1/1 [==============================] - 0s 48ms/step - loss: 0.0337 - acc: 0.9832 - val_loss: 2.1841 - val_acc: 0.6071\n",
            "Epoch 121/200\n",
            "1/1 [==============================] - 0s 47ms/step - loss: 0.0487 - acc: 0.9832 - val_loss: 2.3593 - val_acc: 0.6429\n",
            "Epoch 122/200\n",
            "1/1 [==============================] - 0s 46ms/step - loss: 0.0448 - acc: 0.9798 - val_loss: 2.4045 - val_acc: 0.6429\n",
            "Epoch 123/200\n",
            "1/1 [==============================] - 0s 59ms/step - loss: 0.0389 - acc: 0.9832 - val_loss: 2.5340 - val_acc: 0.6071\n",
            "Epoch 124/200\n",
            "1/1 [==============================] - 0s 46ms/step - loss: 0.0430 - acc: 0.9899 - val_loss: 2.5641 - val_acc: 0.5714\n",
            "Epoch 125/200\n",
            "1/1 [==============================] - 0s 46ms/step - loss: 0.0410 - acc: 0.9933 - val_loss: 2.5354 - val_acc: 0.5357\n",
            "Epoch 126/200\n",
            "1/1 [==============================] - 0s 49ms/step - loss: 0.0394 - acc: 0.9832 - val_loss: 2.2039 - val_acc: 0.5714\n",
            "Epoch 127/200\n",
            "1/1 [==============================] - 0s 52ms/step - loss: 0.0172 - acc: 0.9966 - val_loss: 2.4601 - val_acc: 0.5357\n",
            "Epoch 128/200\n",
            "1/1 [==============================] - 0s 54ms/step - loss: 0.0425 - acc: 0.9899 - val_loss: 2.6373 - val_acc: 0.5000\n",
            "Epoch 129/200\n",
            "1/1 [==============================] - 0s 48ms/step - loss: 0.0312 - acc: 0.9899 - val_loss: 3.0902 - val_acc: 0.5357\n",
            "Epoch 130/200\n",
            "1/1 [==============================] - 0s 49ms/step - loss: 0.0303 - acc: 0.9966 - val_loss: 3.7414 - val_acc: 0.5357\n",
            "Epoch 131/200\n",
            "1/1 [==============================] - 0s 49ms/step - loss: 0.0702 - acc: 0.9798 - val_loss: 4.2705 - val_acc: 0.4643\n",
            "Epoch 132/200\n",
            "1/1 [==============================] - 0s 53ms/step - loss: 0.0793 - acc: 0.9731 - val_loss: 4.2828 - val_acc: 0.3929\n",
            "Epoch 133/200\n",
            "1/1 [==============================] - 0s 49ms/step - loss: 0.2542 - acc: 0.9125 - val_loss: 5.6028 - val_acc: 0.5000\n",
            "Epoch 134/200\n",
            "1/1 [==============================] - 0s 54ms/step - loss: 0.8207 - acc: 0.8215 - val_loss: 3.9593 - val_acc: 0.4286\n",
            "Epoch 135/200\n",
            "1/1 [==============================] - 0s 51ms/step - loss: 1.2802 - acc: 0.6734 - val_loss: 2.9798 - val_acc: 0.5000\n",
            "Epoch 136/200\n",
            "1/1 [==============================] - 0s 51ms/step - loss: 0.1696 - acc: 0.9394 - val_loss: 5.5347 - val_acc: 0.3571\n",
            "Epoch 137/200\n",
            "1/1 [==============================] - 0s 53ms/step - loss: 1.2692 - acc: 0.7104 - val_loss: 1.3515 - val_acc: 0.6429\n",
            "Epoch 138/200\n",
            "1/1 [==============================] - 0s 52ms/step - loss: 0.4555 - acc: 0.8350 - val_loss: 2.3688 - val_acc: 0.5000\n",
            "Epoch 139/200\n",
            "1/1 [==============================] - 0s 52ms/step - loss: 1.0742 - acc: 0.6431 - val_loss: 0.5659 - val_acc: 0.6071\n",
            "Epoch 140/200\n",
            "1/1 [==============================] - 0s 49ms/step - loss: 0.2473 - acc: 0.9327 - val_loss: 1.4009 - val_acc: 0.5000\n",
            "Epoch 141/200\n",
            "1/1 [==============================] - 0s 50ms/step - loss: 0.6170 - acc: 0.7104 - val_loss: 1.2533 - val_acc: 0.4643\n",
            "Epoch 142/200\n",
            "1/1 [==============================] - 0s 53ms/step - loss: 0.5861 - acc: 0.7138 - val_loss: 0.6367 - val_acc: 0.6786\n",
            "Epoch 143/200\n",
            "1/1 [==============================] - 0s 51ms/step - loss: 0.3315 - acc: 0.9293 - val_loss: 0.7791 - val_acc: 0.6071\n",
            "Epoch 144/200\n",
            "1/1 [==============================] - 0s 50ms/step - loss: 0.4206 - acc: 0.8081 - val_loss: 0.9858 - val_acc: 0.6071\n",
            "Epoch 145/200\n",
            "1/1 [==============================] - 0s 48ms/step - loss: 0.5032 - acc: 0.7374 - val_loss: 0.8062 - val_acc: 0.6071\n",
            "Epoch 146/200\n",
            "1/1 [==============================] - 0s 54ms/step - loss: 0.4034 - acc: 0.8081 - val_loss: 0.6434 - val_acc: 0.6429\n",
            "Epoch 147/200\n",
            "1/1 [==============================] - 0s 49ms/step - loss: 0.3158 - acc: 0.9091 - val_loss: 0.7018 - val_acc: 0.6786\n",
            "Epoch 148/200\n",
            "1/1 [==============================] - 0s 47ms/step - loss: 0.3046 - acc: 0.9293 - val_loss: 0.7844 - val_acc: 0.6429\n",
            "Epoch 149/200\n",
            "1/1 [==============================] - 0s 51ms/step - loss: 0.3685 - acc: 0.8721 - val_loss: 0.6859 - val_acc: 0.7143\n",
            "Epoch 150/200\n",
            "1/1 [==============================] - 0s 47ms/step - loss: 0.3219 - acc: 0.8855 - val_loss: 0.6300 - val_acc: 0.6429\n",
            "Epoch 151/200\n",
            "1/1 [==============================] - 0s 52ms/step - loss: 0.2807 - acc: 0.9226 - val_loss: 0.8011 - val_acc: 0.6429\n",
            "Epoch 152/200\n",
            "1/1 [==============================] - 0s 51ms/step - loss: 0.2748 - acc: 0.9259 - val_loss: 0.9584 - val_acc: 0.6071\n",
            "Epoch 153/200\n",
            "1/1 [==============================] - 0s 51ms/step - loss: 0.3028 - acc: 0.8687 - val_loss: 0.8750 - val_acc: 0.6786\n",
            "Epoch 154/200\n",
            "1/1 [==============================] - 0s 50ms/step - loss: 0.2501 - acc: 0.9226 - val_loss: 0.7386 - val_acc: 0.6429\n",
            "Epoch 155/200\n",
            "1/1 [==============================] - 0s 53ms/step - loss: 0.1976 - acc: 0.9562 - val_loss: 0.8304 - val_acc: 0.6429\n",
            "Epoch 156/200\n",
            "1/1 [==============================] - 0s 50ms/step - loss: 0.2515 - acc: 0.9125 - val_loss: 0.8552 - val_acc: 0.6786\n",
            "Epoch 157/200\n",
            "1/1 [==============================] - 0s 50ms/step - loss: 0.2139 - acc: 0.9394 - val_loss: 0.7991 - val_acc: 0.6429\n",
            "Epoch 158/200\n",
            "1/1 [==============================] - 0s 58ms/step - loss: 0.1730 - acc: 0.9360 - val_loss: 0.8319 - val_acc: 0.6429\n",
            "Epoch 159/200\n",
            "1/1 [==============================] - 0s 50ms/step - loss: 0.1494 - acc: 0.9562 - val_loss: 1.0167 - val_acc: 0.6429\n",
            "Epoch 160/200\n",
            "1/1 [==============================] - 0s 51ms/step - loss: 0.1285 - acc: 0.9764 - val_loss: 1.2349 - val_acc: 0.6786\n",
            "Epoch 161/200\n",
            "1/1 [==============================] - 0s 46ms/step - loss: 0.1465 - acc: 0.9596 - val_loss: 1.3066 - val_acc: 0.6429\n",
            "Epoch 162/200\n",
            "1/1 [==============================] - 0s 48ms/step - loss: 0.1068 - acc: 0.9731 - val_loss: 1.2486 - val_acc: 0.6429\n",
            "Epoch 163/200\n",
            "1/1 [==============================] - 0s 49ms/step - loss: 0.0841 - acc: 0.9764 - val_loss: 1.1318 - val_acc: 0.6429\n",
            "Epoch 164/200\n",
            "1/1 [==============================] - 0s 62ms/step - loss: 0.0713 - acc: 0.9832 - val_loss: 1.1368 - val_acc: 0.6786\n",
            "Epoch 165/200\n",
            "1/1 [==============================] - 0s 58ms/step - loss: 0.0704 - acc: 0.9832 - val_loss: 1.1054 - val_acc: 0.6429\n",
            "Epoch 166/200\n",
            "1/1 [==============================] - 0s 51ms/step - loss: 0.0665 - acc: 0.9798 - val_loss: 1.1160 - val_acc: 0.6071\n",
            "Epoch 167/200\n",
            "1/1 [==============================] - 0s 46ms/step - loss: 0.0651 - acc: 0.9832 - val_loss: 1.1047 - val_acc: 0.6429\n",
            "Epoch 168/200\n",
            "1/1 [==============================] - 0s 54ms/step - loss: 0.0435 - acc: 0.9899 - val_loss: 1.0952 - val_acc: 0.7143\n",
            "Epoch 169/200\n",
            "1/1 [==============================] - 0s 49ms/step - loss: 0.0302 - acc: 0.9966 - val_loss: 1.1406 - val_acc: 0.6786\n",
            "Epoch 170/200\n",
            "1/1 [==============================] - 0s 57ms/step - loss: 0.0416 - acc: 0.9832 - val_loss: 1.2140 - val_acc: 0.6786\n",
            "Epoch 171/200\n",
            "1/1 [==============================] - 0s 50ms/step - loss: 0.0290 - acc: 0.9966 - val_loss: 1.2716 - val_acc: 0.6786\n",
            "Epoch 172/200\n",
            "1/1 [==============================] - 0s 52ms/step - loss: 0.0345 - acc: 0.9966 - val_loss: 1.3168 - val_acc: 0.6786\n",
            "Epoch 173/200\n",
            "1/1 [==============================] - 0s 52ms/step - loss: 0.0247 - acc: 0.9966 - val_loss: 1.3387 - val_acc: 0.6071\n",
            "Epoch 174/200\n",
            "1/1 [==============================] - 0s 46ms/step - loss: 0.0204 - acc: 0.9966 - val_loss: 1.4055 - val_acc: 0.6429\n",
            "Epoch 175/200\n",
            "1/1 [==============================] - 0s 47ms/step - loss: 0.0167 - acc: 1.0000 - val_loss: 1.5406 - val_acc: 0.6429\n",
            "Epoch 176/200\n",
            "1/1 [==============================] - 0s 60ms/step - loss: 0.0116 - acc: 1.0000 - val_loss: 1.8195 - val_acc: 0.6071\n",
            "Epoch 177/200\n",
            "1/1 [==============================] - 0s 49ms/step - loss: 0.0257 - acc: 0.9966 - val_loss: 1.8881 - val_acc: 0.6071\n",
            "Epoch 178/200\n",
            "1/1 [==============================] - 0s 50ms/step - loss: 0.0441 - acc: 0.9933 - val_loss: 1.7591 - val_acc: 0.5714\n",
            "Epoch 179/200\n",
            "1/1 [==============================] - 0s 47ms/step - loss: 0.0099 - acc: 1.0000 - val_loss: 1.6133 - val_acc: 0.6071\n",
            "Epoch 180/200\n",
            "1/1 [==============================] - 0s 49ms/step - loss: 0.0140 - acc: 1.0000 - val_loss: 1.5305 - val_acc: 0.6429\n",
            "Epoch 181/200\n",
            "1/1 [==============================] - 0s 52ms/step - loss: 0.0215 - acc: 0.9966 - val_loss: 1.5097 - val_acc: 0.7143\n",
            "Epoch 182/200\n",
            "1/1 [==============================] - 0s 55ms/step - loss: 0.0092 - acc: 1.0000 - val_loss: 1.5373 - val_acc: 0.7143\n",
            "Epoch 183/200\n",
            "1/1 [==============================] - 0s 52ms/step - loss: 0.0126 - acc: 0.9966 - val_loss: 1.5463 - val_acc: 0.7143\n",
            "Epoch 184/200\n",
            "1/1 [==============================] - 0s 49ms/step - loss: 0.0077 - acc: 1.0000 - val_loss: 1.5590 - val_acc: 0.7143\n",
            "Epoch 185/200\n",
            "1/1 [==============================] - 0s 54ms/step - loss: 0.0174 - acc: 0.9966 - val_loss: 1.5828 - val_acc: 0.7143\n",
            "Epoch 186/200\n",
            "1/1 [==============================] - 0s 48ms/step - loss: 0.0084 - acc: 1.0000 - val_loss: 1.6103 - val_acc: 0.7143\n",
            "Epoch 187/200\n",
            "1/1 [==============================] - 0s 58ms/step - loss: 0.0065 - acc: 1.0000 - val_loss: 1.6430 - val_acc: 0.7143\n",
            "Epoch 188/200\n",
            "1/1 [==============================] - 0s 52ms/step - loss: 0.0048 - acc: 1.0000 - val_loss: 1.6796 - val_acc: 0.7143\n",
            "Epoch 189/200\n",
            "1/1 [==============================] - 0s 54ms/step - loss: 0.0115 - acc: 0.9966 - val_loss: 1.7467 - val_acc: 0.7143\n",
            "Epoch 190/200\n",
            "1/1 [==============================] - 0s 49ms/step - loss: 0.0045 - acc: 1.0000 - val_loss: 1.8184 - val_acc: 0.7143\n",
            "Epoch 191/200\n",
            "1/1 [==============================] - 0s 49ms/step - loss: 0.0036 - acc: 1.0000 - val_loss: 1.8833 - val_acc: 0.6786\n",
            "Epoch 192/200\n",
            "1/1 [==============================] - 0s 47ms/step - loss: 0.0030 - acc: 1.0000 - val_loss: 1.9338 - val_acc: 0.6786\n",
            "Epoch 193/200\n",
            "1/1 [==============================] - 0s 53ms/step - loss: 0.0043 - acc: 1.0000 - val_loss: 1.9758 - val_acc: 0.6786\n",
            "Epoch 194/200\n",
            "1/1 [==============================] - 0s 52ms/step - loss: 0.0080 - acc: 0.9966 - val_loss: 1.9944 - val_acc: 0.6786\n",
            "Epoch 195/200\n",
            "1/1 [==============================] - 0s 53ms/step - loss: 0.0044 - acc: 1.0000 - val_loss: 1.9874 - val_acc: 0.6786\n",
            "Epoch 196/200\n",
            "1/1 [==============================] - 0s 52ms/step - loss: 0.0029 - acc: 1.0000 - val_loss: 1.9684 - val_acc: 0.6429\n",
            "Epoch 197/200\n",
            "1/1 [==============================] - 0s 48ms/step - loss: 0.0064 - acc: 0.9966 - val_loss: 1.9453 - val_acc: 0.6429\n",
            "Epoch 198/200\n",
            "1/1 [==============================] - 0s 49ms/step - loss: 0.0035 - acc: 1.0000 - val_loss: 1.8956 - val_acc: 0.6429\n",
            "Epoch 199/200\n",
            "1/1 [==============================] - 0s 47ms/step - loss: 0.0035 - acc: 1.0000 - val_loss: 1.8209 - val_acc: 0.6429\n",
            "Epoch 200/200\n",
            "1/1 [==============================] - 0s 51ms/step - loss: 0.0034 - acc: 1.0000 - val_loss: 1.7376 - val_acc: 0.6429\n"
          ],
          "name": "stdout"
        }
      ]
    },
    {
      "cell_type": "code",
      "metadata": {
        "id": "680XUAvkqABY",
        "colab_type": "code",
        "colab": {
          "base_uri": "https://localhost:8080/",
          "height": 599
        },
        "outputId": "d9d6bf00-28c4-4b5e-d824-344201a57dbe"
      },
      "source": [
        "plot_graphs(history, 'loss')  ################# 2 Bilstm + attention\n",
        "plot_graphs(history, 'acc')\n",
        "\n",
        "att2BiLSTM_loss = myLossHistory.val_loss['epoch'] ##########################\n",
        "\n",
        "sig_clf_probs = model.predict(X_te_paded) \n",
        "\n",
        "y_hat = np.array([np.argmax(i) for i in sig_clf_probs]) ######################### predicted label as 3 classes\n",
        "\n",
        "clf_confidence = np.zeros(y_hat.shape) ##################### confidence value for each piece of prediction\n",
        "\n",
        "for i in range(len(y_hat)):\n",
        "  if y_hat[i]!=0:\n",
        "    clf_confidence[i] = sig_clf_probs[i][y_hat[i]]\n",
        "  else:\n",
        "    if sig_clf_probs[i][1]>=sig_clf_probs[i][2]:\n",
        "      clf_confidence[i] = sig_clf_probs[i][1]\n",
        "      y_hat[i] = 1\n",
        "    else:\n",
        "      clf_confidence[i] = sig_clf_probs[i][2]\n",
        "      y_hat[i] = 2\n",
        "\n",
        "score,rmse,macroF = scorer(Y_te,y_hat,clf_confidence) # F-score is ill-defined and being set to 0.0 in labels with no predicted samples\n",
        "print('accuracy:', score)\n",
        "print('RMSE:', rmse)\n",
        "print('Macro averaged F1 socre:', macroF)"
      ],
      "execution_count": null,
      "outputs": [
        {
          "output_type": "display_data",
          "data": {
            "image/png": "[encoded data removed]",
            "text/plain": [
              "<Figure size 432x288 with 1 Axes>"
            ]
          },
          "metadata": {
            "tags": [],
            "needs_background": "light"
          }
        },
        {
          "output_type": "display_data",
          "data": {
            "image/png": "[encoded data removed]",
            "text/plain": [
              "<Figure size 432x288 with 1 Axes>"
            ]
          },
          "metadata": {
            "tags": [],
            "needs_background": "light"
          }
        },
        {
          "output_type": "stream",
          "text": [
            "accuracy: 0.42857142857142855\n",
            "RMSE: 0.7640488112842381\n",
            "Macro averaged F1 socre: 0.315015015015015\n"
          ],
          "name": "stdout"
        }
      ]
    },
    {
      "cell_type": "code",
      "metadata": {
        "id": "O4jmO21e8Dz7",
        "colab_type": "code",
        "colab": {
          "base_uri": "https://localhost:8080/",
          "height": 395
        },
        "outputId": "97bc5481-ed29-4f60-b7b4-17c7d23e2c66"
      },
      "source": [
        "def build_model(): ################# single layers bidirectional LSTM + attention\n",
        "    \n",
        "    model = Sequential()\n",
        "    model.add(layers.Embedding(len(embedding_matrix), 300,  \n",
        "            mask_zero=True, \n",
        "            embeddings_initializer=initializers.Constant(embedding_matrix),\n",
        "            input_length=len(X_tr_paded[0]), \n",
        "            trainable=False))\n",
        "    model.add(layers.Bidirectional(layers.LSTM(300,return_sequences=True)))\n",
        "    model.add(attention())\n",
        "    model.add(layers.Dropout(0.1))\n",
        "    model.add(layers.Dense(64))\n",
        "    model.add(layers.Dense(3,activation='softmax'))\n",
        "    \n",
        "\n",
        "    model.compile(optimizer=optimizers.Adam(lr=0.01),loss='categorical_crossentropy',metrics=['acc'])\n",
        "    print(model.summary())\n",
        "\n",
        "    return model\n",
        "\n",
        "model = build_model()"
      ],
      "execution_count": null,
      "outputs": [
        {
          "output_type": "stream",
          "text": [
            "Model: \"sequential_1\"\n",
            "_________________________________________________________________\n",
            "Layer (type)                 Output Shape              Param #   \n",
            "=================================================================\n",
            "embedding_1 (Embedding)      (None, 28, 300)           472500    \n",
            "_________________________________________________________________\n",
            "bidirectional_1 (Bidirection (None, 28, 600)           1442400   \n",
            "_________________________________________________________________\n",
            "attention_1 (attention)      (None, 600)               628       \n",
            "_________________________________________________________________\n",
            "dropout_1 (Dropout)          (None, 600)               0         \n",
            "_________________________________________________________________\n",
            "dense_2 (Dense)              (None, 64)                38464     \n",
            "_________________________________________________________________\n",
            "dense_3 (Dense)              (None, 3)                 195       \n",
            "=================================================================\n",
            "Total params: 1,954,187\n",
            "Trainable params: 1,481,687\n",
            "Non-trainable params: 472,500\n",
            "_________________________________________________________________\n",
            "None\n"
          ],
          "name": "stdout"
        }
      ]
    },
    {
      "cell_type": "code",
      "metadata": {
        "id": "vQzr44n-8M_1",
        "colab_type": "code",
        "colab": {
          "base_uri": "https://localhost:8080/",
          "height": 1000
        },
        "outputId": "c3ade2f3-2c83-4a42-efbf-1225583af653"
      },
      "source": [
        "myLossHistory = LossHistory()\n",
        "history = model.fit(x=X_tr_paded, y=Y_tr, batch_size=297, epochs=100, validation_data=(X_dev_paded,Y_dev),callbacks=[myLossHistory])"
      ],
      "execution_count": null,
      "outputs": [
        {
          "output_type": "stream",
          "text": [
            "Epoch 1/100\n",
            "1/1 [==============================] - 0s 53ms/step - loss: 0.6702 - acc: 0.7138 - val_loss: 1.2983 - val_acc: 0.2857\n",
            "Epoch 2/100\n",
            "1/1 [==============================] - 0s 35ms/step - loss: 0.6130 - acc: 0.7508 - val_loss: 1.2757 - val_acc: 0.4286\n",
            "Epoch 3/100\n",
            "1/1 [==============================] - 0s 33ms/step - loss: 0.5632 - acc: 0.7778 - val_loss: 1.4041 - val_acc: 0.4286\n",
            "Epoch 4/100\n",
            "1/1 [==============================] - 0s 32ms/step - loss: 0.5156 - acc: 0.8081 - val_loss: 1.3820 - val_acc: 0.3929\n",
            "Epoch 5/100\n",
            "1/1 [==============================] - 0s 32ms/step - loss: 0.4785 - acc: 0.7912 - val_loss: 1.9408 - val_acc: 0.3214\n",
            "Epoch 6/100\n",
            "1/1 [==============================] - 0s 31ms/step - loss: 0.4634 - acc: 0.7946 - val_loss: 1.4858 - val_acc: 0.4643\n",
            "Epoch 7/100\n",
            "1/1 [==============================] - 0s 30ms/step - loss: 0.5265 - acc: 0.7845 - val_loss: 1.9494 - val_acc: 0.3929\n",
            "Epoch 8/100\n",
            "1/1 [==============================] - 0s 32ms/step - loss: 0.4917 - acc: 0.7643 - val_loss: 1.5131 - val_acc: 0.4286\n",
            "Epoch 9/100\n",
            "1/1 [==============================] - 0s 31ms/step - loss: 0.3415 - acc: 0.8620 - val_loss: 1.3454 - val_acc: 0.5000\n",
            "Epoch 10/100\n",
            "1/1 [==============================] - 0s 32ms/step - loss: 0.3798 - acc: 0.8283 - val_loss: 1.3711 - val_acc: 0.3929\n",
            "Epoch 11/100\n",
            "1/1 [==============================] - 0s 29ms/step - loss: 0.3057 - acc: 0.8889 - val_loss: 1.7384 - val_acc: 0.3571\n",
            "Epoch 12/100\n",
            "1/1 [==============================] - 0s 35ms/step - loss: 0.3179 - acc: 0.8653 - val_loss: 1.5823 - val_acc: 0.3929\n",
            "Epoch 13/100\n",
            "1/1 [==============================] - 0s 32ms/step - loss: 0.2384 - acc: 0.9125 - val_loss: 1.5262 - val_acc: 0.5357\n",
            "Epoch 14/100\n",
            "1/1 [==============================] - 0s 32ms/step - loss: 0.2380 - acc: 0.9125 - val_loss: 1.5667 - val_acc: 0.5357\n",
            "Epoch 15/100\n",
            "1/1 [==============================] - 0s 31ms/step - loss: 0.1804 - acc: 0.9461 - val_loss: 1.7647 - val_acc: 0.4643\n",
            "Epoch 16/100\n",
            "1/1 [==============================] - 0s 33ms/step - loss: 0.1486 - acc: 0.9731 - val_loss: 2.0545 - val_acc: 0.4286\n",
            "Epoch 17/100\n",
            "1/1 [==============================] - 0s 32ms/step - loss: 0.1192 - acc: 0.9798 - val_loss: 2.0269 - val_acc: 0.3929\n",
            "Epoch 18/100\n",
            "1/1 [==============================] - 0s 32ms/step - loss: 0.0893 - acc: 0.9865 - val_loss: 2.0472 - val_acc: 0.4643\n",
            "Epoch 19/100\n",
            "1/1 [==============================] - 0s 31ms/step - loss: 0.0710 - acc: 0.9899 - val_loss: 2.2488 - val_acc: 0.4643\n",
            "Epoch 20/100\n",
            "1/1 [==============================] - 0s 32ms/step - loss: 0.0575 - acc: 0.9899 - val_loss: 2.5273 - val_acc: 0.4643\n",
            "Epoch 21/100\n",
            "1/1 [==============================] - 0s 31ms/step - loss: 0.0462 - acc: 0.9899 - val_loss: 2.8381 - val_acc: 0.4643\n",
            "Epoch 22/100\n",
            "1/1 [==============================] - 0s 36ms/step - loss: 0.0411 - acc: 0.9899 - val_loss: 3.3139 - val_acc: 0.4643\n",
            "Epoch 23/100\n",
            "1/1 [==============================] - 0s 33ms/step - loss: 0.0358 - acc: 0.9899 - val_loss: 3.5163 - val_acc: 0.4643\n",
            "Epoch 24/100\n",
            "1/1 [==============================] - 0s 31ms/step - loss: 0.0378 - acc: 0.9899 - val_loss: 3.4277 - val_acc: 0.5357\n",
            "Epoch 25/100\n",
            "1/1 [==============================] - 0s 30ms/step - loss: 0.0171 - acc: 0.9966 - val_loss: 3.8142 - val_acc: 0.4643\n",
            "Epoch 26/100\n",
            "1/1 [==============================] - 0s 31ms/step - loss: 0.0226 - acc: 1.0000 - val_loss: 3.5296 - val_acc: 0.5000\n",
            "Epoch 27/100\n",
            "1/1 [==============================] - 0s 32ms/step - loss: 0.0115 - acc: 1.0000 - val_loss: 3.1034 - val_acc: 0.5357\n",
            "Epoch 28/100\n",
            "1/1 [==============================] - 0s 31ms/step - loss: 0.0157 - acc: 0.9933 - val_loss: 3.1965 - val_acc: 0.5357\n",
            "Epoch 29/100\n",
            "1/1 [==============================] - 0s 31ms/step - loss: 0.0070 - acc: 1.0000 - val_loss: 3.5359 - val_acc: 0.5357\n",
            "Epoch 30/100\n",
            "1/1 [==============================] - 0s 30ms/step - loss: 0.0061 - acc: 1.0000 - val_loss: 3.6471 - val_acc: 0.5357\n",
            "Epoch 31/100\n",
            "1/1 [==============================] - 0s 32ms/step - loss: 0.0056 - acc: 1.0000 - val_loss: 3.5268 - val_acc: 0.5714\n",
            "Epoch 32/100\n",
            "1/1 [==============================] - 0s 30ms/step - loss: 0.0038 - acc: 1.0000 - val_loss: 3.3770 - val_acc: 0.5357\n",
            "Epoch 33/100\n",
            "1/1 [==============================] - 0s 30ms/step - loss: 0.0035 - acc: 1.0000 - val_loss: 3.2490 - val_acc: 0.5714\n",
            "Epoch 34/100\n",
            "1/1 [==============================] - 0s 28ms/step - loss: 0.0031 - acc: 1.0000 - val_loss: 3.2025 - val_acc: 0.5714\n",
            "Epoch 35/100\n",
            "1/1 [==============================] - 0s 34ms/step - loss: 0.0023 - acc: 1.0000 - val_loss: 3.2677 - val_acc: 0.5714\n",
            "Epoch 36/100\n",
            "1/1 [==============================] - 0s 30ms/step - loss: 0.0017 - acc: 1.0000 - val_loss: 3.2327 - val_acc: 0.5714\n",
            "Epoch 37/100\n",
            "1/1 [==============================] - 0s 30ms/step - loss: 0.0018 - acc: 1.0000 - val_loss: 3.3026 - val_acc: 0.5714\n",
            "Epoch 38/100\n",
            "1/1 [==============================] - 0s 32ms/step - loss: 0.0015 - acc: 1.0000 - val_loss: 3.4012 - val_acc: 0.6071\n",
            "Epoch 39/100\n",
            "1/1 [==============================] - 0s 33ms/step - loss: 0.0011 - acc: 1.0000 - val_loss: 3.5097 - val_acc: 0.6071\n",
            "Epoch 40/100\n",
            "1/1 [==============================] - 0s 31ms/step - loss: 0.0011 - acc: 1.0000 - val_loss: 3.6236 - val_acc: 0.5714\n",
            "Epoch 41/100\n",
            "1/1 [==============================] - 0s 33ms/step - loss: 8.2513e-04 - acc: 1.0000 - val_loss: 3.7288 - val_acc: 0.5714\n",
            "Epoch 42/100\n",
            "1/1 [==============================] - 0s 32ms/step - loss: 6.8448e-04 - acc: 1.0000 - val_loss: 3.8162 - val_acc: 0.5714\n",
            "Epoch 43/100\n",
            "1/1 [==============================] - 0s 31ms/step - loss: 8.0676e-04 - acc: 1.0000 - val_loss: 3.8863 - val_acc: 0.6071\n",
            "Epoch 44/100\n",
            "1/1 [==============================] - 0s 31ms/step - loss: 4.9413e-04 - acc: 1.0000 - val_loss: 3.9631 - val_acc: 0.6071\n",
            "Epoch 45/100\n",
            "1/1 [==============================] - 0s 31ms/step - loss: 5.4270e-04 - acc: 1.0000 - val_loss: 4.0321 - val_acc: 0.6071\n",
            "Epoch 46/100\n",
            "1/1 [==============================] - 0s 32ms/step - loss: 3.9906e-04 - acc: 1.0000 - val_loss: 4.0943 - val_acc: 0.6071\n",
            "Epoch 47/100\n",
            "1/1 [==============================] - 0s 32ms/step - loss: 3.4149e-04 - acc: 1.0000 - val_loss: 4.1758 - val_acc: 0.6071\n",
            "Epoch 48/100\n",
            "1/1 [==============================] - 0s 30ms/step - loss: 3.1805e-04 - acc: 1.0000 - val_loss: 4.2497 - val_acc: 0.6071\n",
            "Epoch 49/100\n",
            "1/1 [==============================] - 0s 34ms/step - loss: 3.0605e-04 - acc: 1.0000 - val_loss: 4.3185 - val_acc: 0.6071\n",
            "Epoch 50/100\n",
            "1/1 [==============================] - 0s 33ms/step - loss: 2.5221e-04 - acc: 1.0000 - val_loss: 4.3839 - val_acc: 0.6071\n",
            "Epoch 51/100\n",
            "1/1 [==============================] - 0s 37ms/step - loss: 2.2973e-04 - acc: 1.0000 - val_loss: 4.4466 - val_acc: 0.6071\n",
            "Epoch 52/100\n",
            "1/1 [==============================] - 0s 32ms/step - loss: 2.1888e-04 - acc: 1.0000 - val_loss: 4.5024 - val_acc: 0.6071\n",
            "Epoch 53/100\n",
            "1/1 [==============================] - 0s 31ms/step - loss: 2.2886e-04 - acc: 1.0000 - val_loss: 4.5633 - val_acc: 0.6071\n",
            "Epoch 54/100\n",
            "1/1 [==============================] - 0s 31ms/step - loss: 1.9656e-04 - acc: 1.0000 - val_loss: 4.6225 - val_acc: 0.6071\n",
            "Epoch 55/100\n",
            "1/1 [==============================] - 0s 31ms/step - loss: 1.6899e-04 - acc: 1.0000 - val_loss: 4.6780 - val_acc: 0.6071\n",
            "Epoch 56/100\n",
            "1/1 [==============================] - 0s 31ms/step - loss: 1.7138e-04 - acc: 1.0000 - val_loss: 4.7304 - val_acc: 0.6071\n",
            "Epoch 57/100\n",
            "1/1 [==============================] - 0s 37ms/step - loss: 1.3280e-04 - acc: 1.0000 - val_loss: 4.7812 - val_acc: 0.6071\n",
            "Epoch 58/100\n",
            "1/1 [==============================] - 0s 33ms/step - loss: 1.3793e-04 - acc: 1.0000 - val_loss: 4.8277 - val_acc: 0.6071\n",
            "Epoch 59/100\n",
            "1/1 [==============================] - 0s 33ms/step - loss: 1.5526e-04 - acc: 1.0000 - val_loss: 4.8704 - val_acc: 0.6071\n",
            "Epoch 60/100\n",
            "1/1 [==============================] - 0s 32ms/step - loss: 1.3641e-04 - acc: 1.0000 - val_loss: 4.9108 - val_acc: 0.6071\n",
            "Epoch 61/100\n",
            "1/1 [==============================] - 0s 32ms/step - loss: 1.2408e-04 - acc: 1.0000 - val_loss: 4.9458 - val_acc: 0.6071\n",
            "Epoch 62/100\n",
            "1/1 [==============================] - 0s 31ms/step - loss: 1.3309e-04 - acc: 1.0000 - val_loss: 4.9772 - val_acc: 0.6071\n",
            "Epoch 63/100\n",
            "1/1 [==============================] - 0s 31ms/step - loss: 1.0898e-04 - acc: 1.0000 - val_loss: 5.0063 - val_acc: 0.6071\n",
            "Epoch 64/100\n",
            "1/1 [==============================] - 0s 33ms/step - loss: 1.1258e-04 - acc: 1.0000 - val_loss: 5.0304 - val_acc: 0.6071\n",
            "Epoch 65/100\n",
            "1/1 [==============================] - 0s 33ms/step - loss: 1.0261e-04 - acc: 1.0000 - val_loss: 5.0514 - val_acc: 0.6071\n",
            "Epoch 66/100\n",
            "1/1 [==============================] - 0s 30ms/step - loss: 1.1450e-04 - acc: 1.0000 - val_loss: 5.0688 - val_acc: 0.6071\n",
            "Epoch 67/100\n",
            "1/1 [==============================] - 0s 31ms/step - loss: 9.3015e-05 - acc: 1.0000 - val_loss: 5.0836 - val_acc: 0.6071\n",
            "Epoch 68/100\n",
            "1/1 [==============================] - 0s 31ms/step - loss: 1.0228e-04 - acc: 1.0000 - val_loss: 5.0978 - val_acc: 0.6071\n",
            "Epoch 69/100\n",
            "1/1 [==============================] - 0s 31ms/step - loss: 9.3235e-05 - acc: 1.0000 - val_loss: 5.1107 - val_acc: 0.6071\n",
            "Epoch 70/100\n",
            "1/1 [==============================] - 0s 31ms/step - loss: 8.5971e-05 - acc: 1.0000 - val_loss: 5.1226 - val_acc: 0.6071\n",
            "Epoch 71/100\n",
            "1/1 [==============================] - 0s 34ms/step - loss: 9.6849e-05 - acc: 1.0000 - val_loss: 5.1336 - val_acc: 0.6071\n",
            "Epoch 72/100\n",
            "1/1 [==============================] - 0s 31ms/step - loss: 7.8824e-05 - acc: 1.0000 - val_loss: 5.1436 - val_acc: 0.6071\n",
            "Epoch 73/100\n",
            "1/1 [==============================] - 0s 33ms/step - loss: 7.8376e-05 - acc: 1.0000 - val_loss: 5.1526 - val_acc: 0.6071\n",
            "Epoch 74/100\n",
            "1/1 [==============================] - 0s 32ms/step - loss: 6.7010e-05 - acc: 1.0000 - val_loss: 5.1600 - val_acc: 0.6071\n",
            "Epoch 75/100\n",
            "1/1 [==============================] - 0s 31ms/step - loss: 6.8677e-05 - acc: 1.0000 - val_loss: 5.1658 - val_acc: 0.6071\n",
            "Epoch 76/100\n",
            "1/1 [==============================] - 0s 33ms/step - loss: 7.9961e-05 - acc: 1.0000 - val_loss: 5.1711 - val_acc: 0.6071\n",
            "Epoch 77/100\n",
            "1/1 [==============================] - 0s 34ms/step - loss: 8.0132e-05 - acc: 1.0000 - val_loss: 5.1761 - val_acc: 0.6071\n",
            "Epoch 78/100\n",
            "1/1 [==============================] - 0s 27ms/step - loss: 9.4210e-05 - acc: 1.0000 - val_loss: 5.1824 - val_acc: 0.6071\n",
            "Epoch 79/100\n",
            "1/1 [==============================] - 0s 32ms/step - loss: 6.6696e-05 - acc: 1.0000 - val_loss: 5.1854 - val_acc: 0.6071\n",
            "Epoch 80/100\n",
            "1/1 [==============================] - 0s 32ms/step - loss: 7.1982e-05 - acc: 1.0000 - val_loss: 5.1884 - val_acc: 0.6071\n",
            "Epoch 81/100\n",
            "1/1 [==============================] - 0s 33ms/step - loss: 7.5642e-05 - acc: 1.0000 - val_loss: 5.1907 - val_acc: 0.6071\n",
            "Epoch 82/100\n",
            "1/1 [==============================] - 0s 33ms/step - loss: 6.0891e-05 - acc: 1.0000 - val_loss: 5.1920 - val_acc: 0.6071\n",
            "Epoch 83/100\n",
            "1/1 [==============================] - 0s 31ms/step - loss: 6.4800e-05 - acc: 1.0000 - val_loss: 5.1912 - val_acc: 0.6071\n",
            "Epoch 84/100\n",
            "1/1 [==============================] - 0s 30ms/step - loss: 6.7081e-05 - acc: 1.0000 - val_loss: 5.1901 - val_acc: 0.6071\n",
            "Epoch 85/100\n",
            "1/1 [==============================] - 0s 32ms/step - loss: 5.9916e-05 - acc: 1.0000 - val_loss: 5.1889 - val_acc: 0.6071\n",
            "Epoch 86/100\n",
            "1/1 [==============================] - 0s 31ms/step - loss: 5.9990e-05 - acc: 1.0000 - val_loss: 5.1878 - val_acc: 0.6071\n",
            "Epoch 87/100\n",
            "1/1 [==============================] - 0s 36ms/step - loss: 7.4723e-05 - acc: 1.0000 - val_loss: 5.1867 - val_acc: 0.6071\n",
            "Epoch 88/100\n",
            "1/1 [==============================] - 0s 33ms/step - loss: 5.8219e-05 - acc: 1.0000 - val_loss: 5.1845 - val_acc: 0.6071\n",
            "Epoch 89/100\n",
            "1/1 [==============================] - 0s 34ms/step - loss: 5.6606e-05 - acc: 1.0000 - val_loss: 5.1827 - val_acc: 0.6071\n",
            "Epoch 90/100\n",
            "1/1 [==============================] - 0s 38ms/step - loss: 6.8170e-05 - acc: 1.0000 - val_loss: 5.1809 - val_acc: 0.6071\n",
            "Epoch 91/100\n",
            "1/1 [==============================] - 0s 32ms/step - loss: 6.5422e-05 - acc: 1.0000 - val_loss: 5.1786 - val_acc: 0.6071\n",
            "Epoch 92/100\n",
            "1/1 [==============================] - 0s 33ms/step - loss: 7.5714e-05 - acc: 1.0000 - val_loss: 5.1753 - val_acc: 0.6071\n",
            "Epoch 93/100\n",
            "1/1 [==============================] - 0s 34ms/step - loss: 6.2024e-05 - acc: 1.0000 - val_loss: 5.1721 - val_acc: 0.6071\n",
            "Epoch 94/100\n",
            "1/1 [==============================] - 0s 36ms/step - loss: 4.7975e-05 - acc: 1.0000 - val_loss: 5.1684 - val_acc: 0.6071\n",
            "Epoch 95/100\n",
            "1/1 [==============================] - 0s 31ms/step - loss: 4.9593e-05 - acc: 1.0000 - val_loss: 5.1654 - val_acc: 0.6071\n",
            "Epoch 96/100\n",
            "1/1 [==============================] - 0s 32ms/step - loss: 5.4256e-05 - acc: 1.0000 - val_loss: 5.1622 - val_acc: 0.6071\n",
            "Epoch 97/100\n",
            "1/1 [==============================] - 0s 31ms/step - loss: 5.4541e-05 - acc: 1.0000 - val_loss: 5.1592 - val_acc: 0.6071\n",
            "Epoch 98/100\n",
            "1/1 [==============================] - 0s 31ms/step - loss: 5.3342e-05 - acc: 1.0000 - val_loss: 5.1564 - val_acc: 0.6071\n",
            "Epoch 99/100\n",
            "1/1 [==============================] - 0s 32ms/step - loss: 4.6599e-05 - acc: 1.0000 - val_loss: 5.1542 - val_acc: 0.6071\n",
            "Epoch 100/100\n",
            "1/1 [==============================] - 0s 31ms/step - loss: 5.0128e-05 - acc: 1.0000 - val_loss: 5.1523 - val_acc: 0.6071\n"
          ],
          "name": "stdout"
        }
      ]
    },
    {
      "cell_type": "code",
      "metadata": {
        "id": "L49CVNM-8Q3L",
        "colab_type": "code",
        "colab": {
          "base_uri": "https://localhost:8080/",
          "height": 595
        },
        "outputId": "9a30e037-e6a4-4c10-caf9-b4fc62a1eaf4"
      },
      "source": [
        "plot_graphs(history, 'loss')  ################# sigle bilstm + attention\n",
        "plot_graphs(history, 'acc')\n",
        "\n",
        "attSingleBiLSTM_loss = myLossHistory.val_loss['epoch'] ##########################\n",
        "\n",
        "sig_clf_probs = model.predict(X_te_paded) \n",
        "\n",
        "y_hat = np.array([np.argmax(i) for i in sig_clf_probs]) ######################### predicted label as 3 classes\n",
        "\n",
        "clf_confidence = np.zeros(y_hat.shape) ##################### confidence value for each piece of prediction\n",
        "\n",
        "for i in range(len(y_hat)):\n",
        "  if y_hat[i]!=0:\n",
        "    clf_confidence[i] = sig_clf_probs[i][y_hat[i]]\n",
        "  else:\n",
        "    if sig_clf_probs[i][1]>=sig_clf_probs[i][2]:\n",
        "      clf_confidence[i] = sig_clf_probs[i][1]\n",
        "      y_hat[i] = 1\n",
        "    else:\n",
        "      clf_confidence[i] = sig_clf_probs[i][2]\n",
        "      y_hat[i] = 2\n",
        "\n",
        "score,rmse,macroF = scorer(Y_te,y_hat,clf_confidence) # F-score is ill-defined and being set to 0.0 in labels with no predicted samples\n",
        "print('accuracy:', score)\n",
        "print('RMSE:', rmse)\n",
        "print('Macro averaged F1 socre:', macroF)"
      ],
      "execution_count": null,
      "outputs": [
        {
          "output_type": "display_data",
          "data": {
            "image/png": "[encoded data removed]",
            "text/plain": [
              "<Figure size 432x288 with 1 Axes>"
            ]
          },
          "metadata": {
            "tags": [],
            "needs_background": "light"
          }
        },
        {
          "output_type": "display_data",
          "data": {
            "image/png": "[encoded data removed]",
            "text/plain": [
              "<Figure size 432x288 with 1 Axes>"
            ]
          },
          "metadata": {
            "tags": [],
            "needs_background": "light"
          }
        },
        {
          "output_type": "stream",
          "text": [
            "accuracy: 0.21428571428571427\n",
            "RMSE: 0.865455907113214\n",
            "Macro averaged F1 socre: 0.24245253657018365\n"
          ],
          "name": "stdout"
        }
      ]
    },
    {
      "cell_type": "code",
      "metadata": {
        "id": "aGrY2dkSGwGs",
        "colab_type": "code",
        "colab": {
          "base_uri": "https://localhost:8080/",
          "height": 467
        },
        "outputId": "9855a6fe-7ac3-435d-b8c4-ec17ba3f1e71"
      },
      "source": [
        "def build_model(): ################# 2 layers bidirectional LSTM + attention\n",
        "    \n",
        "    model = Sequential()\n",
        "    model.add(layers.Embedding(len(embedding_matrix), 300,  \n",
        "            mask_zero=True, \n",
        "            embeddings_initializer=initializers.Constant(embedding_matrix),\n",
        "            input_length=len(X_tr_paded[0]), \n",
        "            trainable=False))\n",
        "    model.add(layers.Dropout(0.1))\n",
        "    model.add(layers.Bidirectional(layers.LSTM(100,return_sequences=True)))\n",
        "    model.add(layers.Bidirectional(layers.LSTM(64,return_sequences=True)))\n",
        "    model.add(attention())\n",
        "    model.add(layers.Dropout(0.1))\n",
        "    model.add(layers.Dense(64))\n",
        "    model.add(layers.Dense(3,activation='softmax'))\n",
        "    \n",
        "\n",
        "    model.compile(optimizer=optimizers.Adam(lr=0.01),loss='categorical_crossentropy',metrics=['acc'])\n",
        "    print(model.summary())\n",
        "\n",
        "    return model\n",
        "\n",
        "model = build_model()"
      ],
      "execution_count": null,
      "outputs": [
        {
          "output_type": "stream",
          "text": [
            "Model: \"sequential_27\"\n",
            "_________________________________________________________________\n",
            "Layer (type)                 Output Shape              Param #   \n",
            "=================================================================\n",
            "embedding_47 (Embedding)     (None, 28, 300)           472500    \n",
            "_________________________________________________________________\n",
            "dropout_32 (Dropout)         (None, 28, 300)           0         \n",
            "_________________________________________________________________\n",
            "bidirectional_36 (Bidirectio (None, 28, 200)           320800    \n",
            "_________________________________________________________________\n",
            "bidirectional_37 (Bidirectio (None, 28, 128)           135680    \n",
            "_________________________________________________________________\n",
            "attention_36 (attention)     (None, 128)               156       \n",
            "_________________________________________________________________\n",
            "dropout_33 (Dropout)         (None, 128)               0         \n",
            "_________________________________________________________________\n",
            "dense_48 (Dense)             (None, 64)                8256      \n",
            "_________________________________________________________________\n",
            "dense_49 (Dense)             (None, 3)                 195       \n",
            "=================================================================\n",
            "Total params: 937,587\n",
            "Trainable params: 465,087\n",
            "Non-trainable params: 472,500\n",
            "_________________________________________________________________\n",
            "None\n"
          ],
          "name": "stdout"
        }
      ]
    },
    {
      "cell_type": "code",
      "metadata": {
        "id": "hF3Cn2psIK6G",
        "colab_type": "code",
        "colab": {
          "base_uri": "https://localhost:8080/",
          "height": 1000
        },
        "outputId": "d5b55ff3-3c2b-4a4e-cb5b-771887ff26a0"
      },
      "source": [
        "myLossHistory = LossHistory()\n",
        "history = model.fit(x=X_tr_paded, y=Y_tr, batch_size=297, epochs=30, validation_data=(X_dev_paded,Y_dev),callbacks=[myLossHistory])"
      ],
      "execution_count": null,
      "outputs": [
        {
          "output_type": "stream",
          "text": [
            "Epoch 1/30\n",
            "1/1 [==============================] - 4s 4s/step - loss: 1.0994 - acc: 0.4310 - val_loss: 1.6488 - val_acc: 0.3214\n",
            "Epoch 2/30\n",
            "1/1 [==============================] - 0s 48ms/step - loss: 1.1650 - acc: 0.4646 - val_loss: 1.7461 - val_acc: 0.2857\n",
            "Epoch 3/30\n",
            "1/1 [==============================] - 0s 53ms/step - loss: 1.7418 - acc: 0.3300 - val_loss: 1.2286 - val_acc: 0.2857\n",
            "Epoch 4/30\n",
            "1/1 [==============================] - 0s 42ms/step - loss: 1.4354 - acc: 0.4613 - val_loss: 1.1881 - val_acc: 0.2857\n",
            "Epoch 5/30\n",
            "1/1 [==============================] - 0s 46ms/step - loss: 1.1192 - acc: 0.4613 - val_loss: 1.2427 - val_acc: 0.2143\n",
            "Epoch 6/30\n",
            "1/1 [==============================] - 0s 50ms/step - loss: 1.0573 - acc: 0.4276 - val_loss: 1.3281 - val_acc: 0.2857\n",
            "Epoch 7/30\n",
            "1/1 [==============================] - 0s 45ms/step - loss: 1.0918 - acc: 0.3535 - val_loss: 1.3090 - val_acc: 0.2143\n",
            "Epoch 8/30\n",
            "1/1 [==============================] - 0s 47ms/step - loss: 1.0718 - acc: 0.3670 - val_loss: 1.2680 - val_acc: 0.2857\n",
            "Epoch 9/30\n",
            "1/1 [==============================] - 0s 47ms/step - loss: 1.0505 - acc: 0.4747 - val_loss: 1.2434 - val_acc: 0.2857\n",
            "Epoch 10/30\n",
            "1/1 [==============================] - 0s 44ms/step - loss: 1.0504 - acc: 0.4613 - val_loss: 1.2183 - val_acc: 0.2857\n",
            "Epoch 11/30\n",
            "1/1 [==============================] - 0s 45ms/step - loss: 1.0548 - acc: 0.4613 - val_loss: 1.1865 - val_acc: 0.2857\n",
            "Epoch 12/30\n",
            "1/1 [==============================] - 0s 47ms/step - loss: 1.0484 - acc: 0.4613 - val_loss: 1.1584 - val_acc: 0.2857\n",
            "Epoch 13/30\n",
            "1/1 [==============================] - 0s 48ms/step - loss: 1.0423 - acc: 0.4613 - val_loss: 1.1414 - val_acc: 0.2857\n",
            "Epoch 14/30\n",
            "1/1 [==============================] - 0s 60ms/step - loss: 1.0265 - acc: 0.4714 - val_loss: 1.1377 - val_acc: 0.3214\n",
            "Epoch 15/30\n",
            "1/1 [==============================] - 0s 46ms/step - loss: 1.0265 - acc: 0.5253 - val_loss: 1.1444 - val_acc: 0.2857\n",
            "Epoch 16/30\n",
            "1/1 [==============================] - 0s 46ms/step - loss: 1.0161 - acc: 0.5657 - val_loss: 1.1548 - val_acc: 0.3571\n",
            "Epoch 17/30\n",
            "1/1 [==============================] - 0s 47ms/step - loss: 1.0056 - acc: 0.5724 - val_loss: 1.1593 - val_acc: 0.3571\n",
            "Epoch 18/30\n",
            "1/1 [==============================] - 0s 48ms/step - loss: 0.9898 - acc: 0.5791 - val_loss: 1.1460 - val_acc: 0.3929\n",
            "Epoch 19/30\n",
            "1/1 [==============================] - 0s 50ms/step - loss: 0.9649 - acc: 0.5791 - val_loss: 1.1220 - val_acc: 0.4286\n",
            "Epoch 20/30\n",
            "1/1 [==============================] - 0s 46ms/step - loss: 0.9434 - acc: 0.5993 - val_loss: 1.1046 - val_acc: 0.4286\n",
            "Epoch 21/30\n",
            "1/1 [==============================] - 0s 50ms/step - loss: 0.9152 - acc: 0.6061 - val_loss: 1.1341 - val_acc: 0.3929\n",
            "Epoch 22/30\n",
            "1/1 [==============================] - 0s 48ms/step - loss: 0.8780 - acc: 0.6195 - val_loss: 1.2195 - val_acc: 0.3571\n",
            "Epoch 23/30\n",
            "1/1 [==============================] - 0s 47ms/step - loss: 0.8706 - acc: 0.6465 - val_loss: 1.0482 - val_acc: 0.3929\n",
            "Epoch 24/30\n",
            "1/1 [==============================] - 0s 44ms/step - loss: 0.8320 - acc: 0.6229 - val_loss: 1.0224 - val_acc: 0.4643\n",
            "Epoch 25/30\n",
            "1/1 [==============================] - 0s 43ms/step - loss: 0.8042 - acc: 0.6801 - val_loss: 1.3435 - val_acc: 0.3929\n",
            "Epoch 26/30\n",
            "1/1 [==============================] - 0s 47ms/step - loss: 0.8022 - acc: 0.6734 - val_loss: 1.0789 - val_acc: 0.5357\n",
            "Epoch 27/30\n",
            "1/1 [==============================] - 0s 57ms/step - loss: 0.7530 - acc: 0.6667 - val_loss: 1.3029 - val_acc: 0.3929\n",
            "Epoch 28/30\n",
            "1/1 [==============================] - 0s 49ms/step - loss: 0.7128 - acc: 0.6835 - val_loss: 1.4926 - val_acc: 0.3929\n",
            "Epoch 29/30\n",
            "1/1 [==============================] - 0s 47ms/step - loss: 0.6958 - acc: 0.7104 - val_loss: 1.0713 - val_acc: 0.5000\n",
            "Epoch 30/30\n",
            "1/1 [==============================] - 0s 44ms/step - loss: 0.6970 - acc: 0.6869 - val_loss: 1.2110 - val_acc: 0.5000\n"
          ],
          "name": "stdout"
        }
      ]
    },
    {
      "cell_type": "code",
      "metadata": {
        "id": "fMdJdJtUIOrE",
        "colab_type": "code",
        "colab": {
          "base_uri": "https://localhost:8080/",
          "height": 633
        },
        "outputId": "95d11512-194d-4e0c-ea2e-07a105eacbb9"
      },
      "source": [
        "plot_graphs(history, 'loss')  ################# 2 Bilstm + attention\n",
        "plot_graphs(history, 'acc')\n",
        "\n",
        "_loss = myLossHistory.val_loss['epoch'] ##########################\n",
        "\n",
        "sig_clf_probs = model.predict(X_te_paded) \n",
        "\n",
        "y_hat = np.array([np.argmax(i) for i in sig_clf_probs]) ######################### predicted label as 3 classes\n",
        "\n",
        "clf_confidence = np.zeros(y_hat.shape) ##################### confidence value for each piece of prediction\n",
        "\n",
        "for i in range(len(y_hat)):\n",
        "  if y_hat[i]!=0:\n",
        "    clf_confidence[i] = sig_clf_probs[i][y_hat[i]]\n",
        "  else:\n",
        "    if sig_clf_probs[i][1]>=sig_clf_probs[i][2]:\n",
        "      clf_confidence[i] = sig_clf_probs[i][1]\n",
        "      y_hat[i] = 1\n",
        "    else:\n",
        "      clf_confidence[i] = sig_clf_probs[i][2]\n",
        "      y_hat[i] = 2\n",
        "\n",
        "score,rmse,macroF = scorer(Y_te,y_hat,clf_confidence) # F-score is ill-defined and being set to 0.0 in labels with no predicted samples\n",
        "print('accuracy:', score)\n",
        "print('RMSE:', rmse)\n",
        "print('Macro averaged F1 socre:', macroF)"
      ],
      "execution_count": null,
      "outputs": [
        {
          "output_type": "display_data",
          "data": {
            "image/png": "[encoded data removed]",
            "text/plain": [
              "<Figure size 432x288 with 1 Axes>"
            ]
          },
          "metadata": {
            "tags": [],
            "needs_background": "light"
          }
        },
        {
          "output_type": "display_data",
          "data": {
            "image/png": "[encoded data removed]",
            "text/plain": [
              "<Figure size 432x288 with 1 Axes>"
            ]
          },
          "metadata": {
            "tags": [],
            "needs_background": "light"
          }
        },
        {
          "output_type": "stream",
          "text": [
            "WARNING:tensorflow:5 out of the last 11 calls to <function Model.make_predict_function.<locals>.predict_function at 0x7f8e649c1620> triggered tf.function retracing. Tracing is expensive and the excessive number of tracings could be due to (1) creating @tf.function repeatedly in a loop, (2) passing tensors with different shapes, (3) passing Python objects instead of tensors. For (1), please define your @tf.function outside of the loop. For (2), @tf.function has experimental_relax_shapes=True option that relaxes argument shapes that can avoid unnecessary retracing. For (3), please refer to https://www.tensorflow.org/tutorials/customization/performance#python_or_tensor_args and https://www.tensorflow.org/api_docs/python/tf/function for  more details.\n",
            "accuracy: 0.05357142857142857\n",
            "RMSE: 0.947310944441142\n",
            "Macro averaged F1 socre: 0.09103958564557897\n"
          ],
          "name": "stdout"
        }
      ]
    },
    {
      "cell_type": "code",
      "metadata": {
        "id": "JjWR3DTcIU6e",
        "colab_type": "code",
        "colab": {}
      },
      "source": [
        "import time\n",
        "time.sleep(2000)"
      ],
      "execution_count": null,
      "outputs": []
    },
    {
      "cell_type": "code",
      "metadata": {
        "id": "PadP1NrkDJUf",
        "colab_type": "code",
        "colab": {
          "base_uri": "https://localhost:8080/",
          "height": 279
        },
        "outputId": "e60d31e5-d231-4267-c24d-f205c139c814"
      },
      "source": [
        "import matplotlib.pyplot as plot\n",
        "\n",
        "#分别存放所有点的横坐标和纵坐标，一一对应\n",
        "x_list = list(range(1,26))\n",
        "y_list = bilstm_loss\n",
        "\n",
        "x = x_list\n",
        "y = t\n",
        "\n",
        "#创建图并命名\n",
        "plt.figure('Line fig')\n",
        "ax = plt.gca()\n",
        "#设置x轴、y轴名称\n",
        "ax.set_xlabel('x')\n",
        "ax.set_ylabel('y')\n",
        "\n",
        "#画连线图，以x_list中的值为横坐标，以y_list中的值为纵坐标\n",
        "#参数c指定连线的颜色，linewidth指定连线宽度，alpha指定连线的透明度\n",
        "ax.plot(x_list, y_list, color='r', linewidth=1, alpha=0.6)\n",
        "ax.plot(x, y, color='b', linewidth=1, alpha=0.6)\n",
        "\n",
        "plt.show()"
      ],
      "execution_count": null,
      "outputs": [
        {
          "output_type": "display_data",
          "data": {
            "image/png": "[encoded data removed]",
            "text/plain": [
              "<Figure size 432x288 with 1 Axes>"
            ]
          },
          "metadata": {
            "tags": [],
            "needs_background": "light"
          }
        }
      ]
    }
  ]
}