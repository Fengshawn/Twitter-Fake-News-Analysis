{
 "cells": [
  {
   "cell_type": "code",
   "execution_count": 223,
   "metadata": {},
   "outputs": [],
   "source": [
    "import numpy as np\n",
    "from collections import Counter\n",
    "import json\n",
    "import math\n",
    "import os.path\n",
    "\n",
    "from sklearn import svm\n",
    "from sklearn.ensemble import RandomForestClassifier\n",
    "from sklearn.calibration import CalibratedClassifierCV\n",
    "from sklearn.metrics import f1_score\n",
    "from sklearn import preprocessing\n",
    "\n",
    "import datetime\n",
    "import time\n",
    "import nltk"
   ]
  },
  {
   "cell_type": "code",
   "execution_count": 3,
   "metadata": {},
   "outputs": [],
   "source": [
    "def getExistence(source_tweets, filePath):\n",
    "#@@ Param:  Source_tweets: a list of source tweets ID\n",
    "#           filePath: source tweets  parent document directory\n",
    "#@@ Return: an n x 2 array, n is the amount/number of source tweets' IDs    \n",
    "    \n",
    "    existence = np.zeros((len(source_tweets),2))\n",
    "    for i in range(len(source_tweets)):\n",
    "        data = json.load(open(filePath+'/'+source_tweets[i]+'/source-tweet/'+source_tweets[i]+'.json','r'))\n",
    "        if len(data['entities']['hashtags']) != 0:\n",
    "            existence[i][0] = 1\n",
    "        else:\n",
    "            existence[i][0] = 0\n",
    "        \n",
    "        if len(data['entities']['urls']) != 0:\n",
    "            existence[i][1] = 1\n",
    "        else:\n",
    "            existence[i][1] = 0\n",
    "            \n",
    "    return existence"
   ]
  },
  {
   "cell_type": "code",
   "execution_count": 4,
   "metadata": {},
   "outputs": [],
   "source": [
    "# def getText(source_tweets, filePath):\n",
    "# #@@ Param:  Source_tweets: a list of source tweets ID\n",
    "# #           filePath: source tweets  parent document directory\n",
    "# #@@ Return: tweets text coresspoding to source tweets' IDs   \n",
    "\n",
    "#     tweet_text = []\n",
    "#     for i in range(len(source_tweets)):\n",
    "#         data = json.load(open(filePath+'/'+source_tweets[i]+'/source-tweet/'+source_tweets[i]+'.json','r'))\n",
    "#         tweet_text += [[data['text']]]\n",
    "    \n",
    "#     return tweet_text"
   ]
  },
  {
   "cell_type": "code",
   "execution_count": 5,
   "metadata": {},
   "outputs": [],
   "source": [
    "def getUserInfo(source_tweets,featureList,filePath):\n",
    "    \n",
    "    userFeatures = []\n",
    "    for i in range(len(source_tweets)):\n",
    "        data = json.load(open(filePath+'/'+source_tweets[i]+'/source-tweet/'+source_tweets[i]+'.json','r'))\n",
    "        userData = [data['user'][feature] for feature in featureList]\n",
    "        userData += [data['created_at']]\n",
    "        userFeatures += [userData]\n",
    "    \n",
    "    return userFeatures"
   ]
  },
  {
   "cell_type": "code",
   "execution_count": 6,
   "metadata": {},
   "outputs": [],
   "source": [
    "# extract features, Percentage of replying tweets classified as queries, denies or supports\n",
    "def getPercentage(source_tweets, tweets_stances, filePath):\n",
    "#@@ Param: source_tweets: a list of source tweets ID\n",
    "#          tweets_stances：a list of stances, which contains all tweets' stance including reply tweets and source tweets\n",
    "#          filePath: source tweets  parent document directory\n",
    "#@@ Return: an n x 3 array, n is the amount/number of source tweets' IDs\n",
    "   \n",
    "    stance_list = []\n",
    "    for tweet_ID in source_tweets:\n",
    "        replies_json_list = os.listdir(filePath+'/'+tweet_ID+'/replies') # make a list of reply tweets' IDs .json\n",
    "        replies_list = [dot_json.split('.')[0] for dot_json in replies_json_list] # remove filename suffixes '.json'\n",
    "        tmp = []\n",
    "        for reply_ID in replies_list:\n",
    "            tmp_stance = tweets_stances[reply_ID]\n",
    "            tmp += [tmp_stance]\n",
    "        stance_list += [tmp]\n",
    "    \n",
    "    \n",
    "    stance_percentage = np.zeros((len(stance_list),3)) # initialise an array, column 0,1,2 are percentages of query, deny, support\n",
    "    \n",
    "    for i in range(len(stance_list)):\n",
    "        count = Counter(stance_list[i])\n",
    "        l = len(stance_list[i])\n",
    "        if 'query' in count:\n",
    "            stance_percentage[i][0] = count['query']/l\n",
    "        else:\n",
    "            stance_percentage[i][0] = 0 \n",
    "        \n",
    "        if 'deny' in count:\n",
    "            stance_percentage[i][1] = count['deny']/l\n",
    "        else:\n",
    "            stance_percentage[i][1] = 0 \n",
    "        \n",
    "        if 'support' in count:\n",
    "            stance_percentage[i][2] = count['support']/l\n",
    "        else:\n",
    "            stance_percentage[i][2] = 0 \n",
    "    \n",
    "    return stance_percentage"
   ]
  },
  {
   "cell_type": "code",
   "execution_count": 7,
   "metadata": {},
   "outputs": [],
   "source": [
    "#transfer label\n",
    "def str2no(y_string):\n",
    "#@@ Param: a list of rumour veracity labels, each element is a string\n",
    "#@@ Return: a list of label, each element is an int; 0,1,2 represent 'unverified','false','true' respectively\n",
    "    \n",
    "    y = []\n",
    "    for cls in y_string:\n",
    "        if cls=='unverified':\n",
    "            y += [0]\n",
    "        elif cls=='false':\n",
    "            y += [1]\n",
    "        elif cls=='true':\n",
    "            y += [2]\n",
    "    return y"
   ]
  },
  {
   "cell_type": "code",
   "execution_count": 55,
   "metadata": {},
   "outputs": [],
   "source": [
    "def transferUserInfo(userInfo):\n",
    "    results = np.zeros((len(userInfo),len(userInfo[0])-1),dtype=int)\n",
    "    for i in range(len(userInfo)):\n",
    "        #if it has been verified\n",
    "        if userInfo[i][0]==False:\n",
    "            results[i][0] = 0\n",
    "        else:\n",
    "            results[i][0] = 1\n",
    "        \n",
    "        #if it has location?               \n",
    "        if userInfo[i][1]=='' or userInfo[i][1]==None:\n",
    "            results[i][1] = 0\n",
    "        else:\n",
    "            results[i][1] = 1\n",
    "            \n",
    "        #if it has description?\n",
    "        if userInfo[i][2]=='' or userInfo[i][2]==None:\n",
    "            results[i][2] = 0\n",
    "        else:\n",
    "            results[i][2] = 1\n",
    "\n",
    "        #how many followers? followers_count\n",
    "        results[i][3] = userInfo[i][3]               \n",
    "        #how many people it follows? friends_count\n",
    "        results[i][4] = userInfo[i][4]\n",
    "        #how many tweets it posted? statuses_count\n",
    "        results[i][5] = userInfo[i][5]    \n",
    "        # favourites_count\n",
    "        results[i][6] = userInfo[i][6]\n",
    "        #how many days, after creating this account, when he/she posted this tweet\n",
    "        tp = time.strptime(userInfo[i][-1],\"%a %b %d %H:%M:%S %z %Y\")\n",
    "        tc = time.strptime(userInfo[i][-2],\"%a %b %d %H:%M:%S %z %Y\")\n",
    "        diff = (datetime.datetime(tp.tm_year, tp.tm_mon, tp.tm_mday) - datetime.datetime(tc.tm_year, tc.tm_mon, tc.tm_mday)).days\n",
    "        results[i][7] = diff\n",
    "        \n",
    "    return results"
   ]
  },
  {
   "cell_type": "code",
   "execution_count": 269,
   "metadata": {},
   "outputs": [],
   "source": [
    "def scorer(y_truth, y_hat, confidence): # rumourEval 2019 version of scorer\n",
    "#@ Param:  y_truth: a list of true labels\n",
    "#          y_hat: a list of predicted y values\n",
    "#          confidence: a list of confidence values related to y_hat\n",
    "# Return: accuracy score, RMSE and Macro averaged F1 score\n",
    "    \n",
    "    correct = 0\n",
    "    total = len(y_hat)\n",
    "    errors = []\n",
    "    y_pred = []\n",
    "    \n",
    "    for i in range(total):\n",
    "        if confidence[i]>0.5:\n",
    "                y_pred += [y_hat[i]]\n",
    "        else:\n",
    "                y_pred += [0]   \n",
    "        \n",
    "        if y_pred[i] == y_truth[i] and y_truth[i]!=0:\n",
    "            correct += 1\n",
    "            errors += [(1-confidence[i])**2]\n",
    "\n",
    "        elif y_truth[i] == 0:\n",
    "            errors += [ (confidence[i])**2 ]\n",
    "\n",
    "        else:\n",
    "            errors += [1.0]\n",
    "            \n",
    "    score = correct / total\n",
    "    rmse = math.sqrt( sum(errors) / len(errors) )\n",
    "    macroF = f1_score(y_truth, y_pred, average='macro')\n",
    "\n",
    "    return score,rmse,macroF"
   ]
  },
  {
   "cell_type": "code",
   "execution_count": 218,
   "metadata": {},
   "outputs": [],
   "source": [
    "# the U,T,F of the source post\n",
    "train_file = './rumoureval-2019-training-data/train-key.json'\n",
    "f = json.load(open(train_file, 'r'))\n",
    "\n",
    "# extract features, hashtag existence and URL existence\n",
    "filePath = './rumoureval-2019-training-data/twitter-english'"
   ]
  },
  {
   "cell_type": "code",
   "execution_count": 219,
   "metadata": {},
   "outputs": [],
   "source": [
    "#extract train data\n",
    "\n",
    "source_tweets_train = list(f['subtaskbenglish'].keys()) # make a list of source tweets' ID\n",
    "\n",
    "# a dictionary of tweets' stances\n",
    "tweets_stances_train = f['subtaskaenglish'] ################## train and dev data are using same datasets\n",
    "\n",
    "\n",
    "features = ['verified', 'location', 'description', 'followers_count',  ####################user feature we need\n",
    "                                  'friends_count', 'statuses_count', \"favourites_count\",'created_at']\n",
    "\n",
    "userInfoString = getUserInfo(source_tweets_train,features,filePath)\n",
    "#  hashtag existence, URL existence, percentage of queries, denies, supports\n",
    "existence = getExistence(source_tweets_train, filePath)\n",
    "qds_percentage = getPercentage(source_tweets_train, tweets_stances_train, filePath)\n",
    "ue_train = transferUserInfo(userInfoString)\n",
    "\n",
    "y_train_string = list(f['subtaskbenglish'].values())"
   ]
  },
  {
   "cell_type": "code",
   "execution_count": 220,
   "metadata": {},
   "outputs": [],
   "source": [
    "# preprocessing tweets' texts\n",
    "# train_text = getText(source_tweets_train, filePath)\n",
    "# train_text"
   ]
  },
  {
   "cell_type": "code",
   "execution_count": 221,
   "metadata": {},
   "outputs": [],
   "source": [
    "X_train = np.hstack((np.hstack((existence,qds_percentage)),ue_train)) ################# X_train : existence + qds_percent + userInfo\n",
    "y_train = str2no(y_train_string) #################### y_train"
   ]
  },
  {
   "cell_type": "code",
   "execution_count": 59,
   "metadata": {},
   "outputs": [
    {
     "data": {
      "text/plain": [
       "[False,\n",
       " 'MIAMI',\n",
       " 'YO WE HACK DIS NIGGA',\n",
       " 18662,\n",
       " 36,\n",
       " 153,\n",
       " 20,\n",
       " 'Tue Aug 12 06:41:41 +0000 2014',\n",
       " 'Fri Aug 15 14:30:12 +0000 2014']"
      ]
     },
     "execution_count": 59,
     "metadata": {},
     "output_type": "execute_result"
    }
   ],
   "source": [
    "userInfoString[0]"
   ]
  },
  {
   "cell_type": "code",
   "execution_count": 60,
   "metadata": {},
   "outputs": [
    {
     "data": {
      "text/plain": [
       "array([    0,     1,     1, 18662,    36,   153,    20,     3])"
      ]
     },
     "execution_count": 60,
     "metadata": {},
     "output_type": "execute_result"
    }
   ],
   "source": [
    "ue_train[0]"
   ]
  },
  {
   "cell_type": "code",
   "execution_count": 224,
   "metadata": {},
   "outputs": [],
   "source": [
    "############################normalize the training data\n",
    "scaler = preprocessing.StandardScaler().fit(X_train) \n",
    "X_train = scaler.transform(X_train)"
   ]
  },
  {
   "cell_type": "code",
   "execution_count": 225,
   "metadata": {
    "scrolled": true
   },
   "outputs": [],
   "source": [
    "#extract dev data\n",
    "\n",
    "dev_file = './rumoureval-2019-training-data/dev-key.json'\n",
    "f = json.load(open(dev_file, 'r'))\n",
    "\n",
    "source_tweets_dev = list(f['subtaskbenglish'].keys())\n",
    "y_dev_string = list(f['subtaskbenglish'].values())\n",
    "tweets_stances_dev = f['subtaskaenglish']\n",
    "\n",
    "userInfoString = getUserInfo(source_tweets_dev,features,filePath)\n",
    "\n",
    "existence = getExistence(source_tweets_dev, filePath)\n",
    "qds_percentage = getPercentage(source_tweets_dev, tweets_stances_dev, filePath)\n",
    "ue_dev = transferUserInfo(userInfoString)"
   ]
  },
  {
   "cell_type": "code",
   "execution_count": 226,
   "metadata": {},
   "outputs": [],
   "source": [
    "X_dev = np.hstack((np.hstack((existence,qds_percentage)),ue_dev)) ################# X_dev\n",
    "X_dev = scaler.transform(X_dev) ######################## normalize dev data\n",
    "y_dev = np.array(str2no(y_dev_string)) ################# y_dev"
   ]
  },
  {
   "cell_type": "code",
   "execution_count": 227,
   "metadata": {},
   "outputs": [],
   "source": [
    "#extract test data\n",
    "\n",
    "te_Path = './rumoureval-2019-test-data/twitter-en-test-data'\n",
    "\n",
    "f = json.load(open('./final-eval-key.json', 'r'))\n",
    "\n",
    "source_tweets_te = list(f['subtaskbenglish'].keys())\n",
    "y_te_string = list(f['subtaskbenglish'].values())\n",
    "tweets_stances_te = f['subtaskaenglish']\n",
    "\n",
    "userInfoString = getUserInfo(source_tweets_te,features,te_Path)\n",
    "\n",
    "existence = getExistence(source_tweets_te, te_Path)\n",
    "qds_percentage = getPercentage(source_tweets_te, tweets_stances_te, te_Path)\n",
    "ue_test = transferUserInfo(userInfoString)"
   ]
  },
  {
   "cell_type": "code",
   "execution_count": 228,
   "metadata": {},
   "outputs": [],
   "source": [
    "X_te = np.hstack((np.hstack((existence,qds_percentage)),ue_test)) ################# X_te\n",
    "X_te = scaler.transform(X_te)####################normalize test data\n",
    "y_te = np.array(str2no(y_te_string))"
   ]
  },
  {
   "cell_type": "code",
   "execution_count": 66,
   "metadata": {},
   "outputs": [
    {
     "data": {
      "text/plain": [
       "('784071228248109057',\n",
       " array([-1.35224681,  1.01015254, -0.7587507 , -0.64642815, -0.87314786,\n",
       "         0.7124705 ,  0.46070044,  0.0823387 ,  0.08683074, -0.29309496,\n",
       "        -0.22561009, -0.24225107,  1.4671842 ]))"
      ]
     },
     "execution_count": 66,
     "metadata": {},
     "output_type": "execute_result"
    }
   ],
   "source": [
    "source_tweets_te[2],X_te[2]"
   ]
  },
  {
   "cell_type": "code",
   "execution_count": 80,
   "metadata": {},
   "outputs": [
    {
     "data": {
      "text/plain": [
       "CalibratedClassifierCV(base_estimator=RandomForestClassifier(n_estimators=200),\n",
       "                       cv='prefit', method='isotonic')"
      ]
     },
     "execution_count": 80,
     "metadata": {},
     "output_type": "execute_result"
    }
   ],
   "source": [
    "clf = RandomForestClassifier(n_estimators=200)\n",
    "clf.fit(X=X_train, y=y_train)\n",
    "sig_clf = CalibratedClassifierCV(clf,method='isotonic', cv='prefit')\n",
    "sig_clf.fit(X_dev,y_dev)"
   ]
  },
  {
   "cell_type": "code",
   "execution_count": 81,
   "metadata": {},
   "outputs": [],
   "source": [
    "sig_clf_probs = sig_clf.predict_proba(X_te) \n",
    "\n",
    "y_hat = sig_clf.predict(X_te) ######################### predicted label as 3 classes"
   ]
  },
  {
   "cell_type": "code",
   "execution_count": 82,
   "metadata": {},
   "outputs": [
    {
     "data": {
      "text/plain": [
       "array([2, 1, 2, 1, 1, 1, 1, 1, 0, 1, 1, 1, 1, 2, 1, 1, 0, 1, 0, 1, 1, 1,\n",
       "       1, 2, 1, 1, 2, 1, 0, 1, 1, 1, 1, 1, 1, 0, 1, 1, 1, 1, 1, 1, 1, 2,\n",
       "       2, 1, 1, 0, 1, 1, 1, 1, 0, 1, 2, 1])"
      ]
     },
     "execution_count": 82,
     "metadata": {},
     "output_type": "execute_result"
    }
   ],
   "source": [
    "y_hat"
   ]
  },
  {
   "cell_type": "code",
   "execution_count": 83,
   "metadata": {},
   "outputs": [],
   "source": [
    "clf_confidence = np.zeros(y_hat.shape) ##################### confidence value for each piece of prediction\n",
    "\n",
    "for i in range(len(y_hat)):\n",
    "    if y_hat[i]!=0:\n",
    "        clf_confidence[i] = sig_clf_probs[i][y_hat[i]]\n",
    "    else:\n",
    "        if sig_clf_probs[i][1]>=sig_clf_probs[i][2]:\n",
    "            clf_confidence[i] = sig_clf_probs[i][1]\n",
    "            y_hat[i] = 1\n",
    "        else:\n",
    "            clf_confidence[i] = sig_clf_probs[i][2]\n",
    "            y_hat[i] = 2"
   ]
  },
  {
   "cell_type": "code",
   "execution_count": 84,
   "metadata": {},
   "outputs": [
    {
     "data": {
      "text/plain": [
       "array([2, 1, 2, 1, 1, 1, 1, 1, 1, 1, 1, 1, 1, 2, 1, 1, 1, 1, 1, 1, 1, 1,\n",
       "       1, 2, 1, 1, 2, 1, 1, 1, 1, 1, 1, 1, 1, 1, 1, 1, 1, 1, 1, 1, 1, 2,\n",
       "       2, 1, 1, 1, 1, 1, 1, 1, 1, 1, 2, 1])"
      ]
     },
     "execution_count": 84,
     "metadata": {},
     "output_type": "execute_result"
    }
   ],
   "source": [
    "y_hat ###################### after processing, y_hat should only contains 2 classes"
   ]
  },
  {
   "cell_type": "code",
   "execution_count": 85,
   "metadata": {},
   "outputs": [
    {
     "data": {
      "text/plain": [
       "array([0.5483871 , 0.48611111, 0.625     , 0.58659218, 0.88235294,\n",
       "       0.51554828, 0.5257732 , 0.53846154, 0.36170213, 0.68      ,\n",
       "       0.68881686, 0.5862069 , 0.90909091, 0.54054054, 0.68      ,\n",
       "       0.73913043, 0.38461538, 0.90909091, 0.36480687, 0.68      ,\n",
       "       0.5862069 , 0.5862069 , 0.68      , 0.90909091, 0.73913043,\n",
       "       0.68      , 0.55944056, 0.68      , 0.        , 0.73913043,\n",
       "       0.66077739, 0.88235294, 0.68      , 0.68      , 0.68      ,\n",
       "       0.36170213, 0.68      , 0.73913043, 0.90909091, 0.73913043,\n",
       "       0.71257485, 0.90909091, 0.69716088, 0.43664384, 0.47577093,\n",
       "       0.71970803, 0.68      , 0.42857143, 0.68      , 0.58659218,\n",
       "       0.88235294, 0.90909091, 0.36170213, 0.88235294, 0.43664384,\n",
       "       0.58659218])"
      ]
     },
     "execution_count": 85,
     "metadata": {},
     "output_type": "execute_result"
    }
   ],
   "source": [
    "clf_confidence"
   ]
  },
  {
   "cell_type": "code",
   "execution_count": 272,
   "metadata": {},
   "outputs": [],
   "source": [
    "def scorer(y_truth, y_hat, confidence): # rumourEval 2019 version of scorer\n",
    "#@ Param:  y_truth: a list of true labels\n",
    "#          y_hat: a list of predicted y values\n",
    "#          confidence: a list of confidence values related to y_hat\n",
    "# Return: accuracy score, RMSE and Macro averaged F1 score\n",
    "    \n",
    "    correct = 0\n",
    "    total = len(y_hat)\n",
    "    errors = []\n",
    "    y_pred = []\n",
    "    \n",
    "    for i in range(total):\n",
    "        if confidence[i]>0.5:\n",
    "                y_pred += [y_hat[i]]\n",
    "        else:\n",
    "                y_pred += [0]   \n",
    "        \n",
    "        if y_pred[i] == y_truth[i] and y_truth[i]!=0:\n",
    "            correct += 1\n",
    "            errors += [(1-confidence[i])**2]\n",
    "\n",
    "        elif y_truth[i] == 0:\n",
    "            errors += [ (confidence[i])**2 ]\n",
    "\n",
    "        else:\n",
    "            errors += [1.0]\n",
    "    \n",
    "    score = correct / total\n",
    "    rmse = math.sqrt( sum(errors) / len(errors) )\n",
    "    macroF = f1_score(y_truth, y_pred, average='macro')\n",
    "\n",
    "    return score,rmse,macroF,y_pred"
   ]
  },
  {
   "cell_type": "code",
   "execution_count": 86,
   "metadata": {
    "scrolled": true
   },
   "outputs": [
    {
     "name": "stdout",
     "output_type": "stream",
     "text": [
      "accuracy: 0.5\n",
      "RMSE: 0.710266587367439\n",
      "Macro averaged F1 socre: 0.3717813051146384\n"
     ]
    }
   ],
   "source": [
    "score,rmse,macroF = scorer(y_te,y_hat,clf_confidence) # F-score is ill-defined and being set to 0.0 in labels with no predicted samples\n",
    "print('accuracy:', score)\n",
    "print('RMSE:', rmse)\n",
    "print('Macro averaged F1 socre:', macroF)"
   ]
  },
  {
   "cell_type": "code",
   "execution_count": 97,
   "metadata": {},
   "outputs": [],
   "source": [
    "rmse_list = []\n",
    "macroF_list = []\n",
    "esnum_list = []\n",
    "\n",
    "for estimator_num in range(100,5000,100):\n",
    "    \n",
    "    clf = RandomForestClassifier(n_estimators=estimator_num)\n",
    "    clf.fit(X=X_train, y=y_train)\n",
    "    sig_clf = CalibratedClassifierCV(clf,method='isotonic', cv='prefit')\n",
    "    sig_clf.fit(X_dev,y_dev)\n",
    "    \n",
    "    sig_clf_probs = sig_clf.predict_proba(X_dev) \n",
    "\n",
    "    y_hat = sig_clf.predict(X_dev) ######################### predicted label as 3 classes\n",
    "\n",
    "    clf_confidence = np.zeros(y_hat.shape) ##################### confidence value for each piece of prediction\n",
    "\n",
    "    for i in range(len(y_hat)):\n",
    "        if y_hat[i]!=0:\n",
    "            clf_confidence[i] = sig_clf_probs[i][y_hat[i]]\n",
    "        else:\n",
    "            if sig_clf_probs[i][1]>=sig_clf_probs[i][2]:\n",
    "                clf_confidence[i] = sig_clf_probs[i][1]\n",
    "                y_hat[i] = 1\n",
    "            else:\n",
    "                clf_confidence[i] = sig_clf_probs[i][2]\n",
    "                y_hat[i] = 2\n",
    "    \n",
    "    score,rmse,macroF = scorer(y_dev,y_hat,clf_confidence)\n",
    "    \n",
    "    esnum_list += [estimator_num]\n",
    "    rmse_list += [rmse]\n",
    "    macroF_list += [macroF]"
   ]
  },
  {
   "cell_type": "code",
   "execution_count": 99,
   "metadata": {},
   "outputs": [
    {
     "data": {
      "image/png": "[encoded data removed]",
      "text/plain": [
       "<Figure size 432x288 with 1 Axes>"
      ]
     },
     "metadata": {
      "needs_background": "light"
     },
     "output_type": "display_data"
    }
   ],
   "source": [
    "import matplotlib.pyplot as plt\n",
    "plt.title(\"I'm a scatter diagram.\") \n",
    "# plt.xlim(xmax=7,xmin=0)\n",
    "# plt.ylim(ymax=7,ymin=0)\n",
    "plt.plot(macroF_list,rmse_list,'ro')\n",
    "plt.xlabel(\"macroF1\")\n",
    "plt.ylabel(\"rmse\")\n",
    "plt.show()"
   ]
  },
  {
   "cell_type": "code",
   "execution_count": 100,
   "metadata": {},
   "outputs": [
    {
     "data": {
      "text/plain": [
       "18"
      ]
     },
     "execution_count": 100,
     "metadata": {},
     "output_type": "execute_result"
    }
   ],
   "source": [
    "rmse_list.index(min(rmse_list))"
   ]
  },
  {
   "cell_type": "code",
   "execution_count": 101,
   "metadata": {},
   "outputs": [
    {
     "data": {
      "text/plain": [
       "1900"
      ]
     },
     "execution_count": 101,
     "metadata": {},
     "output_type": "execute_result"
    }
   ],
   "source": [
    "esnum_list[18]"
   ]
  },
  {
   "cell_type": "code",
   "execution_count": 281,
   "metadata": {},
   "outputs": [
    {
     "name": "stdout",
     "output_type": "stream",
     "text": [
      "accuracy: 0.5535714285714286\n",
      "RMSE: 0.6786281494657567\n",
      "Macro averaged F1 socre: 0.36624153676586363\n"
     ]
    }
   ],
   "source": [
    "clf = RandomForestClassifier(n_estimators=1900)\n",
    "clf.fit(X=X_train, y=y_train)\n",
    "sig_clf = CalibratedClassifierCV(clf,method='isotonic', cv='prefit')\n",
    "sig_clf.fit(X_dev,y_dev)\n",
    "\n",
    "sig_clf_probs = sig_clf.predict_proba(X_te) \n",
    "\n",
    "y_hat = sig_clf.predict(X_te) ######################### predicted label as 3 classes\n",
    "\n",
    "clf_confidence = np.zeros(y_hat.shape) ##################### confidence value for each piece of prediction\n",
    "\n",
    "for i in range(len(y_hat)):\n",
    "    if y_hat[i]!=0:\n",
    "        clf_confidence[i] = sig_clf_probs[i][y_hat[i]]\n",
    "    else:\n",
    "        if sig_clf_probs[i][1]>=sig_clf_probs[i][2]:\n",
    "            clf_confidence[i] = sig_clf_probs[i][1]\n",
    "            y_hat[i] = 1\n",
    "        else:\n",
    "            clf_confidence[i] = sig_clf_probs[i][2]\n",
    "            y_hat[i] = 2\n",
    "\n",
    "\n",
    "\n",
    "\n",
    "score,rmse,macroF, y_pred = scorer(y_te,y_hat,clf_confidence) # F-score is ill-defined and being set to 0.0 in labels with no predicted samples\n",
    "print('accuracy:', score)\n",
    "print('RMSE:', rmse)\n",
    "print('Macro averaged F1 socre:', macroF)"
   ]
  },
  {
   "cell_type": "code",
   "execution_count": 70,
   "metadata": {},
   "outputs": [],
   "source": [
    "from sklearn.metrics import confusion_matrix\n",
    "from sklearn.metrics import classification_report\n",
    "import matplotlib.figure"
   ]
  },
  {
   "cell_type": "code",
   "execution_count": 109,
   "metadata": {},
   "outputs": [
    {
     "name": "stdout",
     "output_type": "stream",
     "text": [
      "[2, 0, 2, 1, 1, 2, 1, 1, 0, 1, 1, 1, 1, 2, 1, 1, 1, 1, 1, 1, 1, 1, 1, 2, 1, 1, 2, 1, 0, 1, 1, 1, 1, 1, 1, 1, 1, 1, 1, 1, 1, 1, 1, 0, 2, 1, 1, 1, 1, 1, 1, 1, 1, 1, 0, 1]\n"
     ]
    }
   ],
   "source": [
    "print(y_pred)"
   ]
  },
  {
   "cell_type": "code",
   "execution_count": 110,
   "metadata": {},
   "outputs": [
    {
     "name": "stdout",
     "output_type": "stream",
     "text": [
      "[2 2 2 2 2 2 1 1 1 2 1 1 1 0 1 1 1 1 1 1 2 2 1 2 1 1 2 1 1 2 2 1 2 2 1 2 1\n",
      " 1 1 0 0 1 1 1 0 1 2 1 1 1 1 2 2 2 2 2]\n"
     ]
    }
   ],
   "source": [
    "print(y_te)"
   ]
  },
  {
   "cell_type": "code",
   "execution_count": 280,
   "metadata": {},
   "outputs": [],
   "source": [
    "classification_report?"
   ]
  },
  {
   "cell_type": "code",
   "execution_count": 282,
   "metadata": {},
   "outputs": [
    {
     "name": "stdout",
     "output_type": "stream",
     "text": [
      "[[ 0  3  1]\n",
      " [ 5 25  0]\n",
      " [ 1 15  6]]\n",
      "              precision    recall  f1-score   support\n",
      "\n",
      "           0       0.00      0.00      0.00         4\n",
      "           1       0.58      0.83      0.68        30\n",
      "           2       0.86      0.27      0.41        22\n",
      "\n",
      "    accuracy                           0.55        56\n",
      "   macro avg       0.48      0.37      0.37        56\n",
      "weighted avg       0.65      0.55      0.53        56\n",
      "\n"
     ]
    }
   ],
   "source": [
    "print(confusion_matrix(y_te,y_pred))\n",
    "print(classification_report(y_te,y_pred))"
   ]
  },
  {
   "cell_type": "code",
   "execution_count": 26,
   "metadata": {},
   "outputs": [],
   "source": [
    "import matplotlib.pyplot as plt\n",
    "import numpy as np\n",
    "\n",
    "from sklearn.datasets import fetch_openml\n",
    "from sklearn.ensemble import RandomForestClassifier\n",
    "from sklearn.impute import SimpleImputer\n",
    "\n",
    "from sklearn.inspection import permutation_importance\n",
    "from sklearn.compose import ColumnTransformer\n",
    "from sklearn.model_selection import train_test_split\n",
    "from sklearn.pipeline import Pipeline\n",
    "from sklearn.preprocessing import OneHotEncoder"
   ]
  },
  {
   "cell_type": "code",
   "execution_count": 30,
   "metadata": {},
   "outputs": [
    {
     "data": {
      "text/plain": [
       "array([ 0.73950997, -0.98994949, -0.7587507 ,  2.38376936, -0.28345653,\n",
       "       -1.40356688,  0.46070044,  0.0823387 , -0.44030477, -0.3051479 ,\n",
       "       -0.77025588, -1.14784625,  0.        ])"
      ]
     },
     "execution_count": 30,
     "metadata": {},
     "output_type": "execute_result"
    }
   ],
   "source": [
    "X_train[10]"
   ]
  },
  {
   "cell_type": "code",
   "execution_count": null,
   "metadata": {},
   "outputs": [],
   "source": [
    "categorical_columns = ['verified', 'location', 'description']\n",
    "numerical_columns = ['query%','deny%','support%','followers_count','friends_count', 'statuses_count', \"favourites_count\",'created_at']\n"
   ]
  },
  {
   "cell_type": "code",
   "execution_count": 234,
   "metadata": {},
   "outputs": [
    {
     "data": {
      "text/plain": [
       "array([0.02689759, 0.01821295, 0.08355248, 0.09552629, 0.11152191,\n",
       "       0.02359755, 0.01970984, 0.00081777, 0.13027628, 0.11903471,\n",
       "       0.12592956, 0.12657088, 0.11835219])"
      ]
     },
     "execution_count": 234,
     "metadata": {},
     "output_type": "execute_result"
    }
   ],
   "source": [
    "clf.feature_importances_"
   ]
  },
  {
   "cell_type": "code",
   "execution_count": 239,
   "metadata": {},
   "outputs": [
    {
     "data": {
      "text/plain": [
       "<AxesSubplot:>"
      ]
     },
     "execution_count": 239,
     "metadata": {},
     "output_type": "execute_result"
    },
    {
     "data": {
      "image/png": "[encoded data removed]",
      "text/plain": [
       "<Figure size 432x288 with 1 Axes>"
      ]
     },
     "metadata": {
      "needs_background": "light"
     },
     "output_type": "display_data"
    }
   ],
   "source": [
    "columns = ['hashtag existence', 'URL existence','query%','deny%','support%','verified', 'location', 'description',\n",
    "                       'followers_count','friends_count', 'statuses_count', \"favourites_count\",'time']\n",
    "feat_importances = pd.Series(clf.feature_importances_, index= columns)\n",
    "feat_importances.nlargest(13).plot(kind='barh')\n",
    "\n"
   ]
  },
  {
   "cell_type": "code",
   "execution_count": 244,
   "metadata": {},
   "outputs": [],
   "source": [
    "def transferUserInfo(userInfo): ###########第二版\n",
    "    results = np.zeros((len(userInfo),5),dtype=int)\n",
    "    for i in range(len(userInfo)):\n",
    "        #if it has been verified\n",
    "#         if userInfo[i][0]==False:\n",
    "#             results[i][0] = 0\n",
    "#         else:\n",
    "#             results[i][0] = 1\n",
    "        \n",
    "#         #if it has location?               \n",
    "#         if userInfo[i][1]=='' or userInfo[i][1]==None:\n",
    "#             results[i][1] = 0\n",
    "#         else:\n",
    "#             results[i][1] = 1\n",
    "            \n",
    "#         #if it has description?\n",
    "#         if userInfo[i][2]=='' or userInfo[i][2]==None:\n",
    "#             results[i][2] = 0\n",
    "#         else:\n",
    "#             results[i][2] = 1\n",
    "\n",
    "        #how many followers? followers_count\n",
    "        results[i][0] = userInfo[i][3]               \n",
    "        #how many people it follows? friends_count\n",
    "        results[i][1] = userInfo[i][4]\n",
    "        #how many tweets it posted? statuses_count\n",
    "        results[i][2] = userInfo[i][5]    \n",
    "        # favourites_count\n",
    "        results[i][3] = userInfo[i][6]\n",
    "        #how many days, after creating this account, when he/she posted this tweet\n",
    "        tp = time.strptime(userInfo[i][-1],\"%a %b %d %H:%M:%S %z %Y\")\n",
    "        tc = time.strptime(userInfo[i][-2],\"%a %b %d %H:%M:%S %z %Y\")\n",
    "        diff = (datetime.datetime(tp.tm_year, tp.tm_mon, tp.tm_mday) - datetime.datetime(tc.tm_year, tc.tm_mon, tc.tm_mday)).days\n",
    "        results[i][4] = diff\n",
    "        \n",
    "    return results"
   ]
  },
  {
   "cell_type": "code",
   "execution_count": 245,
   "metadata": {},
   "outputs": [],
   "source": [
    "# the U,T,F of the source post\n",
    "train_file = './rumoureval-2019-training-data/train-key.json'\n",
    "f = json.load(open(train_file, 'r'))\n",
    "\n",
    "# extract features, hashtag existence and URL existence\n",
    "filePath = './rumoureval-2019-training-data/twitter-english'\n",
    "\n",
    "#extract train data\n",
    "\n",
    "source_tweets_train = list(f['subtaskbenglish'].keys()) # make a list of source tweets' ID\n",
    "\n",
    "# a dictionary of tweets' stances\n",
    "tweets_stances_train = f['subtaskaenglish'] ################## train and dev data are using same datasets\n",
    "\n",
    "\n",
    "features = ['verified', 'location', 'description', 'followers_count',  ####################user feature we need\n",
    "                                  'friends_count', 'statuses_count', \"favourites_count\",'created_at']\n",
    "\n",
    "userInfoString = getUserInfo(source_tweets_train,features,filePath)\n",
    "#  hashtag existence, URL existence, percentage of queries, denies, supports\n",
    "existence = getExistence(source_tweets_train, filePath)\n",
    "qds_percentage = getPercentage(source_tweets_train, tweets_stances_train, filePath)\n",
    "ue_train = transferUserInfo(userInfoString)\n",
    "\n",
    "y_train_string = list(f['subtaskbenglish'].values())\n",
    "\n",
    "X_train = np.hstack((qds_percentage,ue_train)) ################# X_train : existence + qds_percent + userInfo\n",
    "y_train = str2no(y_train_string) #################### y_train\n",
    "\n",
    "scaler = preprocessing.StandardScaler().fit(X_train) \n",
    "X_train = scaler.transform(X_train)"
   ]
  },
  {
   "cell_type": "code",
   "execution_count": 246,
   "metadata": {},
   "outputs": [
    {
     "data": {
      "text/plain": [
       "8"
      ]
     },
     "execution_count": 246,
     "metadata": {},
     "output_type": "execute_result"
    }
   ],
   "source": [
    "len(X_train[0])"
   ]
  },
  {
   "cell_type": "code",
   "execution_count": 247,
   "metadata": {},
   "outputs": [],
   "source": [
    "dev_file = './rumoureval-2019-training-data/dev-key.json'\n",
    "f = json.load(open(dev_file, 'r'))\n",
    "\n",
    "source_tweets_dev = list(f['subtaskbenglish'].keys())\n",
    "y_dev_string = list(f['subtaskbenglish'].values())\n",
    "tweets_stances_dev = f['subtaskaenglish']\n",
    "\n",
    "userInfoString = getUserInfo(source_tweets_dev,features,filePath)\n",
    "\n",
    "existence = getExistence(source_tweets_dev, filePath)\n",
    "qds_percentage = getPercentage(source_tweets_dev, tweets_stances_dev, filePath)\n",
    "ue_dev = transferUserInfo(userInfoString)\n",
    "\n",
    "X_dev =  np.hstack((qds_percentage,ue_dev)) ################# X_dev\n",
    "X_dev = scaler.transform(X_dev) ######################## normalize dev data\n",
    "y_dev = np.array(str2no(y_dev_string)) ################# y_dev"
   ]
  },
  {
   "cell_type": "code",
   "execution_count": 248,
   "metadata": {},
   "outputs": [],
   "source": [
    "te_Path = './rumoureval-2019-test-data/twitter-en-test-data'\n",
    "\n",
    "f = json.load(open('./final-eval-key.json', 'r'))\n",
    "\n",
    "source_tweets_te = list(f['subtaskbenglish'].keys())\n",
    "y_te_string = list(f['subtaskbenglish'].values())\n",
    "tweets_stances_te = f['subtaskaenglish']\n",
    "\n",
    "userInfoString = getUserInfo(source_tweets_te,features,te_Path)\n",
    "\n",
    "existence = getExistence(source_tweets_te, te_Path)\n",
    "qds_percentage = getPercentage(source_tweets_te, tweets_stances_te, te_Path)\n",
    "ue_test = transferUserInfo(userInfoString)\n",
    "\n",
    "X_te =  np.hstack((qds_percentage,ue_test)) ################# X_te\n",
    "X_te = scaler.transform(X_te)####################normalize test data\n",
    "y_te = np.array(str2no(y_te_string))"
   ]
  },
  {
   "cell_type": "code",
   "execution_count": 270,
   "metadata": {},
   "outputs": [],
   "source": [
    "rmse_list = []\n",
    "macroF_list = []\n",
    "esnum_list = []\n",
    "\n",
    "for estimator_num in range(100,8000,100):\n",
    "    \n",
    "    clf = RandomForestClassifier(n_estimators=estimator_num)\n",
    "    clf.fit(X=X_train, y=y_train)\n",
    "    sig_clf = CalibratedClassifierCV(clf,method='sigmoid', cv='prefit')\n",
    "    sig_clf.fit(X_dev,y_dev)\n",
    "    \n",
    "    sig_clf_probs = sig_clf.predict_proba(X_dev) \n",
    "\n",
    "    y_hat = sig_clf.predict(X_dev) ######################### predicted label as 3 classes\n",
    "\n",
    "    clf_confidence = np.zeros(y_hat.shape) ##################### confidence value for each piece of prediction\n",
    "\n",
    "    for i in range(len(y_hat)):\n",
    "        if y_hat[i]!=0:\n",
    "            clf_confidence[i] = sig_clf_probs[i][y_hat[i]]\n",
    "        else:\n",
    "            if sig_clf_probs[i][1]>=sig_clf_probs[i][2]:\n",
    "                clf_confidence[i] = sig_clf_probs[i][1]\n",
    "                y_hat[i] = 1\n",
    "            else:\n",
    "                clf_confidence[i] = sig_clf_probs[i][2]\n",
    "                y_hat[i] = 2\n",
    "    \n",
    "    score,rmse,macroF = scorer(y_dev,y_hat,clf_confidence)\n",
    "    \n",
    "    esnum_list += [estimator_num]\n",
    "    rmse_list += [rmse]\n",
    "    macroF_list += [macroF]"
   ]
  },
  {
   "cell_type": "code",
   "execution_count": 271,
   "metadata": {},
   "outputs": [
    {
     "data": {
      "image/png": "[encoded data removed]",
      "text/plain": [
       "<Figure size 432x288 with 1 Axes>"
      ]
     },
     "metadata": {
      "needs_background": "light"
     },
     "output_type": "display_data"
    }
   ],
   "source": [
    "import matplotlib.pyplot as plt\n",
    "plt.title(\"I'm a scatter diagram.\") \n",
    "# plt.xlim(xmax=7,xmin=0)\n",
    "# plt.ylim(ymax=7,ymin=0)\n",
    "plt.plot(macroF_list,rmse_list,'ro')\n",
    "plt.xlabel(\"macroF1\")\n",
    "plt.ylabel(\"rmse\")\n",
    "plt.show()"
   ]
  },
  {
   "cell_type": "code",
   "execution_count": 273,
   "metadata": {},
   "outputs": [
    {
     "data": {
      "text/plain": [
       "1"
      ]
     },
     "execution_count": 273,
     "metadata": {},
     "output_type": "execute_result"
    }
   ],
   "source": [
    "np.argmin(rmse_list)"
   ]
  },
  {
   "cell_type": "code",
   "execution_count": 275,
   "metadata": {},
   "outputs": [
    {
     "data": {
      "text/plain": [
       "200"
      ]
     },
     "execution_count": 275,
     "metadata": {},
     "output_type": "execute_result"
    }
   ],
   "source": [
    "esnum_list[1]"
   ]
  },
  {
   "cell_type": "code",
   "execution_count": 278,
   "metadata": {},
   "outputs": [
    {
     "name": "stdout",
     "output_type": "stream",
     "text": [
      "accuracy: 0.5\n",
      "RMSE: 0.7228777435113863\n",
      "Macro averaged F1 socre: 0.42544492544492546\n"
     ]
    }
   ],
   "source": [
    "clf = RandomForestClassifier(n_estimators=200)\n",
    "clf.fit(X=X_train, y=y_train)\n",
    "sig_clf = CalibratedClassifierCV(clf,method='sigmoid', cv='prefit')\n",
    "sig_clf.fit(X_dev,y_dev)\n",
    "\n",
    "sig_clf_probs = sig_clf.predict_proba(X_te) \n",
    "\n",
    "y_hat = sig_clf.predict(X_te) ######################### predicted label as 3 classes\n",
    "\n",
    "clf_confidence = np.zeros(y_hat.shape) ##################### confidence value for each piece of prediction\n",
    "\n",
    "for i in range(len(y_hat)):\n",
    "    if y_hat[i]!=0:\n",
    "        clf_confidence[i] = sig_clf_probs[i][y_hat[i]]\n",
    "    else:\n",
    "        if sig_clf_probs[i][1]>=sig_clf_probs[i][2]:\n",
    "            clf_confidence[i] = sig_clf_probs[i][1]\n",
    "            y_hat[i] = 1\n",
    "        else:\n",
    "            clf_confidence[i] = sig_clf_probs[i][2]\n",
    "            y_hat[i] = 2\n",
    "\n",
    "\n",
    "\n",
    "\n",
    "score,rmse,macroF, y_pred = scorer(y_te,y_hat,clf_confidence) # F-score is ill-defined and being set to 0.0 in labels with no predicted samples\n",
    "print('accuracy:', score)\n",
    "print('RMSE:', rmse)\n",
    "print('Macro averaged F1 socre:', macroF)"
   ]
  },
  {
   "cell_type": "code",
   "execution_count": 279,
   "metadata": {},
   "outputs": [
    {
     "name": "stdout",
     "output_type": "stream",
     "text": [
      "[[ 2  2  0]\n",
      " [ 6 23  1]\n",
      " [ 6 11  5]]\n",
      "              precision    recall  f1-score   support\n",
      "\n",
      "           0       0.14      0.50      0.22         4\n",
      "           1       0.64      0.77      0.70        30\n",
      "           2       0.83      0.23      0.36        22\n",
      "\n",
      "    accuracy                           0.54        56\n",
      "   macro avg       0.54      0.50      0.43        56\n",
      "weighted avg       0.68      0.54      0.53        56\n",
      "\n"
     ]
    }
   ],
   "source": [
    "print(confusion_matrix(y_te,y_pred))\n",
    "print(classification_report(y_te,y_pred))"
   ]
  },
  {
   "cell_type": "code",
   "execution_count": 284,
   "metadata": {},
   "outputs": [],
   "source": [
    "from sklearn.naive_bayes import GaussianNB"
   ]
  },
  {
   "cell_type": "code",
   "execution_count": 296,
   "metadata": {},
   "outputs": [
    {
     "name": "stdout",
     "output_type": "stream",
     "text": [
      "accuracy: 0.35714285714285715\n",
      "RMSE: 0.7899315181730395\n",
      "Macro averaged F1 socre: 0.2875447522140569\n"
     ]
    }
   ],
   "source": [
    "clf = GaussianNB()\n",
    "clf.fit(X=X_train, y=y_train)\n",
    "sig_clf = CalibratedClassifierCV(clf,method='sigmoid', cv='prefit')\n",
    "sig_clf.fit(X_dev,y_dev)\n",
    "\n",
    "sig_clf_probs = sig_clf.predict_proba(X_te) \n",
    "\n",
    "y_hat = sig_clf.predict(X_te) ######################### predicted label as 3 classes\n",
    "\n",
    "clf_confidence = np.zeros(y_hat.shape) ##################### confidence value for each piece of prediction\n",
    "\n",
    "for i in range(len(y_hat)):\n",
    "    if y_hat[i]!=0:\n",
    "        clf_confidence[i] = sig_clf_probs[i][y_hat[i]]\n",
    "    else:\n",
    "        if sig_clf_probs[i][1]>=sig_clf_probs[i][2]:\n",
    "            clf_confidence[i] = sig_clf_probs[i][1]\n",
    "            y_hat[i] = 1\n",
    "        else:\n",
    "            clf_confidence[i] = sig_clf_probs[i][2]\n",
    "            y_hat[i] = 2\n",
    "\n",
    "\n",
    "\n",
    "\n",
    "score,rmse,macroF, y_pred = scorer(y_te,y_hat,clf_confidence) # F-score is ill-defined and being set to 0.0 in labels with no predicted samples\n",
    "print('accuracy:', score)\n",
    "print('RMSE:', rmse)\n",
    "print('Macro averaged F1 socre:', macroF)"
   ]
  },
  {
   "cell_type": "code",
   "execution_count": 297,
   "metadata": {},
   "outputs": [
    {
     "name": "stdout",
     "output_type": "stream",
     "text": [
      "[[ 3  1  0]\n",
      " [10 20  0]\n",
      " [12 10  0]]\n",
      "              precision    recall  f1-score   support\n",
      "\n",
      "           0       0.12      0.75      0.21         4\n",
      "           1       0.65      0.67      0.66        30\n",
      "           2       0.00      0.00      0.00        22\n",
      "\n",
      "    accuracy                           0.41        56\n",
      "   macro avg       0.26      0.47      0.29        56\n",
      "weighted avg       0.35      0.41      0.37        56\n",
      "\n"
     ]
    },
    {
     "name": "stderr",
     "output_type": "stream",
     "text": [
      "C:\\Users\\Shawn\\Anaconda3\\envs\\mlai19\\lib\\site-packages\\sklearn\\metrics\\_classification.py:1221: UndefinedMetricWarning: Precision and F-score are ill-defined and being set to 0.0 in labels with no predicted samples. Use `zero_division` parameter to control this behavior.\n",
      "  _warn_prf(average, modifier, msg_start, len(result))\n"
     ]
    }
   ],
   "source": [
    "print(confusion_matrix(y_te,y_pred)) ######NB\n",
    "print(classification_report(y_te,y_pred))"
   ]
  },
  {
   "cell_type": "code",
   "execution_count": 298,
   "metadata": {},
   "outputs": [
    {
     "name": "stdout",
     "output_type": "stream",
     "text": [
      "accuracy: 0.42857142857142855\n",
      "RMSE: 0.7526595971987946\n",
      "Macro averaged F1 socre: 0.3227920227920228\n"
     ]
    }
   ],
   "source": [
    "clf = svm.LinearSVC(multi_class='ovr', C=50, max_iter=1000000)\n",
    "clf.fit(X=X_train, y=y_train)\n",
    "sig_clf = CalibratedClassifierCV(clf,method='sigmoid', cv='prefit')\n",
    "sig_clf.fit(X_dev,y_dev)\n",
    "\n",
    "sig_clf_probs = sig_clf.predict_proba(X_te) \n",
    "\n",
    "y_hat = sig_clf.predict(X_te) ######################### predicted label as 3 classes\n",
    "\n",
    "clf_confidence = np.zeros(y_hat.shape) ##################### confidence value for each piece of prediction\n",
    "\n",
    "for i in range(len(y_hat)):\n",
    "    if y_hat[i]!=0:\n",
    "        clf_confidence[i] = sig_clf_probs[i][y_hat[i]]\n",
    "    else:\n",
    "        if sig_clf_probs[i][1]>=sig_clf_probs[i][2]:\n",
    "            clf_confidence[i] = sig_clf_probs[i][1]\n",
    "            y_hat[i] = 1\n",
    "        else:\n",
    "            clf_confidence[i] = sig_clf_probs[i][2]\n",
    "            y_hat[i] = 2\n",
    "\n",
    "\n",
    "\n",
    "\n",
    "score,rmse,macroF, y_pred = scorer(y_te,y_hat,clf_confidence) # F-score is ill-defined and being set to 0.0 in labels with no predicted samples\n",
    "print('accuracy:', score)\n",
    "print('RMSE:', rmse)\n",
    "print('Macro averaged F1 socre:', macroF)"
   ]
  },
  {
   "cell_type": "code",
   "execution_count": 299,
   "metadata": {},
   "outputs": [
    {
     "name": "stdout",
     "output_type": "stream",
     "text": [
      "[[ 1  2  1]\n",
      " [ 8 21  1]\n",
      " [ 7 12  3]]\n",
      "              precision    recall  f1-score   support\n",
      "\n",
      "           0       0.06      0.25      0.10         4\n",
      "           1       0.60      0.70      0.65        30\n",
      "           2       0.60      0.14      0.22        22\n",
      "\n",
      "    accuracy                           0.45        56\n",
      "   macro avg       0.42      0.36      0.32        56\n",
      "weighted avg       0.56      0.45      0.44        56\n",
      "\n"
     ]
    }
   ],
   "source": [
    "print(confusion_matrix(y_te,y_pred)) ##########svm\n",
    "print(classification_report(y_te,y_pred))"
   ]
  },
  {
   "cell_type": "code",
   "execution_count": 3,
   "metadata": {},
   "outputs": [],
   "source": [
    "# [1,24,-2,0,0]\n",
    "def func(arr):\n",
    "    positive = 0\n",
    "    negative = 0\n",
    "    zeros = 0\n",
    "    for num in arr:\n",
    "        if num > 0:\n",
    "            positive += 1\n",
    "        elif num == 0:\n",
    "            zeros += 1\n",
    "        else:\n",
    "            negative += 1\n",
    "            \n",
    "    return positive, negative, zeros"
   ]
  },
  {
   "cell_type": "code",
   "execution_count": 5,
   "metadata": {},
   "outputs": [
    {
     "data": {
      "text/plain": [
       "(2, 1, 2)"
      ]
     },
     "execution_count": 5,
     "metadata": {},
     "output_type": "execute_result"
    }
   ],
   "source": [
    "a = [1,24,-2,0,0]\n",
    "func(a)"
   ]
  },
  {
   "cell_type": "code",
   "execution_count": 30,
   "metadata": {},
   "outputs": [
    {
     "data": {
      "text/plain": [
       "0"
      ]
     },
     "execution_count": 30,
     "metadata": {},
     "output_type": "execute_result"
    }
   ],
   "source": [
    "tmp = -6 / 132\n",
    "-int(-tmp)"
   ]
  },
  {
   "cell_type": "code",
   "execution_count": 32,
   "metadata": {},
   "outputs": [
    {
     "data": {
      "text/plain": [
       "-0.045454545454545456"
      ]
     },
     "execution_count": 32,
     "metadata": {},
     "output_type": "execute_result"
    }
   ],
   "source": [
    "-6 / float(132)"
   ]
  },
  {
   "cell_type": "code",
   "execution_count": null,
   "metadata": {},
   "outputs": [],
   "source": [
    "51.5"
   ]
  },
  {
   "cell_type": "code",
   "execution_count": null,
   "metadata": {},
   "outputs": [],
   "source": []
  },
  {
   "cell_type": "code",
   "execution_count": null,
   "metadata": {},
   "outputs": [],
   "source": []
  }
 ],
 "metadata": {
  "kernelspec": {
   "display_name": "Python 3",
   "language": "python",
   "name": "python3"
  },
  "language_info": {
   "codemirror_mode": {
    "name": "ipython",
    "version": 3
   },
   "file_extension": ".py",
   "mimetype": "text/x-python",
   "name": "python",
   "nbconvert_exporter": "python",
   "pygments_lexer": "ipython3",
   "version": "3.7.3"
  }
 },
 "nbformat": 4,
 "nbformat_minor": 2
}
