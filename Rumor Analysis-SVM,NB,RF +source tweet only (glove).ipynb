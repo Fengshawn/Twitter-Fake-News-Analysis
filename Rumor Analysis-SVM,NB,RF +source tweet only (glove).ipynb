{
 "cells": [
  {
   "cell_type": "code",
   "execution_count": 2,
   "metadata": {},
   "outputs": [],
   "source": [
    "import sys\n",
    "import regex as re\n",
    "\n",
    "FLAGS = re.MULTILINE | re.DOTALL\n",
    "\n",
    "def hashtag(text):\n",
    "    text = text.group()\n",
    "    hashtag_body = text[1:]\n",
    "    if hashtag_body.isupper():\n",
    "        result = \"<hashtag> {} <allcaps>\".format(hashtag_body.lower())\n",
    "    else:\n",
    "        result = \" \".join([\"<hashtag>\"] + re.split(r\"(?=[A-Z])\", hashtag_body, flags=FLAGS))\n",
    "    return result\n",
    "\n",
    "def allcaps(text):\n",
    "    text = text.group()\n",
    "    return text.lower() + \" <allcaps> \" # amackcrane added trailing space\n",
    "\n",
    "\n",
    "def tokenize(text):\n",
    "    # Different regex parts for smiley faces\n",
    "    eyes = r\"[8:=;]\"\n",
    "    nose = r\"['`\\-]?\"\n",
    "\n",
    "    # function so code less repetitive\n",
    "    def re_sub(pattern, repl):\n",
    "        return re.sub(pattern, repl, text, flags=FLAGS)\n",
    "\n",
    "    text = re_sub(r\"https?:\\/\\/\\S+\\b|www\\.(\\w+\\.)+\\S*\", \"<url>\")\n",
    "    text = re_sub(r\"@\\w+\", \"<user>\")\n",
    "    text = re_sub(r\"{}{}[)dD]+|[)dD]+{}{}\".format(eyes, nose, nose, eyes), \"<smile>\")\n",
    "    text = re_sub(r\"{}{}p+\".format(eyes, nose), \"<lolface>\")\n",
    "    text = re_sub(r\"{}{}\\(+|\\)+{}{}\".format(eyes, nose, nose, eyes), \"<sadface>\")\n",
    "    text = re_sub(r\"{}{}[\\/|l*]\".format(eyes, nose), \"<neutralface>\")\n",
    "    text = re_sub(r\"/\",\" / \")\n",
    "    text = re_sub(r\"<3\",\"<heart>\")\n",
    "    text = re_sub(r\"[-+]?[.\\d]*[\\d]+[:,.\\d]*\", \"<number>\")\n",
    "    text = re_sub(r\"#\\w+\", hashtag)  # amackcrane edit\n",
    "    text = re_sub(r\"([!?.]){2,}\", r\"\\1 <repeat>\")\n",
    "    text = re_sub(r\"\\b(\\S*?)(.)\\2{2,}\\b\", r\"\\1\\2 <elong>\")\n",
    "    \n",
    "\n",
    "    ## -- I just don't understand why the Ruby script adds <allcaps> to everything so I limited the selection.\n",
    "    # text = re_sub(r\"([^a-z0-9()<>'`\\-]){2,}\", allcaps)\n",
    "    #text = re_sub(r\"([A-Z]){2,}\", allcaps)  # moved below -amackcrane\n",
    "\n",
    "    # amackcrane additions\n",
    "    text = re_sub(r\"([a-zA-Z<>()])([?!.:;,])\", r\"\\1 \\2\")\n",
    "    text = re_sub(r\"\\(([a-zA-Z<>]+)\\)\", r\"( \\1 )\")\n",
    "    text = re_sub(r\"  \", r\" \")\n",
    "    text = re_sub(r\" ([A-Z]){2,} \", allcaps)\n",
    "    \n",
    "    return text.lower()\n",
    "\n",
    "\n",
    "    "
   ]
  },
  {
   "cell_type": "code",
   "execution_count": 3,
   "metadata": {},
   "outputs": [
    {
     "name": "stdout",
     "output_type": "stream",
     "text": [
      "i test  <allcaps> al <elong> kinds of <hashtag> hashtags and <hashtag> hashtags <allcaps> , <user> and <number> ( <url> ) . w / <heart> <smile> haha ! <repeat>\n",
      "testing some *tough* <hashtag> cases <allcaps>\n"
     ]
    }
   ],
   "source": [
    "text = \"I TEST alllll kinds of #hashtags and #HASHTAGS, @mentions and 3000 (http://t.co/dkfjkdf). w/ <3 :) haha!!!!!\"\n",
    "text2 = \"TEStiNg some *tough* #CASES\" # couple extra tests -amackcrane\n",
    "tokens = tokenize(text)\n",
    "print(tokens)\n",
    "print(tokenize(text2))"
   ]
  },
  {
   "cell_type": "code",
   "execution_count": 25,
   "metadata": {},
   "outputs": [
    {
     "data": {
      "text/plain": [
       "'i test  <allcaps> al <elong> kinds of <hashtag> hashtags and <hashtag> hashtags <allcaps> , <user> and <number> ( <url> ) . w / <heart> <smile> haha ! <repeat>'"
      ]
     },
     "execution_count": 25,
     "metadata": {},
     "output_type": "execute_result"
    }
   ],
   "source": [
    "'sss'.gr"
   ]
  },
  {
   "cell_type": "code",
   "execution_count": 69,
   "metadata": {},
   "outputs": [],
   "source": [
    "def get_glove_embeddings(f_zip, f_txt, word2id, emb_size=200):\n",
    "    \n",
    "    w_emb = np.zeros((len(word2id), emb_size))\n",
    "    \n",
    "    with zipfile.ZipFile(f_zip) as z:\n",
    "        with z.open(f_txt) as f:\n",
    "            for line in f:\n",
    "                line = line.decode('utf-8')\n",
    "                word = line.split()[0]\n",
    "                     \n",
    "                if word in word2id:\n",
    "                    emb = np.array(line.strip('\\n').split()[1:]).astype(np.float32)\n",
    "                    w_emb[word2id[word]] += emb\n",
    "    return w_emb"
   ]
  },
  {
   "cell_type": "code",
   "execution_count": 5,
   "metadata": {},
   "outputs": [],
   "source": [
    "import numpy as np\n",
    "from collections import Counter\n",
    "import json\n",
    "import math\n",
    "import os.path\n",
    "\n",
    "from sklearn import svm\n",
    "from sklearn.ensemble import RandomForestClassifier\n",
    "from sklearn.calibration import CalibratedClassifierCV\n",
    "from sklearn.metrics import f1_score\n",
    "from sklearn import preprocessing\n",
    "import gensim\n",
    "from sklearn.naive_bayes import GaussianNB\n",
    "\n",
    "import datetime\n",
    "import time\n",
    "import nltk"
   ]
  },
  {
   "cell_type": "code",
   "execution_count": 3,
   "metadata": {},
   "outputs": [],
   "source": [
    "def getExistence(source_tweets, filePath):\n",
    "#@@ Param:  Source_tweets: a list of source tweets ID\n",
    "#           filePath: source tweets  parent document directory\n",
    "#@@ Return: an n x 2 array, n is the amount/number of source tweets' IDs    \n",
    "    \n",
    "    existence = np.zeros((len(source_tweets),2))\n",
    "    for i in range(len(source_tweets)):\n",
    "        data = json.load(open(filePath+'/'+source_tweets[i]+'/source-tweet/'+source_tweets[i]+'.json','r'))\n",
    "        if len(data['entities']['hashtags']) != 0:\n",
    "            existence[i][0] = 1\n",
    "        else:\n",
    "            existence[i][0] = 0\n",
    "        \n",
    "        if len(data['entities']['urls']) != 0:\n",
    "            existence[i][1] = 1\n",
    "        else:\n",
    "            existence[i][1] = 0\n",
    "            \n",
    "    return existence"
   ]
  },
  {
   "cell_type": "code",
   "execution_count": 12,
   "metadata": {},
   "outputs": [],
   "source": [
    "def getText(source_tweets, filePath):\n",
    "#@@ Param:  Source_tweets: a list of source tweets ID\n",
    "#           filePath: source tweets  parent document directory\n",
    "#@@ Return: tweets text coresspoding to source tweets' IDs   \n",
    "\n",
    "    tweet_text = []\n",
    "    for i in range(len(source_tweets)):\n",
    "        data = json.load(open(filePath+'/'+source_tweets[i]+'/source-tweet/'+source_tweets[i]+'.json','r'))\n",
    "        tweet_text += [data['text']]\n",
    "    \n",
    "    return tweet_text"
   ]
  },
  {
   "cell_type": "code",
   "execution_count": 5,
   "metadata": {},
   "outputs": [],
   "source": [
    "def getUserInfo(source_tweets,featureList,filePath):\n",
    "    \n",
    "    userFeatures = []\n",
    "    for i in range(len(source_tweets)):\n",
    "        data = json.load(open(filePath+'/'+source_tweets[i]+'/source-tweet/'+source_tweets[i]+'.json','r'))\n",
    "        userData = [data['user'][feature] for feature in featureList]\n",
    "        userData += [data['created_at']]\n",
    "        userFeatures += [userData]\n",
    "    \n",
    "    return userFeatures"
   ]
  },
  {
   "cell_type": "code",
   "execution_count": 6,
   "metadata": {},
   "outputs": [],
   "source": [
    "# extract features, Percentage of replying tweets classified as queries, denies or supports\n",
    "def getPercentage(source_tweets, tweets_stances, filePath):\n",
    "#@@ Param: source_tweets: a list of source tweets ID\n",
    "#          tweets_stances：a list of stances, which contains all tweets' stance including reply tweets and source tweets\n",
    "#          filePath: source tweets  parent document directory\n",
    "#@@ Return: an n x 3 array, n is the amount/number of source tweets' IDs\n",
    "   \n",
    "    stance_list = []\n",
    "    for tweet_ID in source_tweets:\n",
    "        replies_json_list = os.listdir(filePath+'/'+tweet_ID+'/replies') # make a list of reply tweets' IDs .json\n",
    "        replies_list = [dot_json.split('.')[0] for dot_json in replies_json_list] # remove filename suffixes '.json'\n",
    "        tmp = []\n",
    "        for reply_ID in replies_list:\n",
    "            tmp_stance = tweets_stances[reply_ID]\n",
    "            tmp += [tmp_stance]\n",
    "        stance_list += [tmp]\n",
    "    \n",
    "    \n",
    "    stance_percentage = np.zeros((len(stance_list),3)) # initialise an array, column 0,1,2 are percentages of query, deny, support\n",
    "    \n",
    "    for i in range(len(stance_list)):\n",
    "        count = Counter(stance_list[i])\n",
    "        l = len(stance_list[i])\n",
    "        if 'query' in count:\n",
    "            stance_percentage[i][0] = count['query']/l\n",
    "        else:\n",
    "            stance_percentage[i][0] = 0 \n",
    "        \n",
    "        if 'deny' in count:\n",
    "            stance_percentage[i][1] = count['deny']/l\n",
    "        else:\n",
    "            stance_percentage[i][1] = 0 \n",
    "        \n",
    "        if 'support' in count:\n",
    "            stance_percentage[i][2] = count['support']/l\n",
    "        else:\n",
    "            stance_percentage[i][2] = 0 \n",
    "    \n",
    "    return stance_percentage"
   ]
  },
  {
   "cell_type": "code",
   "execution_count": 7,
   "metadata": {},
   "outputs": [],
   "source": [
    "#transfer label\n",
    "def str2no(y_string):\n",
    "#@@ Param: a list of rumour veracity labels, each element is a string\n",
    "#@@ Return: a list of label, each element is an int; 0,1,2 represent 'unverified','false','true' respectively\n",
    "    \n",
    "    y = []\n",
    "    for cls in y_string:\n",
    "        if cls=='unverified':\n",
    "            y += [0]\n",
    "        elif cls=='false':\n",
    "            y += [1]\n",
    "        elif cls=='true':\n",
    "            y += [2]\n",
    "    return y"
   ]
  },
  {
   "cell_type": "code",
   "execution_count": 8,
   "metadata": {},
   "outputs": [],
   "source": [
    "def transferUserInfo(userInfo):\n",
    "    results = np.zeros((len(userInfo),len(userInfo[0])-1),dtype=int)\n",
    "    for i in range(len(userInfo)):\n",
    "        #if it has been verified\n",
    "        if userInfo[i][0]==False:\n",
    "            results[i][0] = 0\n",
    "        else:\n",
    "            results[i][0] = 1\n",
    "        \n",
    "        #if it has location?               \n",
    "        if userInfo[i][1]=='' or userInfo[i][1]==None:\n",
    "            results[i][1] = 0\n",
    "        else:\n",
    "            results[i][1] = 1\n",
    "            \n",
    "        #if it has description?\n",
    "        if userInfo[i][2]=='' or userInfo[i][2]==None:\n",
    "            results[i][2] = 0\n",
    "        else:\n",
    "            results[i][2] = 1\n",
    "\n",
    "        #how many followers?\n",
    "        results[i][3] = userInfo[i][3]               \n",
    "        #how many people it follows?\n",
    "        results[i][4] = userInfo[i][4]\n",
    "        #how many tweets it posted?\n",
    "        results[i][5] = userInfo[i][5]               \n",
    "        #how many days, after creating this account, when he/she posted this tweet\n",
    "        tp = time.strptime(userInfo[i][-1],\"%a %b %d %H:%M:%S %z %Y\")\n",
    "        tc = time.strptime(userInfo[i][-2],\"%a %b %d %H:%M:%S %z %Y\")\n",
    "        diff = (datetime.datetime(tp.tm_year, tp.tm_mon, tp.tm_mday) - datetime.datetime(tc.tm_year, tc.tm_mon, tc.tm_mday)).days\n",
    "        results[i][6] = diff\n",
    "        \n",
    "    return results"
   ]
  },
  {
   "cell_type": "code",
   "execution_count": 133,
   "metadata": {},
   "outputs": [],
   "source": [
    "def scorer(y_truth, y_hat, confidence): # rumourEval 2019 version of scorer\n",
    "#@ Param:  y_truth: a list of true labels\n",
    "#          y_hat: a list of predicted y values\n",
    "#          confidence: a list of confidence values related to y_hat\n",
    "# Return: accuracy score, RMSE and Macro averaged F1 score\n",
    "    \n",
    "    correct = 0\n",
    "    total = len(y_hat)\n",
    "    errors = []\n",
    "    y_pred = []\n",
    "    \n",
    "    for i in range(total):\n",
    "        if confidence[i]>0.5:\n",
    "                y_pred += [y_hat[i]]\n",
    "        else:\n",
    "                y_pred += [0]   \n",
    "        \n",
    "        if y_pred[i] == y_truth[i] and y_truth[i]!=0:\n",
    "            correct += 1\n",
    "            errors += [(1-confidence[i])**2]\n",
    "\n",
    "        elif y_truth[i] == 0:\n",
    "            errors += [ (confidence[i])**2 ]\n",
    "\n",
    "        else:\n",
    "            errors += [1.0]\n",
    "            \n",
    "    score = correct / total\n",
    "    rmse = math.sqrt( sum(errors) / len(errors) )\n",
    "    macroF = f1_score(y_truth, y_pred, average='macro')\n",
    "\n",
    "    return score,rmse,macroF,y_pred"
   ]
  },
  {
   "cell_type": "code",
   "execution_count": 10,
   "metadata": {},
   "outputs": [],
   "source": [
    "def scorer(y_truth, y_hat, confidence): # rumourEval 2019 version of scorer\n",
    "#@ Param:  y_truth: a list of true labels\n",
    "#          y_hat: a list of predicted y values\n",
    "#          confidence: a list of confidence values related to y_hat\n",
    "# Return: accuracy score, RMSE and Macro averaged F1 score\n",
    "    \n",
    "    correct = 0\n",
    "    total = len(y_hat)\n",
    "    errors = []\n",
    "    y_pred = []\n",
    "    \n",
    "    for i in range(total):\n",
    "        if confidence[i]>0.5:\n",
    "                y_pred += [y_hat[i]]\n",
    "        else:\n",
    "                y_pred += [0]   \n",
    "        \n",
    "        if y_pred[i] == y_truth[i] and y_truth[i]!=0:\n",
    "            correct += 1\n",
    "            errors += [(1-confidence[i])**2]\n",
    "\n",
    "        elif y_truth[i] == 0:\n",
    "            errors += [ (confidence[i])**2 ]\n",
    "\n",
    "        else:\n",
    "            errors += [1.0]\n",
    "            \n",
    "    score = correct / total\n",
    "    rmse = math.sqrt( sum(errors) / len(errors) )\n",
    "    macroF = f1_score(y_truth, y_pred, average='macro')\n",
    "\n",
    "    return score,rmse,macroF"
   ]
  },
  {
   "cell_type": "code",
   "execution_count": 13,
   "metadata": {},
   "outputs": [],
   "source": [
    "# the U,T,F of the source post\n",
    "train_file = './rumoureval-2019-training-data/train-key.json'\n",
    "f = json.load(open(train_file, 'r'))\n",
    "\n",
    "# extract features, hashtag existence and URL existence\n",
    "filePath = './rumoureval-2019-training-data/twitter-english'\n",
    "\n",
    "source_tweets_train = list(f['subtaskbenglish'].keys()) # make a list of source tweets' ID\n",
    "y_train_string = list(f['subtaskbenglish'].values())\n",
    "text_tr = getText(source_tweets_train, filePath)\n"
   ]
  },
  {
   "cell_type": "code",
   "execution_count": 14,
   "metadata": {},
   "outputs": [],
   "source": [
    "dev_file = './rumoureval-2019-training-data/dev-key.json'\n",
    "f = json.load(open(dev_file, 'r'))\n",
    "\n",
    "source_tweets_dev = list(f['subtaskbenglish'].keys())\n",
    "y_dev_string = list(f['subtaskbenglish'].values())\n",
    "text_dev = getText(source_tweets_dev, filePath)\n"
   ]
  },
  {
   "cell_type": "code",
   "execution_count": 16,
   "metadata": {},
   "outputs": [],
   "source": [
    "te_Path = './rumoureval-2019-test-data/twitter-en-test-data'\n",
    "\n",
    "f = json.load(open('./final-eval-key.json', 'r'))\n",
    "\n",
    "source_tweets_te = list(f['subtaskbenglish'].keys())\n",
    "y_te_string = list(f['subtaskbenglish'].values())\n",
    "text_te = getText(source_tweets_te, te_Path)"
   ]
  },
  {
   "cell_type": "code",
   "execution_count": 31,
   "metadata": {},
   "outputs": [],
   "source": [
    "X_tr_string = [tokenize(x) for x in text_tr] ###############################\n",
    "X_dev_string = [tokenize(x) for x in text_dev] ################################ into token\n",
    "X_te_string = [tokenize(x) for x in text_te] ################################"
   ]
  },
  {
   "cell_type": "code",
   "execution_count": 34,
   "metadata": {},
   "outputs": [
    {
     "data": {
      "text/plain": [
       "['did anyone think of comparing the clothes that <hashtag> mikebrown was wearing when he was laying on the street to the security footage ? <hashtag> ferguson',\n",
       " 'possible \"robbery\" took place and bam  <allcaps> ! like magic it\\'s as if another unarmed  <allcaps> black youth being murdered has been forgotten <hashtag> smh <hashtag> ferguson',\n",
       " 'breaking news  <allcaps> : gunmen take hostages at sydney cafe , wave islamic flag <url> <url>',\n",
       " 'omg . <hashtag> prince rumoured to be performing in toronto today . exciting !',\n",
       " 'uber says it has hiked prices in sydney to \"encourage more drivers to come online &amp ; pick up passengers .\" <url> <hashtag> sydneysiege',\n",
       " '<hashtag> breaking <allcaps> reports two customers and an employee have escaped the <hashtag> sydneysiege <url>',\n",
       " '<hashtag> ferguson chief let most of day go by b<number> disclosing (after repeated qs) that cop who killed <hashtag> mikebrown knew nothing about robbery . danger',\n",
       " '“<user> : <hashtag> charliehebdo : “the cartoonists charb &amp ; cabu are dead .” <url> <url>”',\n",
       " \"most compelling image i've seen to come out of horrifying events in paris , courtesy of banksy . <hashtag> jesuischarlie <url>\",\n",
       " 'police say shots fired at <number> <hashtag> ottawa sites - national war memorial , parliament hill , and now rideau shopping centre <url>',\n",
       " 'if you can justify shooting an unarmed teenager by saying \"he might have been committing a misdemeanor\" you are a fucking asshole . <hashtag> ferguson',\n",
       " 'black islamic flag being held up in window of <hashtag> lindt chocolate store in martin place , sydney - hostages inside . <url>',\n",
       " 'police seem relaxed , suggesting all hostages are out and gunman no longer a threat <url> <hashtag> sydneysiege',\n",
       " 'afp : suspected <hashtag> charliehebdo gunmen have been killed',\n",
       " 'the <hashtag> ferguson police chief just basically confirmed <hashtag> mikebrown was gunned to death for the crime of walking in the street ?\\n\\nhorrific .',\n",
       " 'breaking : shots fired , hostages taken in manhunt for <hashtag> charliehebdo attackers , police say <url> <url>',\n",
       " \"the press conf makes <hashtag> ferguson pd  <allcaps> look like they've gone from stonewalling to counter punching . we give up a name , we drag his thru the mud .\",\n",
       " 'approximately <number> hostages may be held captive at <hashtag> lindt café – local reports <url> <hashtag> sydneysiege <url>',\n",
       " 'at least <number> dead in the paris shooting . updated story and background info : <url> <hashtag> charliehebdo <url>',\n",
       " 'soldier shot at national war memorial in ottawa <url> <hashtag> cdnpoli <hashtag> hw',\n",
       " 'this appears to be the original source of the putin / kabayeva / swiss clinic rumour <url>',\n",
       " 'uber intros surge pricing in downtown sydney during hostage siege <url> <url>',\n",
       " 'reports on <user> <hashtag> sydneysiege gunman wants <hashtag> isil <allcaps> flag delivered to cafe and he also wants to speak to pm  <allcaps> or people will be killed .',\n",
       " 'suspects in <hashtag> charliehebdo attack spoke to police by phone and said they wanted to die as martyrs , says french mp  <allcaps> . <url>',\n",
       " 'geoblock lifted on <hashtag> abcnews<number> streaming coverage of the martin place siege in sydney here <url> .',\n",
       " '<hashtag> breaking <allcaps> : both charlie hebdo suspects killed as police storm building (police sources) <url> <url>',\n",
       " \"<hashtag> nhl <allcaps> cancels tonight's game between <hashtag> ottawa and <hashtag> toronto due to today's shootings . senators were to host maple leafs .\",\n",
       " 'prince fans lining up at massey hall . wristbands for surprise show reportedly on sale at <number>pm . <hashtag> toronto <url>',\n",
       " \"was vladimir putin netralized by an internal coup ? or maybe he's vacationing in harper's closet : <url> <hashtag> lookingfornarnia\",\n",
       " 'more : police confirm <number> hostages escape sydney cafe , unknown number remain inside <url> <hashtag> sydneysiege',\n",
       " 'prince rumoured to be performing in surprise show in toronto <url> <url>',\n",
       " 'at least <number> dead in shooting at hq  <allcaps> of <hashtag> charliehebdo in <hashtag> paris (police source)\\n<url>',\n",
       " \"shots fired on parliament hill after a man walked up with a gun . i'm locked in a security office on parliament hill\",\n",
       " \"watch video showing gunfire inside canada's parliament in ottawa <url> <url>\",\n",
       " 'sydney hostage-taker\\n- man monis , <number>\\n- originally from iran\\n- self-styled sheikh\\n- accused of sexually assaulting <number> women\\ndeveloping . <repeat>',\n",
       " 'haron monis ,hostage-taker in <hashtag> sydney : fled <hashtag> iran <number>suspect in ex-wife killing ,<number> sex assaults <url> <url>',\n",
       " 'breaking news  <allcaps> : soldier shot at national war memorial in ottawa <url>',\n",
       " 'darren wilson is a six year veteran of the <hashtag> ferguson police and had no disciplinary actions against him .',\n",
       " 'breaking : french police tell ap  <allcaps> suspects in <hashtag> charliehebdo attack have taken a hostage northeast of paris .',\n",
       " 'witnesses say the charlie hebdo gunmen identified themselves as members of al-qaida : <url> <url>',\n",
       " \"line of police cars with high beams on greets anyone trying to enter <hashtag> ferguson . it's shut down . no media allowed . <url>\",\n",
       " 'update : <number> people being held hostage in <hashtag> sydney shop , opera house evacuated after suspicious package foun<smile> reports <url>',\n",
       " 'prince not playing massey hall tonight , promoter says <url> <url>',\n",
       " 'in <number> <hashtag> ferguson police beat a man and charged him for bleeding on them : <url>',\n",
       " 'to be clear : an unarmed teenager possibly  <allcaps> stealing a box of cigars does not warrant being shot to death by the police . <hashtag> ferguson',\n",
       " 'we are in full lock down until further notice from ottawa police .',\n",
       " '<hashtag> breaking <allcaps> gunman in policewoman killing suspected in new paris hostage-taking : source',\n",
       " 'central sydney shut down by police amid ongoing hostage situation : <url>',\n",
       " 'paramedics are currently carrying out a number of hostages in <hashtag> martinpl . <hashtag> sydneysiege #<number>news',\n",
       " 'update : total of <number> people have been able to get out of sydney cafe during hostage situation : <url> <url>',\n",
       " 'hostage-taker in supermarket siege killed , reports say . <hashtag> parisattacks <url> <url>',\n",
       " 'breaking news  <allcaps> : at least <number> shots fired at ottawa war memorial . one soldier confirmed shot - <url> <url>',\n",
       " 'police have clarified that there were two shootings in ottawa today , not three : at the war memorial and parliament hill .',\n",
       " 'more : police believe three gunmen were involved in shootings in ottawa this morning and are looking for two shooters . <url>',\n",
       " 'update : <number> hostages inside sydney coffee shop near sydney opera house ; abbott will deliver a statement shortly . <hashtag> isisattacks <hashtag> sydneyseige',\n",
       " \"witness tells <hashtag> cbcnews suspected shooter of uniformed soldier at <hashtag> ottawa's war memorial was carrying rifle .\",\n",
       " 'oh . so now  <allcaps> the <hashtag> ferguson police chief says the cop didn\\'t know about the robbery when he stopped <hashtag> mikebrown . the kid was \"jaywalking\"? bs  <allcaps> !',\n",
       " 'coup in <hashtag> russia ? good article by <user> . <url> <hashtag> ramzankadyrov <hashtag> putin <hashtag> putindead <url>',\n",
       " '<hashtag> charliehebdo suspects \"prepared to die as martyrs\", they tell police after making contact - french media <url>',\n",
       " 'fbi assisting in the case of the ottawa shooting , sources have confirmed to ctv  <allcaps> news',\n",
       " 'all weekend ppl will be talking about the \"robbery\" instead of the shooting bc <hashtag> ferguson pd  <allcaps> didn\\'t release any info about the shooting .',\n",
       " 'rt <user> : r .i .p . ahmed merabet , a french <hashtag> muslim cop , first victim of <hashtag> charliehebdo attack <url>',\n",
       " \"at least <number> killed in today's attack on satirical magazine <hashtag> charliehebdo in paris , official says . <url>\",\n",
       " 'shoot unarmed kid .\\nconceal evidence .\\nimpose martial law .\\nharass reporters .\\nsmear the victim .\\nworst . police . ever .\\n<hashtag> ferguson <hashtag> mikebrown',\n",
       " '<hashtag> isis <allcaps> media account posts picture claiming to be michael zehaf-bibeau , dead <hashtag> ottawashooting suspect . <hashtag> canada <url>',\n",
       " '<number> <hashtag> charliehebdo cartoonists kille<smile>\\n\\n- charb\\n- cabu\\n- tignous\\n- georges wolinski\\n\\n<hashtag> jesuischarlie <url>',\n",
       " 'reports : <hashtag> charliehebdo suspects killed <url>',\n",
       " 'very reliable source on parliament hill tells me the assailant has been killed . <hashtag> cdnpoli <hashtag> ottnews',\n",
       " 'mike brown was staying with his grandmother for the summer , who lived in the community . <hashtag> ferguson',\n",
       " 'if we shot everyone in the street for stealing , imagine the carnage on wall st . <hashtag> mikebrown <hashtag> ferguson',\n",
       " 'breaking - shooting on parliament hill . rcmp  <allcaps> have weapons drawn <hashtag> cdnpoli <url>',\n",
       " 'breaking : <number> reportedly shot dead at paris hq  <allcaps> of french weekly charlie hebdo <url>',\n",
       " 'senior u .s . official : canadian government has informed u .s . that one shooter is dead in ottawa . live blog : <url>',\n",
       " 'a woman in <hashtag> ferguson was shot in head last night and released this selfie . conflicting reports of how it happene<smile> <url>',\n",
       " 'police convoy and helicopters are rushing to scene to detain charlie hebdo massacre suspects <url> <url>',\n",
       " 'hostage situation erupts in sydney cafe , australian prime minister says it may be \"politically motivated\" <url>',\n",
       " \"the canadian soldier killed in today's ottawa shooting is cpl . nathan cirillo , a family source told cnn  <allcaps> . live blog : <url>\",\n",
       " 'rural region of northern france searched in hunt for <hashtag> charliehebdo gunmen - latest updates <url> <url>',\n",
       " \"looks like every charlie hebdo cartoonist has been kille<smile> <number> charb - was on al-qaeda's hit list ; <number> cabu , <number> wolinski , <number> tignous\",\n",
       " 'more : official : gunman holding at least five hostages in paris market has threatened to kill them if police approach : <url>',\n",
       " 'uber sydney trips from cbd  <allcaps> will be free for riders . higher rates are still in place to encourage drivers to get into the cbd  <allcaps> .',\n",
       " 'details : the hostage site is lindt chocolat cafe near <hashtag> sydney harbor <url> <url>',\n",
       " 'this is shot that captures the <hashtag> sydneysiege : sheer terror / relief of escaped hostages , incredible work of <user> <url>',\n",
       " 'five hostages escape sydney cafe siege — live updates from <user> <url> <url>',\n",
       " 'snipers set up on national art gallery as we remain barricaded in centre block on parliament hill <hashtag> cdnpoli . <url>',\n",
       " 'afp reports there are <number> dead , and <number> hostages being held in the kosher store in eastern paris ; separate incident to charlie hebdo shooters .',\n",
       " \"<hashtag> ferguson police : officer involved in fatal shooting of michael brown didn't know he was suspect in alleged robbery . <url>\",\n",
       " 'flag in window of sydney lindt cafe not an isis  <allcaps> flag . reads : ‘there is no god but allah and muhammad is the messenger of god’ ( <user> )',\n",
       " 'banksy says <hashtag> jesuischarlie in a beautiful way (vi <user>) <url>',\n",
       " 'breaking : michael zehaf-bebeau had been designated \"high-risk traveller\" by cdn  <allcaps> govt , which confiscated his passport <url>',\n",
       " 'france : <number> people dead after shooting at hq  <allcaps> of satirical weekly newspaper <hashtag> charliehebdo , according to witnesses <url>',\n",
       " \"these are not timid colours ; soldiers back guarding tomb of unknown soldier after today's shooting <hashtag> standforcanada <url>\",\n",
       " 'breaking : three hostages appear to have escaped the sydney cafe where a siege remains ongoing . <url> <hashtag> sydneyseige',\n",
       " 'charlie hebdo shooting latest : <number> dead and gunmen still at large <url> <url>',\n",
       " 'breaking : two hostage situations in france are linked , paris prosecutor says',\n",
       " 'paris manhunt : <number> <hashtag> charliehebdo attackers with ak<number> rifles &amp ; reportedly rocket-propelled grenade still at large <url>',\n",
       " 'five hostages have escaped the besieged lindt cafe in <hashtag> sydney | our latest update : <url> <url>',\n",
       " \"prince in  <allcaps> toronto tonight  <allcaps> :\\n<user> tweeted this morning to say otnorot  <allcaps> calling , which is toronto backwards , obviously . <repeat> seems it's on !\",\n",
       " 'eleven dead in shooting at paris offices of satirical magazine charlie hebdo – live updates <url>',\n",
       " \"clarissa , <number> years old , police trainee of montrouge police in <hashtag> france . victim of this morning's attack . via <user> <url>\",\n",
       " \"prime minister tony abbott's statement on the <hashtag> sydneysiege . updates : <url> <url>\",\n",
       " 'paris says highest alert level extended north to region where attack suspects spotted - <user> , <user> <url>',\n",
       " 'we can see people coming out a firedoor near the lindt cafe to waiting police . <number><number> people . hard to see . <hashtag> sydneysiege',\n",
       " 'reports of shooting at dammartin en goele on route n<number> north east of paris - french media says car chase under way',\n",
       " \"the soldier shot dead in wednesday's ottawa attacks has been named as cpl . nathan cirillo of <hashtag> hamont <hashtag> ottawashooting <url>\",\n",
       " \"this afternoon we've lowered our flags to half mast in honour of the canadian reservist who lost his life in ottawa . <url>\",\n",
       " 'hero . <user> : kevin vickers , head of security in parliament , being credited for taking down shooter <hashtag> ottawa <url>\"',\n",
       " 'reminder : forget the robbery , forget the minor looting . nothing  <allcaps> justifies militarized police pointing sniper rifles at journalists <hashtag> ferguson',\n",
       " 'more : official : french terror suspects want to be martyrs ; are holed up with hostage north of paris : <url>',\n",
       " '<hashtag> mikebrown wanted to walk down the street . and he is dead . and the <hashtag> ferguson pd  <allcaps> is using his silence in death to make him a criminal .',\n",
       " \"it appears that <hashtag> ferguson pd  <allcaps> are trying to assassinate mike brown's character after literally assassinating mike brown .\",\n",
       " 'is <hashtag> prince in <hashtag> toronto ? rumours fly of surprise show . <repeat> <user> <url>',\n",
       " 'new link : <hashtag> ferguson police release video they say shows a robbery involving <hashtag> michaelbrown : <url> <url>',\n",
       " 'a man believed to be the gunman filmed wearing a black headband inside the cafe <url> <url>',\n",
       " 'police move  <allcaps> in : police confirm live ammunition used in martin place <hashtag> sydneysiege',\n",
       " 'update - afp  <allcaps> : an unnamed police source says the killing of the policewoman in <hashtag> paris on thursday is linked to the <hashtag> charliehebdo attack',\n",
       " 'urgent : darren wilson is the police officer who shot mike brown <url> <hashtag> ferguson <url>',\n",
       " 'police now say there were two shooting incidents in ottawa : one at the war memorial , the other on parliament hill . <url>',\n",
       " \"<hashtag> banksy's take on <hashtag> charliehebdo . <hashtag> jesuischarlie <hashtag> noussommescharlie <url>\",\n",
       " 'map shows industrial estate where <number> <hashtag> charliehebdo suspects are holed up , surrounded by police <url> <url>',\n",
       " \"<hashtag> breaking <allcaps> : hostages are being held and a siege is taking place at sydney's lindt chocolat cafe in martin place .\",\n",
       " 'breaking : one person seriously wounded , six taken hostage in incident at kosher supermarket in paris : police source',\n",
       " 'first photos  <allcaps> : hostage pressed against a window . <hashtag> sydneysiege <url>',\n",
       " '<hashtag> sydneysiege : latest video of hostages escaping .\\n<url>',\n",
       " 'this widely shared cartoon about the <hashtag> charliehebdo attack is actually by <user> and not <hashtag> banksy <url>',\n",
       " '<hashtag> ferguson pd  <allcaps> charged <hashtag> henrydavis w / \"destruction of property\" for bleeding on their uniforms : <url> <url>',\n",
       " 'us evacuated consulate in sydney after <hashtag> sydneysiege . emergency warning to u .s . citizens urging them to \"maintain high level of vigilance\".',\n",
       " 'hostage-taker at paris store demands release of <hashtag> kouachibrothers , police union spokesman says . <url> <url>',\n",
       " \"update : <hashtag> charliehebdo's editor-in-chief was killed in attack - magazine's lawyer <url>\",\n",
       " 'soldier killed in canada shooting was a young reservist with a six-year-old son <url> <url>',\n",
       " 'ottawa police service : there were \"numerous gunmen\" at the canada war memorial shooting . one person was shot . <url>',\n",
       " 'breaking update  <allcaps> : canadian soldier injured at parliament hill shooting dies <url> <hashtag> ottawa',\n",
       " \"putin reappears on television amid rumours his 'girlfriend' is about <number> give birth <url> <url> <user>\",\n",
       " 'coup ? rt  <allcaps> <user> : rumors all russian military attaches at embassy in london have returned to moscow : <url>',\n",
       " \"french police publishes photos of suspect in yesterday's montrouge shooting . maybe the same persons in kosher market <url>\",\n",
       " 'putin reappears on tv  <allcaps> amid claims he is unwell and under threat of coup <url> <url>',\n",
       " 'two shot in paris , including traffic cop , as manhunt continues for <hashtag> charliehebdo suspects <url> <url>',\n",
       " 'hostages in sydney cafe made to hold up islamic flags <url>',\n",
       " 'update : hostages fleeing <hashtag> sydney cafe held by iranian gunman as explosions , gunshots are hear<smile> <url>',\n",
       " 'several more hostages flee from cafe under siege in sydney , local media say <url>',\n",
       " 'on israeli tv  <allcaps> , an israeli woman speaks of her nephew ,a mother with <number> month old baby , held hostage in the supermarket in paris . <hashtag> jesuisjuif',\n",
       " '***exclusive*** michael zahaf-bibeau caught on a <hashtag> dashcam <allcaps> model sold at <url> <hashtag> ottawashooting <url>',\n",
       " 'people talking about stupid shit like government corruption and harassment when prince is in toronto smh',\n",
       " '<hashtag> breaking <allcaps> news : shots fired at parliament hill . follow developing story : <url> <url>',\n",
       " '<hashtag> rcmp <allcaps> to hold news conference on <hashtag> ottawa shootings at <number> pm et  <allcaps> , <number> am pt  <allcaps> . watch live coverage @ <url>',\n",
       " 'name of <hashtag> ferguson cop is expected to be released by <number> et  <allcaps> , police chief says : <url> (j .b . forbes , ap) <url>',\n",
       " 'ctv news confirms that canadian authorities have provided us  <allcaps> authorities with the name michael zehaf-bibeau in connection to ottawa shooting',\n",
       " 'sydney siege  <allcaps> : gunman forces hostages to hold up isis  <allcaps> flag in window <url> <url>',\n",
       " 'attack on parliament : soldier shot ; gunman on the loose . follow our developing story : <url> <url>',\n",
       " 'local media : <number> people appear to escape from martin place , sydney , café, amid hostage situation - <user> <url>',\n",
       " \"developing : gunman takes hostages in sydney cafe , 'isis' flags being held against window - <url> <url>\",\n",
       " 'sydney opera house evacuated , concourse deserted <url> <hashtag> sydneysiege (via <user>) <url>',\n",
       " '<hashtag> charliehebdo killers shot dead by police',\n",
       " 'i am still confused as to why these \"highly trained\" individuals left their id  <allcaps> in the getaway car . <hashtag> charliehebdo',\n",
       " 'police have surrounded this building where the suspected <hashtag> charliehebdo attackers are holed-up <url> <url>',\n",
       " 'update : gunman in kosher grocery store is demanding the release of the suspects in <hashtag> charliehebdo shooting - reports <url>',\n",
       " '<hashtag> breaking <allcaps> : police have confirmed that the <hashtag> sydneysiege is over . #<number>news',\n",
       " '<hashtag> sydneysiege <allcaps> : hostage-takers ‘have suicide belts , demand radio convo with <hashtag> abbott’ – report <url> <url>',\n",
       " 'secret prince show rumored for toronto tonight <url>',\n",
       " 'french police : said kouachi and cherif kouachi wanted in paris terror attack : <url> <url>',\n",
       " 'clearly prince is having a show in <hashtag> toronto <user> <hashtag> tdot <hashtag> gta <hashtag> prince <hashtag> concert <url>',\n",
       " \"breaking : at least <number> killed in shooting at french satirical newspaper charlie hebdo , paris prosecutor's office says . <url>\",\n",
       " 'prince is playing a secret show in toronto tonight . i will also be playing a secret show tonight involving pizza &amp ; netflix bingeing .',\n",
       " '<hashtag> breaking <allcaps> : at least two people have died following the <hashtag> sydneysiege . <number> people are being treated by paramedics .',\n",
       " 'stills from eyewitness video show two <hashtag> charliehebdo attackers wearing hoods &amp ; black clothing shoot a wounded man <url>',\n",
       " 'photos of alleged robbery involving michael brown in <hashtag> ferguson (via police) <url> <url>',\n",
       " 'hobby lobby asks <hashtag> ferguson pd  <allcaps> for clarification : \"we thought chopping off someone\\'s hand was the maximum penalty for shoplifting\"',\n",
       " 'escaped <hashtag> sydneysiege hostage , elly chen , a top student and skilled sportswoman <url> <url>',\n",
       " \"police stand guard as hostages are held in a cafe in sydney . follow afp's live  <allcaps> report : <url> <url>\",\n",
       " 'ac milan midfielder michael essien has been diagnosed with ebola . get well soon michael . [daily times] <url>',\n",
       " 'confirmed | <number> shooter shot dead at parliament hill , but there is more than <number> suspect . <hashtag> cbcott <hashtag> ottnews',\n",
       " '<hashtag> charliehebdo <allcaps> shooting  <allcaps> : gunmen shouted \\'we have avenged the prophet\" during attack - reports <url> <url>',\n",
       " \"here's the police report . somehow <hashtag> ferguson cops valued a box of swishers at nearly $<number> time to stop smokin i guess <url>\",\n",
       " 'we understand there are two gunmen and up to a dozen hostages inside the cafe under siege at sydney . <repeat> isis  <allcaps> flags remain on display #<number>news',\n",
       " 'according to seven , this is a picture of the gunman <url>',\n",
       " 'developing : police pursuing <hashtag> charliehebdo shooting suspects , helicopters deployed - live  <allcaps> fee<smile> <url> <url>',\n",
       " 'police in <hashtag> ferguson plan to release name of officer who shot unarmed teen michael brown : <url> <url>',\n",
       " \"canada's parliament building locked down after shooting ; at least one guard injure<smile> <url> photo : ap  <allcaps> <url>\",\n",
       " '<hashtag> update <allcaps> three men including two brothers identified in france newspaper attack : source <url> <hashtag> jesuischarlie <hashtag> charliehebdo',\n",
       " 'breaking : at least <number> shots have been fired in the canadian parliament in ottawa , according to witnesses .',\n",
       " \"here's that dramatic video via <user> of shots fired inside parliament building : <url> <hashtag> ottawa <hashtag> shooting\",\n",
       " 'police reports released this morning indicate mike brown was a suspect in a \"strong-armed\" robbery in <hashtag> ferguson',\n",
       " 'if there is surveillance of a robbery why release stills and not the video itself ? <hashtag> ferguson',\n",
       " 'breaking update  <allcaps> : gunman says four devices are located around sydney . security response underway . police calling for calm . <number>news',\n",
       " 'the other day i asked a manager at the <hashtag> ferguson market if police had requested surveillance video . she said no .',\n",
       " 'store owner told <user> monday that there was a theft , but said it was not michaelbrown ; said it was someone else <hashtag> ferguson',\n",
       " 'nsw police confirm <number> hostages have emerged from <hashtag> sydneysiege and they are negotiating : \"it might take a bit of time\" <url>',\n",
       " 'live updates : siege in sydney cafe <url>',\n",
       " \"what's so frustrating is that now we are talking about a robbery and not the killing of an unarmed kid . <hashtag> ferguson\",\n",
       " 'mps credit sergeant-at-arms for saving lives in parliament hill shootings\\n<url> <url>',\n",
       " 'breaking : gunman at paris store threatens to kill hostages if <hashtag> charliehebdo suspects are harmed . <url>',\n",
       " 'witness : police allegedly stopped mike brown after yelling at him to walk on sidewalk . <hashtag> ferguson <url>',\n",
       " 'update : <hashtag> ferguson police release stills from convenience store footage showing robbery <url> <url>',\n",
       " 'unconfirmed reports claim that michael essien has contracted ebola . <url>',\n",
       " \"nearly <number>k blacks were murdered last yr--almost all by other blacks . a tiny % were unarmed-killed-by-cop .\\nwhere's al , jesse ?\\n<hashtag> tcot <hashtag> ferguson\",\n",
       " 'hoppla ! <user> : swiss rumors : putin absence due to girlfriend alina giving birth in ticino <url> <url>',\n",
       " '<hashtag> breaking <allcaps> rick hughes at cbc  <allcaps> hamilton : \\n\\nthe soldier who was shot in ottawa wednesday morning is a reservist serving in hamilton',\n",
       " 'st . louis co police tell me ofcr shot a man who pointed handgun at him at chambers &amp ; sheffingdell at about <number> a .m . man in critical . <hashtag> ferguson',\n",
       " 'in response to inquiries , we can confirm that prince will not be performing at <user> tonight .',\n",
       " 'update : <number> now confirmed dead in <hashtag> charliehebdo attack in paris , <user> is reporting . story : <url> ( ap  <allcaps> ) <url>',\n",
       " 'breaking news  <allcaps> : new york times is reporting the canadian soldier who was shot has died from their injuries . heartbreaking . <hashtag> cdnpoli <hashtag> ableg',\n",
       " 'shooting in canadian parliament comes day after isis-inspired radical drove in<number> canadian soldier . also reports of shooting at war memorial / <number>',\n",
       " 'up to <number> held hostage in sydney lindt cafe siege <url> <url>',\n",
       " 'the day <hashtag> ferguson cops told a dirty , bloody lie (via <user><smile> <url> <url>',\n",
       " 'very good on <hashtag> putin coup by <user> : three scenarios for a succession in russia <url> via <user> <url>',\n",
       " \"canada's parliament hill is on lockdown as police hunt shooting suspect ; at least <number> injured - <user> , <user> <url>\",\n",
       " \"the gunman in ottawa has been shot and killed . i'm at a loss for words this morning . that isn't my canada .\",\n",
       " '<hashtag> breaking <allcaps> hostages held inside sydney cafe , islamic flag held up',\n",
       " 'the university of ottawa , just a five minute walk from the hill , is now on lockdown .',\n",
       " \"sydney airspace wasn't closed . a second terror suspect wasn't arrested . myths around <hashtag> sydneysiege debunked . <url>\",\n",
       " 'breaking charlie hebdo latest : <number> dead <number> wounded (five critical) two gunmen unaccounted for <url> <url>',\n",
       " '<hashtag> ottawa police confirm to <hashtag> cbcnews they are still seeking <number> or more suspects after shootings on parliament hill , war memorial , nearby mall .',\n",
       " 'question for <hashtag> ferguson police chief ? if officer  <allcaps> darren wilson  <allcaps> was in pursuit of a robbery suspect , why tell kids to get out of the road ? lie',\n",
       " 'breaking : at least <number> killed in <hashtag> paris hostage situation via <user> <url>',\n",
       " 'several people being held hostage at a sydney cafe . australian tv showing people with hands up against a window : <url>',\n",
       " 'report : <hashtag> ferguson police beat up wrong suspect then charged him for getting blood on uniforms in <number> <url>',\n",
       " \"how many white celebrities have been caught  <allcaps> shoplifting and end up dead in streets ? i'll wait . <hashtag> ferguson\",\n",
       " 'paris murder suspects cornered with hostage\\n<url>',\n",
       " 'the <hashtag> charliehebdo attack suspects have reportedly fired shots while robbing a petrol station <url> <url>',\n",
       " 'breaking : police enter <hashtag> lindt cafe , hostages flee <url> <hashtag> sydneysiege <url>',\n",
       " '<hashtag> charliehebdo - <number> dead including <number> police in paris shooting . photo <user> <hashtag> afp <allcaps> <url>',\n",
       " 'isis -holding a cafe hostage in sydney- forcing hostages to press isis  <allcaps> flags against the windows <hashtag> dramaalert hot  <allcaps> ! <url>',\n",
       " 'unformed russian embassy staff in london have left for russia rumours putin has  <allcaps> died ! <url> via <user> <hashtag> putindead ?',\n",
       " 'canadian authorities have given name of suspect in ottawa attacks to u .s . feds ; ask for fbi  <allcaps> assistance : sr u .s . law enforcement official',\n",
       " 'statement from ottawa hospital : received <number> patients . <number> in stable condition . <url>',\n",
       " 'remarkably , despite the military-style police presence in <hashtag> ferguson , a known killer was able to skip town <url>',\n",
       " 'car chase under way in paris as gunfight breaks out . reports of hostages . latest from paris : <url> <url>',\n",
       " '<hashtag> breaking <allcaps> - at least five hostages in paris kosher supermarket : ( afp  <allcaps> ) <url> <hashtag> vincennes <url>',\n",
       " \"<hashtag> breaking <allcaps> charlie hebdo gunmen's hostage freed and safe after police assault\",\n",
       " 'statement from prime minister tony abbott on sydney hostage situation . <url>',\n",
       " 'in what world do you let a cop who killed someone leave town ? <url> <hashtag> ferguson',\n",
       " 'sydney siege : police enter cafe as hostages flee the scene , gunfire heard , reports of an injured person – live <url>',\n",
       " 'this is the soldier who died today at the <hashtag> ottawa war memorial . his name is cpl . nathan cirillo . <hashtag> rip <allcaps> <hashtag> ottawastrong <url>',\n",
       " '<hashtag> breaking <allcaps> : <number> dead , several injured in shootout north-east of paris (french radio <user> ) <url> <hashtag> charliehebdo',\n",
       " 'breaking news  <allcaps> : according to documents released to the press , <hashtag> mikebrown was connected to an earlier robbery <hashtag> ferguson <url>',\n",
       " 'more : france : shooting , hostage-taking at kosher market in paris ; several reported wounde<smile> <url>',\n",
       " 'one person shot outside centre block , a second wounded inside the building in parliament hill shooting <url>',\n",
       " '<hashtag> ripnathancirillo\\n\\nrt <user> : soldier killed at war memorial identified as cpl . nathan cirillo <hashtag> ottawashooting <url>',\n",
       " 'more shots fired just off parliament hill . police telling everyone to take cover .',\n",
       " \"breaking : live coverage of hostage situation unfolding in sydney's martin place <url> <url>\",\n",
       " \"<hashtag> charliehebdo shooting suspects tell police they 'prepared to die as martyrs' - french media <url> <url>\",\n",
       " \"<hashtag> pmharper tweets 'canada's thoughts and prayers are with our australian friends .' <number><number> hostages held in cafe in <hashtag> sydney . <hashtag> sydneysiege\",\n",
       " '<number> confirmed dead , francois hollande to visit scene of attack - latest from paris : <url> <url>',\n",
       " 'ottawa police report a third shooting at rideau centre , no reports of injuries .',\n",
       " 'an <number>-month old baby is among the hostages at the kosher supermarket in paris . unbearably sad .\\n<url>',\n",
       " 'police confirm that <hashtag> sydneysiege is finally over . two people reportedly injured after suffering gunshot wounds <url>',\n",
       " 'reports now that <number>nd shooter has been shot in downtown ottawa <hashtag> ottnews',\n",
       " 'currently the <hashtag> foxnews website has zero , repeat , zero  <allcaps> coverage of the <hashtag> ferguson protests , probably due to lack of cowboy hats .',\n",
       " 'the sydney cafe siege may be part of a larger plot . <user> <hashtag> martinplacesiege <url> <url>',\n",
       " 'ottawa police issued a statement . three separate shooting incidents . once inside parliament . one at the war memorial . one at rideau centre',\n",
       " 'police : negotiators are now in contact with armed hostage-taker in sydney situation ; motive remains unknown - <url>',\n",
       " 'that was very \"slick\" of the police chief to create a narrative that <hashtag> mikebrown was a \"suspect\" in a robbery ! <hashtag> ferguson',\n",
       " 'is it true ? prince rumoured to be performing surprise show in toronto <url>',\n",
       " 'full statement from pm  <allcaps> abbott on <hashtag> sydneysiege <hashtag> martinplace <hashtag> lindt . <url>',\n",
       " 'update - afp  <allcaps> says gunman who has taken a hostage at kosher supermarket in paris believed to be suspect in killing of policewoman on thursday',\n",
       " 'urgent : <number> gunmen involved in deadly attack on <hashtag> charliehebdo - french interior minister <url> <hashtag> paris <url>',\n",
       " 'hostage taker in sydney cafe demands isis  <allcaps> flag and call with australian pm  <allcaps> , sky news reports . <url> <hashtag> sydneysiege',\n",
       " '<hashtag> sydneysiege is over . <number> confirmed dead , <hashtag> prayforsydney <hashtag> prayforsydneyhostages <hashtag> sydney <hashtag> hostages',\n",
       " 'several hostages freed at jewish supermarket in paris . photo thomas samson <hashtag> afp <allcaps> <url>',\n",
       " 'breaking alert  <allcaps> : preliminary reports indicate perpetrators appear to be members of <hashtag> isis <allcaps> . <hashtag> sydneysiege',\n",
       " 'police taking people out of <hashtag> paris grocery where hostages were being held . <url>',\n",
       " 'breaking : a source confirms to cp<number> that the deceased soldier in ottawa is cpl . nathan cirillo . cirillo was a member of the hamilton argylls',\n",
       " 'the last person killed in charlie hebdo attacks was muslim police officer <url> <url>',\n",
       " 'ray hadley says he spoke with hostage , and could hear the gunman in the background barking orders and demanding to go live on air',\n",
       " 'several hostages freed at jewish supermarket in paris . photo thomas samson <hashtag> afp <allcaps> <url>',\n",
       " 'our thoughts and prayers go out to nathan cirillo who died today in ottawa while protecting his country at age <number> <url>',\n",
       " 'breaking <user> : freed hostage borne high from <hashtag> sydneysiege w / c<number> paramedic teams on the scene <url> ( carsonscottli',\n",
       " \"shooter still on loose after uniformed soldier shot at <hashtag> ottawa's war memorial , across road from parliament . mp's being taken out of offices .\",\n",
       " \"tv channels have chosen not to show videos of hostages relaying <hashtag> sydneysiege gunman's demands . <url> <url>\",\n",
       " 'recap : gunman shot dead inside parliament buildings ; police believe there may be others on loose . cdn soldier shot earlier at war memorial .',\n",
       " 'gunman\\'s headband reads , \"we are your soldiers o muhammad\".\\n<hashtag> martinplace <hashtag> sydneysiege <url>',\n",
       " 'only photo i will tweet . cpr  <allcaps> being performed on the soldier now . i heard four shots . <hashtag> ottawa <url>',\n",
       " 'flight #<number>u<number> initially climbed to <number> feet before before it started to descend and lost signal at <number> feet . <url>',\n",
       " '<hashtag> germanwings \"sorry to confirm\" <number> passengers &amp ; <number> crew on board flight #<number>u<number> when it crashed in french alps <url>',\n",
       " 'just in  <allcaps> : germanwings plane crashes in southern france , up to <number> feared dead <url>',\n",
       " 'breaking : <number> passengers were on board <hashtag> germanwings airbus a<number> which has crashed in the southern french alps <url>',\n",
       " 'french junior minister for transport alain vidalies confirms they are no survivors in the <hashtag> germanwings <hashtag> a <allcaps><number> crash . <url>',\n",
       " 'now hearing <number> passengers + crew on board the <hashtag> a <allcaps><number> that has crashed in southern french alps . <hashtag> germanwings flight . <user>',\n",
       " 'accident aircraft looks to be germanwings (airline code <number>u or gwi) flight <number> barcelona to dusseldorf . #<number>u<number> <url>',\n",
       " '<hashtag> germanwings latest : <url>\\n- <hashtag> airbus a<number> crashes in french alps\\n- barcelona-to-dusseldorf flight\\n- <number> passengers &amp ; <number> crew',\n",
       " 'breaking : <number> feared dead in crashed <hashtag> germanwings flight <url>',\n",
       " '<hashtag> germanwings passenger plane crashes in french alps with <number> onboard <url> <url>',\n",
       " '<user> reporter james andré at french civil aviation authority hq  <allcaps> : \"<hashtag> germanwings plane did not  <allcaps> report distress signal\", no mayday .',\n",
       " 'german wings airline tweeting now about reports of plane crashing in french alps with <number> on boar<smile> <user> <url>',\n",
       " 'report : co-pilot locked out of cockpit before fatal plane crash <url> <hashtag> germanwings <url>',\n",
       " 'heart goes out to <number> passengers and crew of germanwings airbus a<number> that has crashed in french alps , southern france <url>',\n",
       " 'german news  <allcaps> report : co-pilot of germanwings airbus was muslim  <allcaps> convert …’hero of islamic state’? <url> via <user>',\n",
       " '#<number>u<number> took eight minutes to descend from <number> feet to impact , says germanwings ceo  <allcaps> winkelmann .',\n",
       " '<number> call : dgac  <allcaps> source says pilots called «urgence , urgence» (“emergency , emergency”) , as opposed to a mayday call or <number> squawk . #<number>u<number>',\n",
       " 'names of pilots rumored to be patrick sonderheimer with co-pilot andreas lubitz - no formal confirmation yet . <hashtag> germanwings',\n",
       " 'german news  <allcaps> : co-pilot of germanwings airbus was muslim  <allcaps> convert . can any muslim be trusted near an airplane now ?',\n",
       " \"#<number>u<number> from fl<number> to fl<number> in <number> min ? that's average rate of descent <number> fpm ! than levelled off at fl<number> ? what the hell was going on there ?\",\n",
       " 'germanwings airbus a<number> crashes in french alps near digne <url>',\n",
       " 'latest on <hashtag> germanwings crash : pilots signaled <number> before dropping out of midair ; airline ceo  <allcaps> calls this a \"dark day .\" <url>',\n",
       " \"rt <user> : german media reporting <hashtag> andreaslubitz had a 'serious depressive episode' six years ago <url> <hashtag> germanwings\",\n",
       " '#<number>u<number> robin names andreas lubitz as the copilot in the flight deck who crashed the aircraft .',\n",
       " 'germanwings passenger plane crashes in france : <url>']"
      ]
     },
     "execution_count": 34,
     "metadata": {},
     "output_type": "execute_result"
    }
   ],
   "source": [
    "X_tr_string"
   ]
  },
  {
   "cell_type": "code",
   "execution_count": 40,
   "metadata": {},
   "outputs": [],
   "source": [
    "def tokenizeText(x_raw):\n",
    "\n",
    "    x = x_raw.split(' ')\n",
    "    #x.remove('')\n",
    "\n",
    "    return x"
   ]
  },
  {
   "cell_type": "code",
   "execution_count": 41,
   "metadata": {},
   "outputs": [],
   "source": [
    "X_tr = [tokenizeText(x) for x in X_tr_string] ###############################\n",
    "X_dev = [tokenizeText(x) for x in X_dev_string] ################################ into token\n",
    "X_te = [tokenizeText(x) for x in X_te_string] ################################"
   ]
  },
  {
   "cell_type": "code",
   "execution_count": 96,
   "metadata": {},
   "outputs": [],
   "source": [
    "X_all = X_tr + X_dev + X_te\n",
    "\n",
    "def getVocab(X_all):\n",
    "    \n",
    "    count = 1\n",
    "    word2id = {}\n",
    "    for line in X_all:\n",
    "        for i in range(len(line)):\n",
    "            if line[i] not in word2id:\n",
    "                word2id[line[i]] = count\n",
    "                count += 1\n",
    "    word2id['<OOV>'] = count\n",
    "    return word2id\n"
   ]
  },
  {
   "cell_type": "code",
   "execution_count": 97,
   "metadata": {},
   "outputs": [],
   "source": [
    "word2id = getVocab(X_all)\n",
    "\n",
    "id2word = dict(zip(word2id.values(),word2id.keys()))"
   ]
  },
  {
   "cell_type": "code",
   "execution_count": 98,
   "metadata": {},
   "outputs": [
    {
     "data": {
      "text/plain": [
       "(1782, 200)"
      ]
     },
     "execution_count": 98,
     "metadata": {},
     "output_type": "execute_result"
    }
   ],
   "source": [
    "import zipfile\n",
    "w_glove = get_glove_embeddings(\"glove.twitter.27B.zip\",\"glove.twitter.27B.200d.txt\",word2id)\n",
    "\n",
    "w_glove.shape"
   ]
  },
  {
   "cell_type": "code",
   "execution_count": 99,
   "metadata": {},
   "outputs": [],
   "source": [
    "def toNumSeq(X_raw,vocab):\n",
    "  \n",
    "    doc = []\n",
    "  \n",
    "    for text in X_raw:\n",
    "        numSeq = []\n",
    "        for wrd in text:\n",
    "            if wrd in vocab:\n",
    "                numSeq += [vocab[wrd]]\n",
    "            else:\n",
    "                numSeq += [vocab['<OOV>']]\n",
    "        doc += [numSeq]\n",
    "  \n",
    "    return doc\n"
   ]
  },
  {
   "cell_type": "code",
   "execution_count": 100,
   "metadata": {},
   "outputs": [],
   "source": [
    "X_tr_num = toNumSeq(X_tr,word2id)############## num of sequence\n",
    "X_dev_num = toNumSeq(X_dev,word2id)############## num of sequence\n",
    "X_te_num = toNumSeq(X_te,word2id)############## num of sequence"
   ]
  },
  {
   "cell_type": "code",
   "execution_count": 109,
   "metadata": {},
   "outputs": [],
   "source": [
    "def num2vec(X_num, embedding):\n",
    "  \n",
    "    vec_list = []\n",
    "    for x in X_num:\n",
    "        vec = []\n",
    "        for num in x:\n",
    "            vec += [embedding[num]]\n",
    "        vec_list += [vec]\n",
    "  \n",
    "    return vec_list"
   ]
  },
  {
   "cell_type": "code",
   "execution_count": 110,
   "metadata": {},
   "outputs": [],
   "source": [
    "embedding_matrix = w_glove\n",
    "X_tr_vec = num2vec(X_tr_num, embedding_matrix)\n",
    "X_dev_vec = num2vec(X_dev_num, embedding_matrix)\n",
    "X_te_vec = num2vec(X_te_num, embedding_matrix)"
   ]
  },
  {
   "cell_type": "code",
   "execution_count": 111,
   "metadata": {},
   "outputs": [],
   "source": [
    "def avgZeroVec(X_tmp):\n",
    "    \n",
    "    X_vec = X_tmp\n",
    "    # this is the code to turn all-zeros vectors in X_vec into average vectors \n",
    "    for i in range(len(X_vec)):\n",
    "        for j in range(len(X_vec[i])):\n",
    "            if np.all(X_vec[i][j]==0):\n",
    "                X_vec[i][j] = sum(X_vec[i])/len(X_vec[i])\n",
    "    return X_vec"
   ]
  },
  {
   "cell_type": "code",
   "execution_count": 112,
   "metadata": {},
   "outputs": [],
   "source": [
    "X_tr_vec = avgZeroVec(X_tr_vec)\n",
    "X_dev_vec = avgZeroVec(X_dev_vec)\n",
    "X_te_vec = avgZeroVec(X_te_vec)"
   ]
  },
  {
   "cell_type": "code",
   "execution_count": 119,
   "metadata": {},
   "outputs": [],
   "source": [
    "def getRep(X_vec):\n",
    "    \n",
    "    X_rep = np.zeros((len(X_vec),200)) ####################################\n",
    "\n",
    "    for i in range(len(X_vec)): \n",
    "        #if X_vec[i]!=[]: # some tweets only contains mentions and url that were removed, so in X_vec, there are some [] array\n",
    "        X_rep[i] = sum(X_vec[i])/len(X_vec[i])\n",
    "    return X_rep"
   ]
  },
  {
   "cell_type": "code",
   "execution_count": 120,
   "metadata": {},
   "outputs": [],
   "source": [
    "X_tr_rep = getRep(X_tr_vec)\n",
    "X_dev_rep = getRep(X_dev_vec)\n",
    "X_te_rep = getRep(X_te_vec)"
   ]
  },
  {
   "cell_type": "code",
   "execution_count": 121,
   "metadata": {},
   "outputs": [],
   "source": [
    "#X_train = np.hstack((np.hstack((existence,qds_percentage)),ue_train)) ################# X_train : existence + qds_percent + userInfo\n",
    "y_train = np.array(str2no(y_train_string)) #################### y_train"
   ]
  },
  {
   "cell_type": "code",
   "execution_count": 122,
   "metadata": {
    "scrolled": true
   },
   "outputs": [],
   "source": [
    "#extract dev data\n",
    "\n",
    "dev_file = './rumoureval-2019-training-data/dev-key.json'\n",
    "f = json.load(open(dev_file, 'r'))\n",
    "\n",
    "source_tweets_dev = list(f['subtaskbenglish'].keys())\n",
    "y_dev_string = list(f['subtaskbenglish'].values())\n",
    "tweets_stances_dev = f['subtaskaenglish']\n",
    "\n",
    "# userInfoString = getUserInfo(source_tweets_dev,features,filePath)\n",
    "\n",
    "# existence = getExistence(source_tweets_dev, filePath)\n",
    "# qds_percentage = getPercentage(source_tweets_dev, tweets_stances_dev, filePath)\n",
    "# ue_dev = transferUserInfo(userInfoString)"
   ]
  },
  {
   "cell_type": "code",
   "execution_count": 123,
   "metadata": {},
   "outputs": [],
   "source": [
    "# X_dev = np.hstack((np.hstack((existence,qds_percentage)),ue_dev)) ################# X_dev\n",
    "# X_dev = scaler.transform(X_dev) ######################## normalize dev data\n",
    "y_dev = np.array(str2no(y_dev_string)) ################# y_dev"
   ]
  },
  {
   "cell_type": "code",
   "execution_count": 124,
   "metadata": {},
   "outputs": [],
   "source": [
    "#extract test data\n",
    "\n",
    "te_Path = './rumoureval-2019-test-data/twitter-en-test-data'\n",
    "\n",
    "f = json.load(open('./final-eval-key.json', 'r'))\n",
    "\n",
    "source_tweets_te = list(f['subtaskbenglish'].keys())\n",
    "y_te_string = list(f['subtaskbenglish'].values())\n",
    "tweets_stances_te = f['subtaskaenglish']\n",
    "\n",
    "# userInfoString = getUserInfo(source_tweets_te,features,te_Path)\n",
    "\n",
    "# existence = getExistence(source_tweets_te, te_Path)\n",
    "# qds_percentage = getPercentage(source_tweets_te, tweets_stances_te, te_Path)\n",
    "# ue_test = transferUserInfo(userInfoString)"
   ]
  },
  {
   "cell_type": "code",
   "execution_count": 125,
   "metadata": {},
   "outputs": [],
   "source": [
    "# X_te = np.hstack((np.hstack((existence,qds_percentage)),ue_test)) ################# X_te\n",
    "# X_te = scaler.transform(X_te)####################normalize test data\n",
    "y_te = np.array(str2no(y_te_string))"
   ]
  },
  {
   "cell_type": "code",
   "execution_count": 126,
   "metadata": {},
   "outputs": [],
   "source": [
    "X_train = X_tr_rep\n",
    "X_dev = X_dev_rep\n",
    "X_te = X_te_rep"
   ]
  },
  {
   "cell_type": "code",
   "execution_count": 127,
   "metadata": {},
   "outputs": [
    {
     "data": {
      "text/plain": [
       "CalibratedClassifierCV(base_estimator=LinearSVC(C=10000, max_iter=100000),\n",
       "                       cv='prefit')"
      ]
     },
     "execution_count": 127,
     "metadata": {},
     "output_type": "execute_result"
    }
   ],
   "source": [
    "clf = svm.LinearSVC(multi_class='ovr', C=10000, max_iter=100000)\n",
    "clf.fit(X=X_train, y=y_train)\n",
    "sig_clf = CalibratedClassifierCV(clf,method='sigmoid', cv='prefit')\n",
    "sig_clf.fit(X_dev,y_dev)"
   ]
  },
  {
   "cell_type": "code",
   "execution_count": 128,
   "metadata": {},
   "outputs": [],
   "source": [
    "sig_clf_probs = sig_clf.predict_proba(X_te) \n",
    "\n",
    "y_hat = sig_clf.predict(X_te) ######################### predicted label as 3 classes"
   ]
  },
  {
   "cell_type": "code",
   "execution_count": 129,
   "metadata": {},
   "outputs": [
    {
     "data": {
      "text/plain": [
       "array([2, 2, 1, 1, 1, 1, 0, 0, 0, 0, 1, 1, 0, 0, 0, 0, 1, 1, 1, 1, 1, 1,\n",
       "       1, 1, 0, 1, 2, 0, 1, 1, 1, 1, 1, 1, 1, 1, 1, 1, 1, 1, 2, 1, 0, 0,\n",
       "       0, 0, 0, 0, 0, 0, 0, 0, 1, 1, 1, 1])"
      ]
     },
     "execution_count": 129,
     "metadata": {},
     "output_type": "execute_result"
    }
   ],
   "source": [
    "y_hat"
   ]
  },
  {
   "cell_type": "code",
   "execution_count": 130,
   "metadata": {},
   "outputs": [
    {
     "data": {
      "text/plain": [
       "array([2, 2, 2, 2, 2, 2, 1, 1, 1, 2, 1, 1, 1, 0, 1, 1, 1, 1, 1, 1, 2, 2,\n",
       "       1, 2, 1, 1, 2, 1, 1, 2, 2, 1, 2, 2, 1, 2, 1, 1, 1, 0, 0, 1, 1, 1,\n",
       "       0, 1, 2, 1, 1, 1, 1, 2, 2, 2, 2, 2])"
      ]
     },
     "execution_count": 130,
     "metadata": {},
     "output_type": "execute_result"
    }
   ],
   "source": [
    "y_te"
   ]
  },
  {
   "cell_type": "code",
   "execution_count": 131,
   "metadata": {},
   "outputs": [],
   "source": [
    "clf_confidence = [sig_clf_probs[i][y_hat[i]] for i in range(len(y_hat))]"
   ]
  },
  {
   "cell_type": "code",
   "execution_count": 134,
   "metadata": {},
   "outputs": [
    {
     "name": "stdout",
     "output_type": "stream",
     "text": [
      "accuracy: 0.23214285714285715\n",
      "RMSE: 0.867699641574008\n",
      "Macro averaged F1 socre: 0.2324487107095803\n"
     ]
    }
   ],
   "source": [
    "score,rmse,macroF,y_pred = scorer(y_te,y_hat,clf_confidence) # F-score is ill-defined and being set to 0.0 in labels with no predicted samples\n",
    "print('accuracy:', score)\n",
    "print('RMSE:', rmse)\n",
    "print('Macro averaged F1 socre:', macroF)"
   ]
  },
  {
   "cell_type": "code",
   "execution_count": 135,
   "metadata": {},
   "outputs": [
    {
     "name": "stdout",
     "output_type": "stream",
     "text": [
      "[[ 3  1  0]\n",
      " [18 12  0]\n",
      " [ 8 13  1]]\n",
      "              precision    recall  f1-score   support\n",
      "\n",
      "           0       0.10      0.75      0.18         4\n",
      "           1       0.46      0.40      0.43        30\n",
      "           2       1.00      0.05      0.09        22\n",
      "\n",
      "    accuracy                           0.29        56\n",
      "   macro avg       0.52      0.40      0.23        56\n",
      "weighted avg       0.65      0.29      0.28        56\n",
      "\n"
     ]
    }
   ],
   "source": [
    "from sklearn.metrics import confusion_matrix\n",
    "from sklearn.metrics import classification_report\n",
    "import matplotlib.figure\n",
    "print(confusion_matrix(y_te,y_pred))\n",
    "print(classification_report(y_te,y_pred))"
   ]
  },
  {
   "cell_type": "code",
   "execution_count": 136,
   "metadata": {},
   "outputs": [],
   "source": [
    "clf_confidence = np.zeros(y_hat.shape) ##################### confidence value for each piece of prediction\n",
    "\n",
    "for i in range(len(y_hat)):\n",
    "    if y_hat[i]!=0:\n",
    "        clf_confidence[i] = sig_clf_probs[i][y_hat[i]]\n",
    "    else:\n",
    "        if sig_clf_probs[i][1]>=sig_clf_probs[i][2]:\n",
    "            clf_confidence[i] = sig_clf_probs[i][1]\n",
    "            y_hat[i] = 1\n",
    "        else:\n",
    "            clf_confidence[i] = sig_clf_probs[i][2]\n",
    "            y_hat[i] = 2"
   ]
  },
  {
   "cell_type": "code",
   "execution_count": 137,
   "metadata": {},
   "outputs": [
    {
     "data": {
      "text/plain": [
       "array([2, 2, 1, 1, 1, 1, 2, 2, 2, 1, 1, 1, 1, 2, 1, 1, 1, 1, 1, 1, 1, 1,\n",
       "       1, 1, 2, 1, 2, 1, 1, 1, 1, 1, 1, 1, 1, 1, 1, 1, 1, 1, 2, 1, 2, 2,\n",
       "       2, 2, 1, 2, 2, 2, 2, 1, 1, 1, 1, 1])"
      ]
     },
     "execution_count": 137,
     "metadata": {},
     "output_type": "execute_result"
    }
   ],
   "source": [
    "y_hat ###################### after processing, y_hat should only contains 2 classes"
   ]
  },
  {
   "cell_type": "code",
   "execution_count": 138,
   "metadata": {},
   "outputs": [
    {
     "data": {
      "text/plain": [
       "array([2, 2, 2, 2, 2, 2, 1, 1, 1, 2, 1, 1, 1, 0, 1, 1, 1, 1, 1, 1, 2, 2,\n",
       "       1, 2, 1, 1, 2, 1, 1, 2, 2, 1, 2, 2, 1, 2, 1, 1, 1, 0, 0, 1, 1, 1,\n",
       "       0, 1, 2, 1, 1, 1, 1, 2, 2, 2, 2, 2])"
      ]
     },
     "execution_count": 138,
     "metadata": {},
     "output_type": "execute_result"
    }
   ],
   "source": [
    "y_te"
   ]
  },
  {
   "cell_type": "code",
   "execution_count": 139,
   "metadata": {},
   "outputs": [],
   "source": [
    "def scorer2017(y_truth, y_hat, confidence): # rumourEval 2019 version of scorer\n",
    "#@ Param:  y_truth: a list of true labels\n",
    "#          y_hat: a list of predicted y values\n",
    "#          confidence: a list of confidence values related to y_hat\n",
    "# Return: accuracy score, RMSE and Macro averaged F1 score\n",
    "    \n",
    "    correct = 0\n",
    "    total = len(y_hat)\n",
    "    errors = []\n",
    "    \n",
    "    for i in range(total):\n",
    "        \n",
    "        if y_hat[i] == y_truth[i] and y_truth[i]!=0:\n",
    "            correct += 1\n",
    "            errors += [(1-confidence[i])**2]\n",
    "\n",
    "        elif y_hat[i] == 0:\n",
    "            errors += [ (confidence[i])**2 ]\n",
    "\n",
    "        else:\n",
    "            errors += [1.0]\n",
    "    \n",
    "    score = correct / total\n",
    "    rmse = math.sqrt( sum(errors) / len(errors) )\n",
    "    macroF = f1_score(y_truth, y_hat, average='macro')\n",
    "\n",
    "    return score,rmse,macroF"
   ]
  },
  {
   "cell_type": "code",
   "execution_count": 140,
   "metadata": {},
   "outputs": [],
   "source": [
    "def scorer(y_truth, y_hat, confidence): # rumourEval 2019 version of scorer\n",
    "#@ Param:  y_truth: a list of true labels\n",
    "#          y_hat: a list of predicted y values\n",
    "#          confidence: a list of confidence values related to y_hat\n",
    "# Return: accuracy score, RMSE and Macro averaged F1 score\n",
    "    \n",
    "    correct = 0\n",
    "    total = len(y_hat)\n",
    "    errors = []\n",
    "    y_pred = []\n",
    "    \n",
    "    for i in range(total):\n",
    "        if confidence[i]>0.5:\n",
    "                y_pred += [y_hat[i]]\n",
    "        else:\n",
    "                y_pred += [0]   \n",
    "        \n",
    "        if y_pred[i] == y_truth[i] and y_truth[i]!=0:\n",
    "            correct += 1\n",
    "            errors += [(1-confidence[i])**2]\n",
    "\n",
    "        elif y_truth[i] == 0:\n",
    "            errors += [ (confidence[i])**2 ]\n",
    "\n",
    "        else:\n",
    "            errors += [1.0]\n",
    "    \n",
    "    score = correct / total\n",
    "    rmse = math.sqrt( sum(errors) / len(errors) )\n",
    "    macroF = f1_score(y_truth, y_pred, average='macro')\n",
    "\n",
    "    return score,rmse,macroF"
   ]
  },
  {
   "cell_type": "code",
   "execution_count": 141,
   "metadata": {
    "scrolled": true
   },
   "outputs": [
    {
     "name": "stdout",
     "output_type": "stream",
     "text": [
      "accuracy: 0.23214285714285715\n",
      "RMSE: 0.8610516435711412\n",
      "Macro averaged F1 socre: 0.2324487107095803\n"
     ]
    }
   ],
   "source": [
    "score,rmse,macroF = scorer(y_te,y_hat,clf_confidence) # F-score is ill-defined and being set to 0.0 in labels with no predicted samples\n",
    "print('accuracy:', score)\n",
    "print('RMSE:', rmse)\n",
    "print('Macro averaged F1 socre:', macroF)"
   ]
  },
  {
   "cell_type": "code",
   "execution_count": 124,
   "metadata": {},
   "outputs": [],
   "source": [
    "GaussianNB?"
   ]
  },
  {
   "cell_type": "code",
   "execution_count": 142,
   "metadata": {},
   "outputs": [
    {
     "name": "stdout",
     "output_type": "stream",
     "text": [
      "accuracy: 0.14285714285714285\n",
      "RMSE: 0.9118233326420381\n",
      "Macro averaged F1 socre: 0.1613965744400527\n"
     ]
    }
   ],
   "source": [
    "clf = GaussianNB()\n",
    "clf.fit(X=X_train, y=y_train)\n",
    "sig_clf = CalibratedClassifierCV(clf,method='sigmoid', cv='prefit')\n",
    "sig_clf.fit(X_dev,y_dev)\n",
    "\n",
    "sig_clf_probs = sig_clf.predict_proba(X_te) \n",
    "\n",
    "y_hat = sig_clf.predict(X_te) ######################### predicted label as 3 classes\n",
    "\n",
    "clf_confidence = np.zeros(y_hat.shape) ##################### confidence value for each piece of prediction\n",
    "\n",
    "for i in range(len(y_hat)):\n",
    "    if y_hat[i]!=0:\n",
    "        clf_confidence[i] = sig_clf_probs[i][y_hat[i]]\n",
    "    else:\n",
    "        if sig_clf_probs[i][1]>=sig_clf_probs[i][2]:\n",
    "            clf_confidence[i] = sig_clf_probs[i][1]\n",
    "            y_hat[i] = 1\n",
    "        else:\n",
    "            clf_confidence[i] = sig_clf_probs[i][2]\n",
    "            y_hat[i] = 2\n",
    "\n",
    "score,rmse,macroF = scorer(y_te,y_hat,clf_confidence) # F-score is ill-defined and being set to 0.0 in labels with no predicted samples\n",
    "print('accuracy:', score)\n",
    "print('RMSE:', rmse)\n",
    "print('Macro averaged F1 socre:', macroF)"
   ]
  },
  {
   "cell_type": "code",
   "execution_count": 150,
   "metadata": {},
   "outputs": [
    {
     "name": "stdout",
     "output_type": "stream",
     "text": [
      "accuracy: 0.25\n",
      "RMSE: 0.8633125523952021\n",
      "Macro averaged F1 socre: 0.17969746673956624\n"
     ]
    }
   ],
   "source": [
    "clf = RandomForestClassifier(n_estimators=2000)\n",
    "clf.fit(X=X_train, y=y_train)\n",
    "sig_clf = CalibratedClassifierCV(clf,method='sigmoid', cv='prefit')\n",
    "sig_clf.fit(X_dev,y_dev)\n",
    "\n",
    "sig_clf_probs = sig_clf.predict_proba(X_te) \n",
    "\n",
    "y_hat = sig_clf.predict(X_te) ######################### predicted label as 3 classes\n",
    "\n",
    "clf_confidence = np.zeros(y_hat.shape) ##################### confidence value for each piece of prediction\n",
    "\n",
    "for i in range(len(y_hat)):\n",
    "    if y_hat[i]!=0:\n",
    "        clf_confidence[i] = sig_clf_probs[i][y_hat[i]]\n",
    "    else:\n",
    "        if sig_clf_probs[i][1]>=sig_clf_probs[i][2]:\n",
    "            clf_confidence[i] = sig_clf_probs[i][1]\n",
    "            y_hat[i] = 1\n",
    "        else:\n",
    "            clf_confidence[i] = sig_clf_probs[i][2]\n",
    "            y_hat[i] = 2\n",
    "\n",
    "score,rmse,macroF = scorer(y_te,y_hat,clf_confidence) # F-score is ill-defined and being set to 0.0 in labels with no predicted samples\n",
    "print('accuracy:', score)\n",
    "print('RMSE:', rmse)\n",
    "print('Macro averaged F1 socre:', macroF)"
   ]
  },
  {
   "cell_type": "code",
   "execution_count": 128,
   "metadata": {},
   "outputs": [
    {
     "name": "stdout",
     "output_type": "stream",
     "text": [
      "accuracy: 0.08928571428571429\n",
      "RMSE: 0.9386747663761195\n",
      "Macro averaged F1 socre: 0.07575757575757575\n"
     ]
    },
    {
     "name": "stderr",
     "output_type": "stream",
     "text": [
      "C:\\Users\\Shawn\\Anaconda3\\envs\\mlai19\\lib\\site-packages\\sklearn\\metrics\\classification.py:1437: UndefinedMetricWarning: F-score is ill-defined and being set to 0.0 in labels with no predicted samples.\n",
      "  'precision', 'predicted', average, warn_for)\n"
     ]
    }
   ],
   "source": [
    "clf = svm.LinearSVC(multi_class='ovr', C=500, max_iter=100000)\n",
    "clf.fit(X=X_train, y=y_train)\n",
    "sig_clf = CalibratedClassifierCV(clf,method='sigmoid', cv='prefit')\n",
    "sig_clf.fit(X_dev,y_dev)\n",
    "\n",
    "sig_clf_probs = sig_clf.predict_proba(X_te) \n",
    "\n",
    "y_hat = sig_clf.predict(X_te) ######################### predicted label as 3 classes\n",
    "\n",
    "clf_confidence = np.zeros(y_hat.shape) ##################### confidence value for each piece of prediction\n",
    "\n",
    "for i in range(len(y_hat)):\n",
    "    if y_hat[i]!=0:\n",
    "        clf_confidence[i] = sig_clf_probs[i][y_hat[i]]\n",
    "    else:\n",
    "        if sig_clf_probs[i][1]>=sig_clf_probs[i][2]:\n",
    "            clf_confidence[i] = sig_clf_probs[i][1]\n",
    "            y_hat[i] = 1\n",
    "        else:\n",
    "            clf_confidence[i] = sig_clf_probs[i][2]\n",
    "            y_hat[i] = 2\n",
    "\n",
    "score,rmse,macroF = scorer(y_te,y_hat,clf_confidence) # F-score is ill-defined and being set to 0.0 in labels with no predicted samples\n",
    "print('accuracy:', score)\n",
    "print('RMSE:', rmse)\n",
    "print('Macro averaged F1 socre:', macroF)"
   ]
  },
  {
   "cell_type": "code",
   "execution_count": null,
   "metadata": {},
   "outputs": [],
   "source": []
  }
 ],
 "metadata": {
  "kernelspec": {
   "display_name": "Python 3",
   "language": "python",
   "name": "python3"
  },
  "language_info": {
   "codemirror_mode": {
    "name": "ipython",
    "version": 3
   },
   "file_extension": ".py",
   "mimetype": "text/x-python",
   "name": "python",
   "nbconvert_exporter": "python",
   "pygments_lexer": "ipython3",
   "version": "3.7.3"
  }
 },
 "nbformat": 4,
 "nbformat_minor": 2
}
